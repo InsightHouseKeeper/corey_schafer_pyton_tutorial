{
 "cells": [
  {
   "attachments": {},
   "cell_type": "markdown",
   "id": "f4b7e114-f73e-4116-80c2-e215f5757969",
   "metadata": {
    "jp-MarkdownHeadingCollapsed": true
   },
   "source": [
    "# Python Tutorial for Beginners\n",
    "* 1\tPython Tutorial  for Beginners 1: Install and Setup for Mac and Windows\n",
    "* 2\tPython Tutorial  for Beginners 2: Strings - Working with Textual Data\n",
    "* 3\tPython Tutorial  for Beginners 3: Integers and Floats - Working with Numeric Data\n",
    "* 4\tPython Tutorial  for Beginners 4: Lists, Tuples, and Sets\n",
    "* 5\tPython Tutorial  for Beginners 5: Dictionaries - Working with Key-Value Pairs\n",
    "* 6\tPython Tutorial  for Beginners 6: Conditionals and Booleans - If, Else, and Elif Statements\n",
    "* 7\tPython Tutorial  for Beginners 7: Loops and Iterations - For/While Loops\n",
    "* 8\tPython Tutorial  for Beginners 8: Functions\n",
    "* 9\tPython Tutorial  for Beginners 9: Import Modules and Exploring The Standard Library"
   ]
  },
  {
   "cell_type": "code",
   "execution_count": null,
   "id": "07f837d3-d3e6-48f1-aa72-cdc5def2ea1e",
   "metadata": {},
   "outputs": [],
   "source": [
    "#2. Working with str\n",
    "# str methods\n",
    "# string formttings\n",
    "# dir()\n",
    "# help()\n",
    "#------------------\n",
    "\n",
    "# import math\n",
    "\n",
    "# msg = \"   HelloWrold   \"\n",
    "# phone = \"222345888\"\n",
    "# pi = str(math.pi)\n",
    "# text = \"hello/world/python\"\n",
    "\n",
    "# text.partition(\"/\")\n",
    "# text.split(\"/\")\n",
    "# msg.rstrip(\"HWd\")"
   ]
  },
  {
   "cell_type": "code",
   "execution_count": null,
   "id": "95819773-23cc-4133-a42c-5ecaf7534928",
   "metadata": {},
   "outputs": [],
   "source": [
    "#3. Working with numeric data: int, float\n",
    "# Arithmetic operations\n",
    "# Comparison\n",
    "# Casting\n",
    "#----------------------\n",
    "\n",
    "# num = 5\n",
    "# if num % 2 == 0:\n",
    "#     print(\"Even\")\n",
    "# else:\n",
    "#     print(\"Odd\")\n",
    "\n",
    "# str(num)"
   ]
  },
  {
   "cell_type": "code",
   "execution_count": null,
   "id": "6cb10566-e0a7-4563-a94a-ed945d51118b",
   "metadata": {},
   "outputs": [],
   "source": [
    "#4. Lists, Tuples, and Sets\n",
    "# indexing\n",
    "# methods and fun\n",
    "# mutable vs. immutable\n",
    "# loop\n",
    "# init\n",
    "#-------------------------\n",
    "\n",
    "# courses = ['Hist', 'Math', 'Phy', 'CS']\n",
    "# courses2 = ['CHE', 'Art']\n",
    "# nums = [1,2,3,4,5]\n",
    "\n",
    "# courses.insert(0, 'Art')\n",
    "# courses.append('Art2')\n",
    "# courses.extend(courses2)\n",
    "# courses.remove('Hist')\n",
    "# popped = courses.pop()\n",
    "# print(popped)\n",
    "# print(courses)\n",
    "\n",
    "# for i in range(len(courses)):\n",
    "#     courses.pop()\n",
    "#     print(courses)\n",
    "\n",
    "# courses.reverse()\n",
    "# courses.sort()\n",
    "# courses.reverse()\n",
    "# courses.sort(reverse=True)\n",
    "# sorted_courses = sorted(courses) #not inplace\n",
    "\n",
    "# min(nums)\n",
    "# max(nums)\n",
    "# sum(nums)\n",
    "\n",
    "# x = 1\n",
    "# for num in nums:\n",
    "#     x *= num\n",
    "# print(x)\n",
    "\n",
    "# courses.index('DS')\n",
    "# 'CS' in courses\n",
    "\n",
    "# for item in courses:\n",
    "#     print(item)\n",
    "\n",
    "# for index, course in enumerate(courses, start=0):\n",
    "#     print(index, course)\n",
    "\n",
    "# course_str = ' / '.join(courses)\n",
    "# new_lst = course_str.split(' / ')\n",
    "# print(new_lst)\n",
    "\n",
    "# #tuple, immutable\n",
    "# list1 = ['Hist', 'Math', 'Phy', 'CS']\n",
    "# list2 = list1\n",
    "# list1[0] = 'SOC' #ref-type, mutable\n",
    "# print(list2)\n",
    "\n",
    "# tup1 = ('Hist', 'Math', 'Phy', 'CS')\n",
    "# tup2 = tup1\n",
    "# lst_from_tup = [i+'2' for i in tup1]\n",
    "# lst_from_tup\n",
    "\n",
    "# #Set, no duplicates, order is not matter\n",
    "# cs_courses = {'Hist', 'Math', 'Phy', 'CS'}\n",
    "# art_courses = {'Hist', 'Math', 'Art', 'Design'}\n",
    "# bCourse = 'Math' in cs_courses\n",
    "# cs_courses.intersection(art_courses)\n",
    "# cs_courses.union(art_courses)\n",
    "\n",
    "# #init list, tuple, set,...and dict\n",
    "# lst1 = []\n",
    "# lst2 = list()\n",
    "\n",
    "# tup1 = ()\n",
    "# tup2 = tuple()\n",
    "\n",
    "# set1 = set() #dict's key\n",
    "\n",
    "# course_titles = set([\"CS\", \"Phy\", \"SOC\"])\n",
    "# course_enrolls = [20,25,30]\n",
    "# courses = dict(zip(course_titles, course_enrolls))\n",
    "# courses\n"
   ]
  },
  {
   "cell_type": "code",
   "execution_count": null,
   "id": "d32843af-1420-4b6d-b6ec-667dbee16cc2",
   "metadata": {},
   "outputs": [],
   "source": [
    "#5. Dictionary\n",
    "student = {'name': 'John', 'age': 25, 'courses':['Math', 'CS']}\n",
    "\n",
    "# student['address']\n",
    "# print(student.get('address', 'Not Found'))\n",
    "\n",
    "# student['phone'] ='555-555-5555'\n",
    "# student['name'] = 'Jane'\n",
    "\n",
    "# student.update({'name':'Jane', 'age':26, 'phone':'555-5555'})\n",
    "# student\n",
    "\n",
    "# del student['age']\n",
    "# print(student)\n",
    "\n",
    "# age = student.pop('age')\n",
    "# print(age)\n",
    "\n",
    "# len(student)\n",
    "# student.keys()\n",
    "# student.values()\n",
    "# student.items()\n",
    "\n",
    "# for key in student:\n",
    "#     print(key)\n",
    "\n",
    "# for key, value in student.items():\n",
    "#     print(value)\n",
    "\n",
    "\n",
    "#Ex.\n",
    "# names = ['Lee', 'Kim', 'John', 'Robert']\n",
    "# years = [2020,2020, 2022, 2023]\n",
    "# courses = [['CS','Math'],['Math','Art'],['Phy','SOC'],['BIO','SOC']]\n",
    "# dEnrollment = dict(Name=names, Year=years, Course=courses)\n",
    "\n",
    "# for key, value in dEnrollment.items():\n",
    "#     print(key,value)"
   ]
  },
  {
   "cell_type": "code",
   "execution_count": null,
   "id": "b558f9eb-9b50-404f-aebd-634f8446814b",
   "metadata": {},
   "outputs": [],
   "source": [
    "#6. Conditionals and Booleans - If, Else, and Elif Statements\n",
    "\n",
    "# user_input = 'c++'\n",
    "# language = user_input.split('_')[0]\n",
    "# if language.lower() == 'python' :\n",
    "#     print('It is python')\n",
    "# elif \"java\" in language.lower():\n",
    "#     print('It is java')\n",
    "# else:\n",
    "#     print('not match')\n",
    "\n",
    "# num1 = 1234\n",
    "# num2 = num1\n",
    "# print(num1 == 1234)\n",
    "# print(num1 == num2)\n",
    "# print(num1 is num2) #same ids: same obj in memory\n",
    "# print(id(num1))\n",
    "# print(id(num2))\n",
    "\n",
    "# user = 'Admin'\n",
    "# bLogged_in = False\n",
    "# if user == 'Admin' and bLogged_in:\n",
    "#     print('Admin Page, Welcome')\n",
    "# elif bLogged_in == False:\n",
    "#     print('Account is not logged in, please log in')\n",
    "# else:\n",
    "#     print('Invalid access')\n",
    "\n",
    "# lst1 = [1,2,3]\n",
    "# lst2 = [1,2,3]\n",
    "# lst3 = lst1\n",
    "# print(lst1 == lst2)\n",
    "# print(lst2 is lst3)\n",
    "# print(lst3 is lst1)\n",
    "# print(id(lst1))\n",
    "# print(id(lst3))\n",
    "# print(id(lst2))\n",
    "\n",
    "#False values:\n",
    "    # False\n",
    "    # None\n",
    "    # Zero\n",
    "    # empty sequences\n",
    "    # empty mapping\n",
    "\n",
    "# condition = [0]\n",
    "# if condition:\n",
    "#     print('Evaluated to True')\n",
    "# else:\n",
    "#     print('Evaluated to False')\n",
    "\n",
    "# lst1 = []\n",
    "# if lst1:\n",
    "#     print(\"filled\")\n",
    "# else:\n",
    "#     print(\"empty\")"
   ]
  },
  {
   "cell_type": "code",
   "execution_count": null,
   "id": "41d2ba4c-6753-4b27-a88a-84328b2433b2",
   "metadata": {},
   "outputs": [],
   "source": [
    "# 7: Loops and Iterations - For/While Loops\n",
    "\n",
    "nums = [1,2,3,4,5]\n",
    "\n",
    "# for num in nums:\n",
    "#     if num == 3:\n",
    "#         print('Found it!')\n",
    "#         break #break out of the for-loop\n",
    "#     print(num)\n",
    "\n",
    "# for num in nums:\n",
    "#     if num == 3:\n",
    "#         print('Found it!')\n",
    "#         continue\n",
    "#     print(num)\n",
    "\n",
    "# for num in nums:\n",
    "#     for letter in 'abc':\n",
    "#         print(num,letter)\n",
    "\n",
    "# for i in range(1,11):\n",
    "#     print(i)\n",
    "\n",
    "# x = 0\n",
    "# while True:\n",
    "#     if x == 3:\n",
    "#         print('found it!')\n",
    "#         break\n",
    "#     print(x)\n",
    "#     x += 1\n",
    "\n",
    "\n",
    "# numbers = range(1,14)\n",
    "# suits = ['C','S','D','H']\n",
    "\n",
    "# cards = []\n",
    "# for suit in suits:\n",
    "#     for num in nums:\n",
    "#         card = str(num) + suit\n",
    "#         cards.append(card)\n",
    "# print(cards)\n",
    "\n",
    "# for num in reversed(range(8)):\n",
    "#     if num % 2 == 1:\n",
    "#         msg = num * '*'\n",
    "#         result = msg.center(8)\n",
    "#         print(result)\n",
    "\n",
    "# for num in range(4,16):\n",
    "#     if num % 2 == 0:\n",
    "#         result = (num*'*').center(16)\n",
    "#         print(result)\n",
    "\n",
    "for i in range(4):\n",
    "    mgs = '* * * *'\n",
    "    print(mgs)"
   ]
  },
  {
   "cell_type": "code",
   "execution_count": null,
   "id": "e042d86b-27cf-4753-89b3-813e609dfafa",
   "metadata": {},
   "outputs": [],
   "source": [
    "#Functions: for repetition, keep it code dry\n",
    "\n",
    "# def print_hello():\n",
    "#     msg = \"Hello\"\n",
    "#     print(msg)\n",
    "#     print(msg)\n",
    "#     print(msg)\n",
    "#     print(msg)\n",
    "# print_hello()\n",
    "\n",
    "# def print_hello():\n",
    "#     return \"Hello\" #data type\n",
    "# print(len(print_hello()))\n",
    "\n",
    "# def print_hello(greeting, *,name='YOU'):\n",
    "#     msg = f'Say: {greeting}, {name}'\n",
    "#     return msg\n",
    "# print_hello('hi', name='Kim')\n",
    "\n",
    "# def get_studentinfo(*args, **kwargs):\n",
    "#     print(args)\n",
    "#     print(kwargs)\n",
    "\n",
    "# courses = ['Math','Art']\n",
    "# info = dict(name=\"John\",age=22)\n",
    "# get_studentinfo(*courses, **info)\n",
    "\n",
    "# #Ex)\n",
    "# monthly_days = [0,31,28,31,30,31,30,31,31,30,31,30,31]\n",
    "\n",
    "# def get_bLeap(year):\n",
    "#     \"\"\"Return True for leap years\"\"\"\n",
    "#     bLeap = year % 4 == 0 and (year % 100 != 0 or year % 400 == 0)\n",
    "#     return bLeap\n",
    "\n",
    "# def get_days_amonth(year, month):\n",
    "#     \"\"\"Return #days in a month, year\"\"\"\n",
    "#     if not 1 <= month <= 12:\n",
    "#         return 'Invalid month'\n",
    "#     elif month == 2 and get_bLeap(year):\n",
    "#         return 29\n",
    "#     else:\n",
    "#         return monthly_days[month]\n",
    "\n",
    "# days_in_feb = [(i,2,get_days_amonth(i,2)) for i in range(2020,2029)]\n",
    "# days_in_feb"
   ]
  },
  {
   "cell_type": "code",
   "execution_count": null,
   "id": "f1972d4b-b540-4381-b25d-8e2c749bde81",
   "metadata": {},
   "outputs": [],
   "source": [
    "#9. Import Modules and Explor The Standard Library, add \"environment variables in Windows OS\"\n",
    "\n",
    "import test_module as tm \n",
    "from test_module import find_index, test\n",
    "\n",
    "import sys\n",
    "#sys.path.append('the dir I want to add')\n",
    "\n",
    "courses = ['Hist','Math','Phy','CS']\n",
    "\n",
    "# print(tm.find_index(courses,'CS'))\n",
    "# print(find_index(courses, 'Phy'))\n",
    "# print(test)\n",
    "\n",
    "print(sys.path)\n",
    "\n",
    "#standard modules/libraries\n",
    "import random\n",
    "import math\n",
    "import datetime, calendar\n",
    "import os\n",
    "\n",
    "# courses = ['Hist','Math','Phy','CS']\n",
    "\n",
    "# random_course = random.choice(courses)\n",
    "# print(random_course)\n",
    "\n",
    "# rads = math.radians(90)\n",
    "# print(rads)\n",
    "\n",
    "# today = datetime.date.today()\n",
    "# print(today)\n",
    "# print(calendar.isleap(2020))\n",
    "\n",
    "# print(os.getcwd())\n",
    "# print(os.__file__)\n",
    "# path =\"C:\\\\Users\\\\WKIM\\\\AppData\\\\Local\\\\miniconda3\\\\lib\" \n",
    "# print(os.listdir(path))\n",
    "# for file in os.listdir(path):\n",
    "#     if '.py' in file:\n",
    "#         print(file)\n",
    "\n",
    "\n",
    "# import antigravity\n"
   ]
  },
  {
   "cell_type": "markdown",
   "id": "27254760-c8d4-48c1-bb2f-42562bf576cf",
   "metadata": {},
   "source": [
    "***"
   ]
  },
  {
   "attachments": {},
   "cell_type": "markdown",
   "id": "c6de4a4a-ffc6-4f68-8161-d0be44370085",
   "metadata": {
    "jp-MarkdownHeadingCollapsed": true
   },
   "source": [
    "# Setting Up Python Development Environment\n",
    "* 10\tSetting up a Py  thon Development Environment in Sublime Text\n",
    "* 11\tSetting up a Py  thon Development Environment in Atom\n",
    "* 12\tSetting up a Py  thon Development Environment in Eclipse"
   ]
  },
  {
   "cell_type": "code",
   "execution_count": null,
   "id": "4d590228-af28-437e-afb2-d1732ed3c731",
   "metadata": {},
   "outputs": [],
   "source": [
    "#pass"
   ]
  },
  {
   "cell_type": "code",
   "execution_count": null,
   "id": "bb17539b-ac33-4957-82ba-fbffc01ffa07",
   "metadata": {},
   "outputs": [],
   "source": [
    "#pass"
   ]
  },
  {
   "cell_type": "code",
   "execution_count": null,
   "id": "e1d1d093-1496-4da8-9f64-5e12e58c00e5",
   "metadata": {},
   "outputs": [],
   "source": [
    "#pass"
   ]
  },
  {
   "attachments": {},
   "cell_type": "markdown",
   "id": "36c5b43f-a24d-4f91-9f3c-30f9969f53c2",
   "metadata": {},
   "source": [
    "# Python Tutorial\n",
    "\n",
    "* 13\tPython Tutorial  : pip- in-depth look at the package management system\n",
    "* 14\tPython Tutorial  : virtualenv and why you should use virtual environments\n",
    "* 15\tPython Tutorial  : An aconda - Installation and Using Conda\n",
    "* 16\tPython Tutorial  : How I Manage Multiple Projects, Virtual Environments, and Environment Variables\n",
    "* 17\tJupyter Notebook Tutorial: Introduction, Setup, and Walkthrough\n",
    "* 18\tPython Tutorial  : Variable Scope - Understanding the LEGB rule and global/nonlocal statements\n",
    "* 19\tPython Tutorial  : Slicing Lists and Strings\n",
    "* 20\tPython Tutorial  : Comprehensions - How they work and why you should be using them\n",
    "* 21\tPython Tutorial  : Sorting Lists, Tuples, and Objects\n",
    "* 22\tPython Tutorial  : String Formatting - Advanced Operations for Dicts, Lists, Numbers, and Dates\n",
    "* 23\tPython Tutorial  : OSModule - Use Underlying Operating System Functionality\n",
    "* 24\tPython Tutorial  : Datetime Module - How to work with Dates, Times, Timedeltas, and Timezones\n",
    "* 25\tPython Tutorial  : File Objects - Reading and Writing to Files\n",
    "* 26\tPython Tutorial  : Automate Parsing and Renaming of Multiple Files\n",
    "* 27\tPython Tutorial  : Generate Random Numbers and Data Using the random Module\n",
    "* 28\tPython Tutorial  : CSV Module - How to Read, Parse, and Write CSV Files\n",
    "* 29\tPython Tutorial  : Real World Example - Parsing Names From a CSV to an HTML List\n",
    "* 30\tPython Tutorial  : re Module - How to Write and Match Regular Expressions (Regex)\n",
    "* 31\tPython Tutorial  : Using Try/Except Blocks for Error Handling\n",
    "* 32\tPython Tutorial  : Duck Typing and Asking Forgiveness, Not Permission (EAFP)\n",
    "* 33\tPython Tutorial  : How to Set the Path and Switch Between Different Versions/Executables (Windows)\n",
    "* 34\tPython Tutorial  : How to Set the Path and Switch Between Different Versions/Executables (Mac & Linux)\n",
    "* 35\tPython Quick Tip: F-Strings - How to Use Them and Advanced String Formatting\n",
    "* 36\tPython Tutorial  : Generators - How to use them and the benefits you receive\n",
    "* 37\tPython Tutorial  : Decorators - Dynamically Alter The Functionality Of Your Functions\n",
    "* 38\tPython Tutorial  : Decorators With Arguments\n",
    "* 39\tPython Tutorial  : Namedtuple - When and why should you use namedtuples?\n",
    "* 46\tPython Tutorial  : Web Scraping with BeautifulSoup and Requests\n",
    "* 47\tPython Tutorial  : Working with JSON Data using the json Module\n",
    "* 48\tPython Tutorial  : Calculate Number of Days, Weeks, or Months to Reach Specific Goals\n",
    "* 49\tPython Tutorial  : Context Managers - Efficiently Managing Resources\n",
    "* 50\tPython Tutorial  : str() vs repr()\n",
    "* 51\tPython SQLite Tutorial: Complete Overview - Creating a Database, Table, and Running Queries\n",
    "* 52\tPython Tutorial  : Logging Basics - Logging to Files, Setting Levels, and Formatting\n",
    "* 53\tPython Tutorial  : Logging Advanced - Loggers, Handlers, and Formatters\n",
    "* 54\tPython Quick Ti  p: Hiding Passwords and Secret Keys in Environment Variables (Mac & Linux)\n",
    "* 55\tPython Quick Ti  p: Hiding Passwords and Secret Keys in Environment Variables (Windows)\n",
    "* 56\tPython Tutorial  : if __name__ == '__main__'\n",
    "* 57\tPython Tutorial  : Unit Testing Your Code with the unittest Module\n",
    "* 58\tPython Tutorial  : Pipenv - Easily Manage Packages and Virtual Environments\n",
    "* 59\tPreparing for a  Python Interview: 10 Things You Should Know\n",
    "* 60\tPython Tutorial  : Else Clauses on Loops\n",
    "* 61\tPython Tutorial  : Image Manipulation with Pillow\n",
    "* 62\tPython Tutorial  : Custom Sublime Text Build Systems\n",
    "* 63\tPython: Ex Machina Easter Egg - Hidden Message within the Code\n",
    "* 76\tPython Tutorial  : Sets - Set Methods and Operations to Solve Common Problems\n",
    "* 90\tPython Tutorial  : Iterators and Iterables - What Are They and How Do They Work?\n",
    "* 92\tPython Tutorial  : Itertools Module - Iterator Functions for Efficient Looping\n",
    "* 101\tPython Tutorial  : Write a Script to Monitor a Website, Send Alert Emails, and Reboot Servers\n",
    "* 102\tPython Tutorial  : Web Scraping with Requests-HTML\n",
    "* 105\tPython Tutorial  : VENV (Mac & Linux) - How to Use Virtual Environments with the Built-In venv Module\n",
    "* 106\tPython Tutorial  : VENV (Windows) - How to Use Virtual Environments with the Built-In venv Module\n",
    "* 122\tPython Tutorial  : Calling External Commands Using the Subprocess Module\n",
    "* 123\tPython Quick Tip: The Difference Between \"==\" and \"is\" (Equality vs Identity)\n",
    "* 127\tPython Tutorial  : Zip Files - Creating and Extracting Zip Archives\n",
    "* 139\tPython Tutorial  : Real World Example - Using Patreon API and Pillow to Automate Image Creation\n",
    "* 144\tPython Tutorial  : Simulate the Powerball Lottery Using Python\n",
    "* 146\tPython Tutorial  : Securely Manage Passwords and API Keys with DotEnv\n",
    "* 149\tPython Tutorial  : Pathlib - The Modern Way to Handle File Paths\n",
    "* 109\tPython Tutorial  : Clarifying the Issues with Mutable Default Arguments"
   ]
  },
  {
   "cell_type": "markdown",
   "id": "00908644-a93a-40cb-b807-e15a215b948d",
   "metadata": {
    "jp-MarkdownHeadingCollapsed": true
   },
   "source": [
    "## 17. Jupyter notebook: environment settings, magic commands, markdown\n",
    "* magic commands: https://ipython.readthedocs.io/en/stable/interactive/tutorial.html#magics-explained\n",
    "* markdown: https://commonmark.org/\n",
    "* jupyter notebook\n",
    "    * sample exercises, play ground: https://github.com/jupyter/jupyter/wiki#entire-books-or-other-large-collections-of-notebooks-on-a topic\n",
    "    * `ipython` -> `jupyter` "
   ]
  },
  {
   "cell_type": "code",
   "execution_count": null,
   "id": "9bd0d84b-d638-4f51-a29e-73443c48bb00",
   "metadata": {},
   "outputs": [],
   "source": [
    "# print(\"Hello world!\")\n",
    "\n",
    "# name = 'John'\n",
    "# print(id(name))\n",
    "# name2 = name\n",
    "# print(id(name))"
   ]
  },
  {
   "cell_type": "code",
   "execution_count": null,
   "id": "02ec591e-ba66-490f-8a71-e890c94e25e3",
   "metadata": {},
   "outputs": [],
   "source": [
    "#JupyterNB magic methods: batch commands, functional commands\n",
    "# https://ipython.readthedocs.io/en/stable/interactive/tutorial.html#magics-explained\n",
    "%lsmagic\n",
    "%pwd\n",
    "%ls \n",
    "\n",
    "%%time\n",
    "squre_events = [n*n for n in range(1000)]\n",
    "\n",
    "%%timeit\n",
    "squre_events = [n*n for n in range(1000)]"
   ]
  },
  {
   "cell_type": "code",
   "execution_count": null,
   "id": "9e7fbc42-d65e-4785-9a3e-f36eb00a78f0",
   "metadata": {},
   "outputs": [],
   "source": [
    "import numpy as np\n",
    "import matplotlib.pyplot as plt\n",
    "\n",
    "#%matplotlib inline\n",
    "\n",
    "N = 50\n",
    "x = np.random.rand(N)\n",
    "y = np.random.rand(N)\n",
    "colors = np.random.rand(N)\n",
    "area = np.pi * (15 * np.random.rand(N))**2\n",
    "\n",
    "plt.scatter(x,y, s=area, c=colors, alpha=0.5)\n",
    "plt.show()"
   ]
  },
  {
   "cell_type": "code",
   "execution_count": null,
   "id": "ebc14e40-f33c-4c46-be44-48d9a1d97bd1",
   "metadata": {},
   "outputs": [],
   "source": [
    "%%HTML\n",
    "\n",
    "<iframe width=\"560\" height=\"315\" src=\"https://youtube.com/embed/HW29067qVWk?feature=shared\" frameborder=\"0\" allowfullscreen></iframe>"
   ]
  },
  {
   "cell_type": "code",
   "execution_count": null,
   "id": "03b67c2f-e6aa-420d-9c4e-02a8f9fdc01b",
   "metadata": {},
   "outputs": [],
   "source": [
    "import pandas as pd\n",
    "import numpy as np\n",
    "\n",
    "df = pd.DataFrame(np.random.randn(10,5))\n",
    "df #print in readable form"
   ]
  },
  {
   "cell_type": "markdown",
   "id": "f1245a89-6a60-4e09-a492-fda1f794ad4b",
   "metadata": {
    "jp-MarkdownHeadingCollapsed": true
   },
   "source": [
    "## 18. Variable Scope\n",
    "* Understanding the LEGB(Local, Enclosing, Global, Built-in) rule\n",
    "* global/nonlocal statements"
   ]
  },
  {
   "cell_type": "code",
   "execution_count": null,
   "id": "0333f4dc-c094-48db-af6b-7b1978d5f6d3",
   "metadata": {},
   "outputs": [],
   "source": [
    "# x = 'global x'\n",
    "\n",
    "# def print_test(x,y,z='default'):\n",
    "#     if not isinstance(x, int): \n",
    "#         raise ValueError('x must be an integer')\n",
    "#     if not isinstance(y, int): \n",
    "#         raise ValueError('y must be an int')\n",
    "#     if not isinstance(z, str): \n",
    "#         raise ValueError('z must be an str')\n",
    "#     result = f'({z}, {x**y})'\n",
    "\n",
    "#     print(result)\n",
    "\n",
    "# print_test(2,4,'str1')"
   ]
  },
  {
   "cell_type": "code",
   "execution_count": null,
   "id": "a75d7a62-e7c4-4c03-8fdb-16323ce0ce4f",
   "metadata": {},
   "outputs": [],
   "source": [
    "# import builtins\n",
    "# #print(dir(builtins))\n",
    "\n",
    "# def my_min():\n",
    "#     print(\"my min()\")\n",
    "\n",
    "# m = min([5,4,1,2,3,7])\n",
    "# print(m)\n",
    "# my_min()"
   ]
  },
  {
   "cell_type": "code",
   "execution_count": null,
   "id": "167326c7-3cd2-40a2-bd99-48283f792675",
   "metadata": {},
   "outputs": [],
   "source": [
    "#inner x can refer global x\n",
    "x = 'global x'\n",
    "\n",
    "def get_outer():\n",
    "    # global x\n",
    "    # x = 'outer x'\n",
    "\n",
    "    def get_inner():\n",
    "        # nonlocal x\n",
    "        # x = 'inner x'\n",
    "        print(x)\n",
    "\n",
    "    get_inner()\n",
    "    print(x)\n",
    "    \n",
    "get_outer()\n",
    "print(x)"
   ]
  },
  {
   "cell_type": "code",
   "execution_count": null,
   "id": "2dd8a959-8f55-4914-9750-00cdd76d151b",
   "metadata": {},
   "outputs": [],
   "source": [
    "# best practice: Define explcit variable names!\n",
    "# (global, outer, inner) x (dtypes)"
   ]
  },
  {
   "cell_type": "markdown",
   "id": "9f302030-8767-429f-91fa-fbb7cb729de4",
   "metadata": {},
   "source": [
    "***"
   ]
  },
  {
   "cell_type": "markdown",
   "id": "43c9565d-4a73-4ffd-bb7d-674ba4163d90",
   "metadata": {
    "jp-MarkdownHeadingCollapsed": true
   },
   "source": [
    "## 19. Slicing lists and str; shallowcopy/deepcopy"
   ]
  },
  {
   "cell_type": "code",
   "execution_count": null,
   "id": "2e6dc225-dc6e-484d-a0c0-13b20f8dd339",
   "metadata": {},
   "outputs": [],
   "source": [
    "#Slicing list\n",
    "nums = [0, 1, 2, 3, 4, 5, 6, 7, 8, 9]\n",
    "#       0, 1, 2, 3, 4, 5, 6, 7, 8, 9\n",
    "#     -10,-9,-8,-7,-6,-5,-4,-3,-2,-1\n",
    "\n",
    "# print(nums[0:5])\n",
    "# print(nums[0:5:2])\n",
    "# print(nums[2:-1:2]) #step!\n",
    "# print(nums[-1:2:-1]) #reverse indexing\n",
    "\n",
    "# reversed_nums = nums[::-1]\n",
    "# reversed_nums[1:len(reversed_nums):2]\n",
    "\n",
    "# even_index_items = []\n",
    "# for i in range(0,len(nums),2):\n",
    "#     even_index_items.append(nums[i])\n",
    "# print(even_index_items)\n",
    "#----------------------------------------\n",
    "#Slicing str\n",
    "sample_url = 'http://coreyms.com'\n",
    "\n",
    "# print(sample_url)\n",
    "# print(sample_url[::-1])\n",
    "# print(sample_url[-4:])\n",
    "\n",
    "print(sample_url[7:-4])"
   ]
  },
  {
   "cell_type": "code",
   "execution_count": null,
   "id": "8c5e5562-9bde-40eb-be6a-08889dd892ee",
   "metadata": {},
   "outputs": [],
   "source": [
    "# #shallow copy, deep copy: It affects more on obj not list\n",
    "# import copy\n",
    "# nums = [0,1,2,3,4,5]\n",
    "\n",
    "# print(f'id(nums): {id(nums)}')\n",
    "\n",
    "# equals = nums #reference\n",
    "# print(f'id(equals): {id(equals)}')\n",
    "# shallows = copy.copy(nums) #shallow copy\n",
    "# print(f'id(shallows): {id(shallows)}')\n",
    "# deeps = copy.deepcopy(nums) #deep copy\n",
    "# print(f'id(deeps): {id(deeps)}')\n",
    "# print(\"\")\n",
    "\n",
    "# print(f'id(nums[0]):  {hex(id(nums[0]))}')\n",
    "# print(f'id(equals[0]): {hex(id(equals[0]))}')\n",
    "# print(f'id(shallows[0]): {hex(id(shallows[0]))}')\n",
    "# print(f'id(deeps[0]): {hex(id(deeps[0]))}')\n",
    "\n",
    "\n",
    "#It affects obj/class\n",
    "import copy\n",
    "\n",
    "class Car:\n",
    "    def __init__(self, name, colors):\n",
    "        self.name = name\n",
    "        self.colors = colors\n",
    "\n",
    "# Create a Honda car object\n",
    "honda_colors = [\"Red\", \"Blue\"]\n",
    "honda = Car(\"Honda\", honda_colors)\n",
    "\n",
    "# Deepcopy of Honda\n",
    "deepcopy_honda = copy.deepcopy(honda)\n",
    "deepcopy_honda.colors.append(\"Green\")\n",
    "print(\"Deepcopy:\", deepcopy_honda.colors)\n",
    "print(\"Original:\", honda.colors)\n",
    "print(\"\")\n",
    "\n",
    "# Shallow Copy of Honda\n",
    "copy_honda = copy.copy(honda)\n",
    "copy_honda.colors.append(\"Green\")\n",
    "print(\"Shallow Copy:\", copy_honda.colors)\n",
    "print(\"Original:\", honda.colors)"
   ]
  },
  {
   "cell_type": "markdown",
   "id": "36b47a06-dc17-46f7-af29-c1b9d6f6dc33",
   "metadata": {},
   "source": [
    "***"
   ]
  },
  {
   "cell_type": "markdown",
   "id": "eea26dcc-7f96-4837-ae0d-6f2841bdd3cb",
   "metadata": {
    "jp-MarkdownHeadingCollapsed": true
   },
   "source": [
    "## 20. Comprehensions of list and dict"
   ]
  },
  {
   "cell_type": "code",
   "execution_count": null,
   "id": "5eef8468-89e3-4a9e-8667-69b7e2be6413",
   "metadata": {},
   "outputs": [],
   "source": [
    "nums = [1,2,3,4,5,6,7,8,9,10]\n",
    "\n",
    "# lst1 = []\n",
    "# for i in nums:\n",
    "#     lst1.append(i)\n",
    "# print(lst1)\n",
    "\n",
    "# lst2 = [i for i in nums]\n",
    "# print(lst2)\n",
    "\n",
    "# lst1 = []\n",
    "# for n in nums:\n",
    "#     lst1.append(n*n)\n",
    "# print(lst1)\n",
    "\n",
    "# lst2 = [n*n for n in nums]\n",
    "# print(lst2)\n",
    "\n",
    "# lst3 = list(map(lambda n: n*n, nums)) #anonymous function lambda\n",
    "# print(lst1)\n",
    "\n",
    "# lst1 = []\n",
    "# for n in nums:\n",
    "#     if n%2 == 0:\n",
    "#         lst1.append(n)\n",
    "# print(lst1)\n",
    "\n",
    "# lst2 = [n for n in nums if n%2 == 0]\n",
    "# print(lst2)\n",
    "\n",
    "# lst3 = list(filter(lambda n: n%2 == 0, nums))\n",
    "# lst3\n",
    "\n",
    "# lst1 = []\n",
    "# for char in 'abcd':\n",
    "#     for num in range(4):\n",
    "#         lst1.append((char,num))\n",
    "# print(lst1)\n",
    "\n",
    "# lst2 = [(char,num) for char in 'abcd' for num in range(4)]\n",
    "# print(lst2)\n",
    "\n",
    "# chars = list('abcd')\n",
    "# nums = range(4)\n",
    "# list(zip(chars,nums))"
   ]
  },
  {
   "cell_type": "code",
   "execution_count": null,
   "id": "964c49fd-b03c-4e89-970f-dbbbd5211ba5",
   "metadata": {},
   "outputs": [],
   "source": [
    "#Dict comprehension\n",
    "key_names = ['Brue', 'Clark', 'Peter', 'Logan', 'Wade']\n",
    "value_heros = ['Batman', 'Superman', 'Spiderman', 'Wolverine', 'Deadpool']\n",
    "\n",
    "dict1 = dict(zip(key_names,value_heros))\n",
    "print(dict1)\n",
    "\n",
    "dict2 = {name:hero for name, hero in zip(key_names,value_heros) if name != \"Peter\"}\n",
    "print(dict2)"
   ]
  },
  {
   "cell_type": "code",
   "execution_count": null,
   "id": "84e0f8bf-1ed0-4ca6-bd03-3ce1778e9d18",
   "metadata": {},
   "outputs": [],
   "source": [
    "#Set comprehension\n",
    "nums = [1,1,2,1,3,4,5,5,6,7,8,7,9,9]\n",
    "\n",
    "set1 = set()\n",
    "for n in nums:\n",
    "    set1.add(n)\n",
    "print(set1)\n",
    "\n",
    "set2 = {n for n in nums}\n",
    "print(set2)"
   ]
  },
  {
   "cell_type": "code",
   "execution_count": null,
   "id": "832c92fd-057f-4b98-8f98-d20ff0299f6e",
   "metadata": {},
   "outputs": [],
   "source": [
    "#generator expression: 'yield', stop at 1st iteration\n",
    "\n",
    "nums = range(1,11)\n",
    "\n",
    "def SquareNums(nums):\n",
    "    for n in nums:\n",
    "        yield n*n\n",
    "\n",
    "gen1 = SquareNums(nums) #iterable obj\n",
    "for i in gen1:\n",
    "    print(i)"
   ]
  },
  {
   "cell_type": "code",
   "execution_count": null,
   "id": "d507a1dc-f129-4a65-9e9c-3f4cc4222f06",
   "metadata": {},
   "outputs": [],
   "source": [
    "gen2 = (n*n for n in nums)\n",
    "for i in gen2:\n",
    "    print(i)"
   ]
  },
  {
   "cell_type": "markdown",
   "id": "75cfe57e-df32-4dd9-b5af-d1b52cd5d13c",
   "metadata": {},
   "source": [
    "***"
   ]
  },
  {
   "cell_type": "markdown",
   "id": "4877a33e-f7b5-449e-a7dc-f1118430f392",
   "metadata": {
    "jp-MarkdownHeadingCollapsed": true
   },
   "source": [
    "## 21. Sorting Lists, Tuples, and Objects"
   ]
  },
  {
   "cell_type": "code",
   "execution_count": null,
   "id": "96266791-fb7e-48f5-92b1-cdd8ecade805",
   "metadata": {},
   "outputs": [],
   "source": [
    "import random\n",
    "\n",
    "nums = [round(random.gauss(0.0,1.0),3) for i in range(10)]\n",
    "sorted_nums = sorted(nums) #function returns\n",
    "print(nums)\n",
    "print(sorted_nums)\n",
    "nums.sort(reverse=True) #method replaces\n",
    "print(nums)\n",
    "print(\"\")\n",
    "\n",
    "tup1 = (9,1,8,2,7,3,6,4,5)\n",
    "sorted_tup2 = sorted(tup1, reverse=True) #Tuple only has function, not method.\n",
    "print(tup1)\n",
    "print(sorted_tup2)\n",
    "print(\"\")\n",
    "\n",
    "key_names = ['Brue', 'Clark', 'Peter', 'Logan', 'Wade']\n",
    "value_heros = ['Batman', 'Superman', 'Spiderman', 'Wolverine', 'Deadpool']\n",
    "dict1 = dict(zip(key_names,value_heros))\n",
    "print(dict1)\n",
    "print(sorted(dict1)) #sorted keys\n",
    "print(\"\")\n",
    "\n",
    "# Qz: Set a list of weights from std normal dist, and sort the list in absolute and descending order\n",
    "weights = [round(random.gauss(0.0,1.0),3) for i in range(10)]\n",
    "sorted_weights = sorted(weights, key=abs, reverse=True)\n",
    "print(sorted_weights)"
   ]
  },
  {
   "cell_type": "code",
   "execution_count": null,
   "id": "da3c50f4-e979-4d47-8f04-f6396f2c746d",
   "metadata": {},
   "outputs": [],
   "source": [
    "# Ex) Build class-obj of employee, set a list of emps, and sort by key\n",
    "class Employee():\n",
    "    def __init__(self,name,age,salary):\n",
    "        self.name = name\n",
    "        self.age = age\n",
    "        self.salary = salary\n",
    "\n",
    "    def __repr__(self):\n",
    "        return f'({self.name},{self.age},${self.salary})'\n",
    "\n",
    "def GetSalary(emp):\n",
    "    return emp.salary\n",
    "\n",
    "e1 = Employee('Carl', 37, 70_000)\n",
    "e2 = Employee('Sarah', 29, 80_000)\n",
    "e3 = Employee('John', 43, 90_000)\n",
    "employees = [e1,e2,e3]\n",
    "print(employees)\n",
    "\n",
    "#3 ways to set key\n",
    "sorted_emp_salaries = sorted(employees, key=GetSalary, reverse=True) #1. build func\n",
    "# sorted_emp_salaries = sorted(employees, key=lambda emp: emp.salary, reverse=True) #2. lambda func\n",
    "print(sorted_emp_salaries)\n",
    "\n",
    "from operator import attrgetter #3. import method\n",
    "sorted_emp_ages = sorted(employees, key=attrgetter('age'), reverse=True)\n",
    "print(sorted_emp_ages)"
   ]
  },
  {
   "cell_type": "markdown",
   "id": "234637f5-cdb9-4786-b965-e24d0c9922c4",
   "metadata": {},
   "source": [
    "***"
   ]
  },
  {
   "cell_type": "markdown",
   "id": "69bb53c8-ed74-4479-9e31-941f85f35c13",
   "metadata": {
    "jp-MarkdownHeadingCollapsed": true
   },
   "source": [
    "## 22. String Formatting: Advanced Operations for Dicts, Lists, Numbers, and Dates"
   ]
  },
  {
   "cell_type": "code",
   "execution_count": null,
   "id": "27e2d63c-de4d-49e8-a9ff-b1390984612b",
   "metadata": {},
   "outputs": [],
   "source": [
    "# person = {'name':'Jenn', 'age':23}\n",
    "# msg = f\"My name is {person['name']} and I am {str(person['age'])} years old.\"\n",
    "# msg\n",
    "\n",
    "# msg1 = \"My name is {} and I am {} years old\".format(person['name'], person['age'])\n",
    "# msg1\n",
    "\n",
    "# msg2 = \"My name is {0} and I am {1} years old {0}.\".format(person['name'], person['age'])\n",
    "# msg2\n",
    "\n",
    "# msg3 = \"My name is {0[name]} and I am {0[age]} years old\".format(person)\n",
    "# msg3\n",
    "\n",
    "#key word\n",
    "msg = '{name} is {age} years old'.format(name='Jenn', age=34)\n",
    "print(msg)\n",
    "\n",
    "#dictionary\n",
    "msg = '{name} is {age} years old'.format(**person)\n",
    "print(msg)"
   ]
  },
  {
   "cell_type": "code",
   "execution_count": null,
   "id": "8349d377-1308-477d-b1f9-99bdf0248725",
   "metadata": {},
   "outputs": [],
   "source": [
    "#class-obj\n",
    "class Person():\n",
    "    def __init__(self,name,age):\n",
    "        self.name = name\n",
    "        self.age = age\n",
    "\n",
    "person1 = Person('Jack', '33')\n",
    "msg = '{0.name} is {0.age} years old'.format(person1)\n",
    "print(msg)\n"
   ]
  },
  {
   "cell_type": "code",
   "execution_count": null,
   "id": "55f5f595-9009-4505-8feb-878e3134c1c1",
   "metadata": {},
   "outputs": [],
   "source": [
    "# for i in range(1,11):\n",
    "#     msg = 'The value is {:02}'.format(i)\n",
    "#     print(msg)\n",
    "\n",
    "# import math \n",
    "# pi = math.pi\n",
    "# print(pi)\n",
    "\n",
    "# msg = f'Pi is equalto {pi:.3f}'\n",
    "# print(msg)\n",
    "\n",
    "msg = f'1 MB is equal to {1000**2:,.2f} bytes'\n",
    "print(msg)"
   ]
  },
  {
   "cell_type": "code",
   "execution_count": null,
   "id": "e237a49d-3d38-41b7-9980-8ea0924a22db",
   "metadata": {},
   "outputs": [],
   "source": [
    "import datetime\n",
    "\n",
    "date1 = datetime.datetime(2025,9,24,12,30,45) #datetime-obj\n",
    "print(date1)\n",
    "\n",
    "# https://docs.python.org/3/library/datetime.html\n",
    "msg = '{:%B %d, %Y}'.format(date1)\n",
    "print(msg)\n",
    "\n",
    "msg = '{0:%B %d, %Y} is on a {0:%A} and is the {0:%j} day of the year'.format(date1)\n",
    "print(msg)"
   ]
  },
  {
   "cell_type": "code",
   "execution_count": null,
   "id": "87c94d64-812e-49a1-a949-fe1e2c684d87",
   "metadata": {},
   "outputs": [],
   "source": [
    "# Ex) get weekday of the birthday\n",
    "lane_birthdays = [datetime.datetime(i,9,24) for i in range(2024,2035)]\n",
    "for date in lane_birthdays:\n",
    "    print(f'{date: %Y} - {date: %a}')\n",
    "print(\"\")\n",
    "\n",
    "wan_birthdays = [datetime.datetime(i,12,25) for i in range(2024,2035)]\n",
    "for date in wan_birthdays:\n",
    "    print(f'{date: %Y} - {date: %a}')"
   ]
  },
  {
   "cell_type": "markdown",
   "id": "276a48ea-7862-44db-9299-109fdd9eda3c",
   "metadata": {},
   "source": [
    "***"
   ]
  },
  {
   "cell_type": "markdown",
   "id": "39c234a6-85b1-4699-91d2-2f6cea40b4c1",
   "metadata": {
    "jp-MarkdownHeadingCollapsed": true
   },
   "source": [
    "## 23. OS Module: Use Underlying Operating System Functionality"
   ]
  },
  {
   "cell_type": "code",
   "execution_count": null,
   "id": "406ec0fc-a56c-4b73-8f5d-dc8dd7157738",
   "metadata": {},
   "outputs": [],
   "source": [
    "#Directory\n",
    "import os\n",
    "\n",
    "print(dir(os)) #attributes and methods"
   ]
  },
  {
   "cell_type": "code",
   "execution_count": null,
   "id": "d0fbcd1c-9d5f-4369-8502-0dca6b671750",
   "metadata": {},
   "outputs": [],
   "source": [
    "print(os.getcwd())"
   ]
  },
  {
   "cell_type": "code",
   "execution_count": null,
   "id": "ce1ebf41-74c9-40da-bf1f-0382382c9180",
   "metadata": {},
   "outputs": [],
   "source": [
    "# path1 = 'D:/202412_Dec/01_Programming_Lev.0000/corey_schafer/'\n",
    "# os.chdir(path1)\n",
    "# print(os.getcwd())"
   ]
  },
  {
   "cell_type": "code",
   "execution_count": null,
   "id": "0c4ac51b-0bc6-47a7-a4e6-f297a6e56630",
   "metadata": {},
   "outputs": [],
   "source": [
    "# path2 = 'D:/202412_Dec/01_Programming_Lev.0000/corey_schafer/python_tutorial'\n",
    "# os.chdir(path2)\n",
    "# print(os.getcwd())"
   ]
  },
  {
   "cell_type": "code",
   "execution_count": null,
   "id": "875cad1c-7780-4de2-b2d2-8fb32787027f",
   "metadata": {},
   "outputs": [],
   "source": [
    "# print(os.listdir())"
   ]
  },
  {
   "cell_type": "code",
   "execution_count": null,
   "id": "62f3a651-c10f-46da-83c7-4385f142cd70",
   "metadata": {},
   "outputs": [],
   "source": [
    "# os.mkdir('OS_demo1')\n",
    "# os.makedirs('OS_demo1/sub_dir1') #make deeper"
   ]
  },
  {
   "cell_type": "code",
   "execution_count": null,
   "id": "c1ce8b07-a7c8-46b3-83f9-0bf727599f66",
   "metadata": {},
   "outputs": [],
   "source": [
    "# os.rmdir('OS_demo1/sub_dir1')\n",
    "# os.removedirs('OS_demo1/sub_dir1') #remove all"
   ]
  },
  {
   "cell_type": "code",
   "execution_count": null,
   "id": "2bbee7f9-ed2f-4dd5-9843-f9535dcceef7",
   "metadata": {},
   "outputs": [],
   "source": [
    "# os.makedirs('OS_demo1')\n",
    "# os.rename('OS_demo1', 'OS_renamed1')\n",
    "# "
   ]
  },
  {
   "cell_type": "code",
   "execution_count": null,
   "id": "b399bc66-42d7-44d6-8413-6b976eee8f1f",
   "metadata": {},
   "outputs": [],
   "source": [
    "print(os.listdir())"
   ]
  },
  {
   "cell_type": "code",
   "execution_count": null,
   "id": "fef03184-5861-42c1-80d3-808a6989e75c",
   "metadata": {},
   "outputs": [],
   "source": [
    "#Files\n",
    "from datetime import datetime\n",
    "print(os.stat('OS_renamed1/demo.txt').st_size) #byte\n",
    "mod_time = os.stat('OS_renamed1/demo.txt').st_mtime #last modification timestamp\n",
    "\n",
    "print(datetime.fromtimestamp(mod_time)) #human readable form"
   ]
  },
  {
   "cell_type": "code",
   "execution_count": null,
   "id": "a02b209c-51eb-4c4f-8f25-b3147c94d462",
   "metadata": {},
   "outputs": [],
   "source": [
    "#All dir tree\n",
    "path1 = 'D:/202412_Dec/01_Programming_Lev.0000/corey_schafer/python_tutorial/OS_renamed1/'\n",
    "for dirpath, dirnames, filenames in os.walk(path1):\n",
    "    print(f'current path: {dirpath}')\n",
    "    print(f'Directories: {dirnames}')\n",
    "    print(f'Files: {filenames}')\n",
    "    print(\"\")"
   ]
  },
  {
   "cell_type": "code",
   "execution_count": null,
   "id": "d23becd1-9696-409b-b17b-e1462b898f58",
   "metadata": {},
   "outputs": [],
   "source": [
    "#os.environ.get()?"
   ]
  },
  {
   "cell_type": "markdown",
   "id": "8557a6e4-aa33-4521-87f1-0490f509a6ec",
   "metadata": {
    "jp-MarkdownHeadingCollapsed": true
   },
   "source": [
    "## 24. Datetime module"
   ]
  },
  {
   "cell_type": "code",
   "execution_count": null,
   "id": "59ad3e7e-c02e-4054-a868-02665fc2ed36",
   "metadata": {},
   "outputs": [],
   "source": [
    "import datetime"
   ]
  },
  {
   "cell_type": "code",
   "execution_count": null,
   "id": "397a0a9e-0e11-4b04-92f9-bececcac262b",
   "metadata": {},
   "outputs": [],
   "source": [
    "#naive datetime\n",
    "\n",
    "#datetime.date()\n",
    "# date1 = datetime.date(2025,9,24)\n",
    "# print(date1)\n",
    "\n",
    "today1 = datetime.date.today()\n",
    "# print(today1)\n",
    "# print(today1.weekday()) #from 0\n",
    "# print(today1.isoweekday()) #from 1\n",
    "\n",
    "# tdelta = datetime.timedelta(days=7)\n",
    "# print(today1 + tdelta)\n",
    "# print(today1 - tdelta)\n",
    "\n",
    "birthday = datetime.date(2024,12,25)\n",
    "till_bday = birthday - today1\n",
    "print(till_bday.days)\n",
    "print(till_bday.total_seconds())"
   ]
  },
  {
   "cell_type": "code",
   "execution_count": null,
   "id": "a324e897-3a77-4aa4-b0a5-f259c67ba8fd",
   "metadata": {},
   "outputs": [],
   "source": [
    "#datetime.time()\n",
    "time1 = datetime.time(9,30,45,100000)\n",
    "print(time1.hour)"
   ]
  },
  {
   "cell_type": "code",
   "execution_count": null,
   "id": "f67ff17b-889f-4910-b370-03ea904d4e94",
   "metadata": {},
   "outputs": [],
   "source": [
    "#datetime.datetime()\n",
    "# dt = datetime.datetime(2024,12,25,9,30,45,100000)\n",
    "# print(dt.date())\n",
    "# print(dt.time())\n",
    "\n",
    "# temp_dt = dt\n",
    "# tdelta = datetime.timedelta(days=7)\n",
    "# for i in range(10):\n",
    "#     print(temp_dt.date())\n",
    "#     temp_dt = temp_dt + tdelta\n",
    "\n",
    "dt2 = datetime.datetime(2024,12,25,9,30,45,100000)\n",
    "interval_dt = []\n",
    "tdelta = datetime.timedelta(days=7)\n",
    "for i in range(12):\n",
    "    interval_dt.append(dt2.date())\n",
    "    dt += tdelta\n",
    "\n",
    "print(interval_dt)"
   ]
  },
  {
   "cell_type": "code",
   "execution_count": null,
   "id": "a71054c6-ec68-4c5b-b8a7-cdddf4102e57",
   "metadata": {},
   "outputs": [],
   "source": [
    "#Timezone\n",
    "\n",
    "import pytz\n",
    "dt_today = datetime.datetime.today() #no tz attribute; seems follow my OS time\n",
    "dt_now = datetime.datetime.now(tz=pytz.timezone('US/Eastern'))\n",
    "dt_utcnow = datetime.datetime.utcnow()\n",
    "print(dt_today)\n",
    "print(dt_now)\n",
    "print(dt_utcnow)"
   ]
  },
  {
   "cell_type": "code",
   "execution_count": null,
   "id": "5af02095-c19b-4002-9c22-0d5b41fa50cc",
   "metadata": {},
   "outputs": [],
   "source": [
    "#pytz\n",
    "import pytz\n",
    "\n",
    "#set tz\n",
    "# dt = datetime.datetime(2024,12,25,9,30,45, tzinfo=pytz.UTC)\n",
    "# print(dt)\n",
    "\n",
    "#get now utc \n",
    "dt_utcnow = datetime.datetime.now(tz=pytz.UTC)\n",
    "print(dt_utcnow)\n",
    "\n",
    "#.replace() method can change properties other than tzinfo such as year, month\n",
    "dt_utc_to_eastern = dt_utcnow.replace(tzinfo=pytz.timezone('US/Eastern'))\n",
    "print(dt_utc_to_eastern)"
   ]
  },
  {
   "cell_type": "code",
   "execution_count": null,
   "id": "d966dfda-776d-4b36-bbc8-fb418873c5ec",
   "metadata": {},
   "outputs": [],
   "source": [
    "#.astimezone() method\n",
    "print(dt_utcnow)\n",
    "dt_utc_to_central = dt_utcnow.astimezone(pytz.timezone('US/Central'))\n",
    "print(dt_utc_to_central)"
   ]
  },
  {
   "cell_type": "code",
   "execution_count": null,
   "id": "d10586a4-af01-45ff-83ee-d313e90969ea",
   "metadata": {
    "scrolled": true
   },
   "outputs": [],
   "source": [
    "#all tz attributes\n",
    "for tz in pytz.all_timezones:\n",
    "    print(tz)"
   ]
  },
  {
   "cell_type": "code",
   "execution_count": null,
   "id": "e1acef7e-3ec7-4e26-9fa9-182a8b31c4a6",
   "metadata": {},
   "outputs": [],
   "source": [
    "#Convert dt to str\n",
    "dt1 = datetime.datetime(2024,12,25,9,30,45,100000)\n",
    "print(dt1.strftime('%B %d, %Y')) #format"
   ]
  },
  {
   "cell_type": "code",
   "execution_count": null,
   "id": "357326d4-e3d4-44ef-957a-8ba7a52bec25",
   "metadata": {},
   "outputs": [],
   "source": [
    "# str to dt\n",
    "dt_str = 'Sep 18, 2024'\n",
    "dt1 = datetime.datetime.strptime(dt_str,'%b %d, %Y') #parse\n",
    "print(dt1)"
   ]
  },
  {
   "cell_type": "code",
   "execution_count": null,
   "id": "de906cc3-5845-40d6-b60a-1d02c3b0026a",
   "metadata": {},
   "outputs": [],
   "source": [
    "#Ex)\n",
    "dt2 = datetime.datetime(2024,12,25,9,30,45,100000)\n",
    "interval_dt = []\n",
    "tdelta = datetime.timedelta(days=7)\n",
    "for i in range(12):\n",
    "    interval_dt.append(dt2.strftime('%m/%d/%Y'))\n",
    "    dt += tdelta\n",
    "\n",
    "print(interval_dt)"
   ]
  },
  {
   "cell_type": "markdown",
   "id": "4935a252-38a6-4699-9650-580c19730a43",
   "metadata": {},
   "source": [
    "***"
   ]
  },
  {
   "cell_type": "markdown",
   "id": "ad788f3d-57ea-4d1b-818d-adef82f64ac7",
   "metadata": {
    "jp-MarkdownHeadingCollapsed": true
   },
   "source": [
    "##  25. File Objects - Reading and Writing to Files"
   ]
  },
  {
   "cell_type": "code",
   "execution_count": null,
   "id": "0d6dbb09-3634-43ec-b9ea-9aa046ecddee",
   "metadata": {},
   "outputs": [],
   "source": [
    "import os\n",
    "\n",
    "# change dir\n",
    "print(os.getcwd())\n",
    "path = 'D:/202412_Dec/01_Programming_Lev.0000/corey_schafer/python_tutorial/sample_folder1'\n",
    "os.chdir(path)\n",
    "print(os.getcwd())"
   ]
  },
  {
   "cell_type": "code",
   "execution_count": null,
   "id": "3e9894c7-059c-4601-ac4f-cea186c04d63",
   "metadata": {},
   "outputs": [],
   "source": [
    "#'_io.TextIOWrapper'-obj\n",
    "file1 = open('test_01.txt', 'r') #'r+', 'w', 'a' append\n",
    "print(file1.name)\n",
    "print(type(file1))\n",
    "file1.close() #explicit!"
   ]
  },
  {
   "cell_type": "code",
   "execution_count": null,
   "id": "a0454996-8ded-40ae-a547-11ac38f5e942",
   "metadata": {},
   "outputs": [],
   "source": [
    "#'with' kwd\n",
    "with open('test_01.txt','r') as file:\n",
    "    f_contents = file.read()\n",
    "    print(f_contents)"
   ]
  },
  {
   "cell_type": "code",
   "execution_count": null,
   "id": "8b3cf132-0b1f-48b4-95d7-893ab1a4f6f9",
   "metadata": {},
   "outputs": [],
   "source": [
    "#read lines in list\n",
    "with open('test_01.txt','r') as file:\n",
    "    f_contents = file.readlines() #returns list\n",
    "    print(f_contents)"
   ]
  },
  {
   "cell_type": "code",
   "execution_count": null,
   "id": "d069a711-8bf0-4a81-a676-45047fde9747",
   "metadata": {},
   "outputs": [],
   "source": [
    "#read each line\n",
    "with open('test_01.txt','r') as file:\n",
    "    f_contents = file.readline() \n",
    "    print(f_contents, end='')\n",
    "    \n",
    "    f_contents = file.readline() \n",
    "    print(f_contents)\n",
    "    \n",
    "    f_contents = file.readline() \n",
    "    print(f_contents)\n",
    "    \n",
    "    f_contents = file.readline() \n",
    "    print(f_contents)"
   ]
  },
  {
   "cell_type": "code",
   "execution_count": null,
   "id": "f5edd6a7-311a-4c04-bbe4-43f22229f0e4",
   "metadata": {},
   "outputs": [],
   "source": [
    "#read by forloop\n",
    "with open('test_01.txt','r') as file:\n",
    "    for line in file:\n",
    "        print(line, end='')"
   ]
  },
  {
   "cell_type": "code",
   "execution_count": null,
   "id": "c206a575-5a15-4f61-a992-6d5fa9d896af",
   "metadata": {},
   "outputs": [],
   "source": [
    "#read by chars\n",
    "with open('test_01.txt','r') as file:\n",
    "    char_size = 10\n",
    "    \n",
    "    f_contents = file.read(char_size)\n",
    "    print(f_contents)\n",
    "\n",
    "    f_contents = file.read(char_size)\n",
    "    print(f_contents)"
   ]
  },
  {
   "cell_type": "code",
   "execution_count": null,
   "id": "2dff9c3a-3bd5-40b0-b665-ce9da93a0213",
   "metadata": {},
   "outputs": [],
   "source": [
    "#'while'\n",
    "with open('test_01.txt','r') as file:\n",
    "    size_to_read = 10\n",
    "    f_contents = file.read(size_to_read) #init reading \n",
    "\n",
    "    while len(f_contents): # while true means '!= 0'\n",
    "        print(f_contents, end='/')\n",
    "        f_contents = file.read(size_to_read)"
   ]
  },
  {
   "cell_type": "code",
   "execution_count": null,
   "id": "ee2b9d63-8f5b-4cc8-bd53-f4b3f8652e95",
   "metadata": {},
   "outputs": [],
   "source": [
    "#file.tell()\n",
    "with open('test_01.txt','r') as file:\n",
    "    size_to_read = 10\n",
    "    \n",
    "    print(file.read(size_to_read))\n",
    "    print(file.tell()) #return current location\n",
    "    print(file.read(size_to_read))\n",
    "    print(file.tell())  "
   ]
  },
  {
   "cell_type": "code",
   "execution_count": null,
   "id": "035d2228-9891-438c-89b8-ff39ab65f034",
   "metadata": {},
   "outputs": [],
   "source": [
    "#file.seek()\n",
    "with open('test_01.txt','r') as file:\n",
    "    size_to_read = 10\n",
    "    \n",
    "    print(file.read(size_to_read))\n",
    "    file.seek(0) #set start location\n",
    "    print(file.read(size_to_read))"
   ]
  },
  {
   "cell_type": "code",
   "execution_count": null,
   "id": "c7f00501-3fc0-4be2-934d-ec8542fba604",
   "metadata": {},
   "outputs": [],
   "source": [
    "#file.write\n",
    "with open('test_06.txt','w') as file: #also make new file\n",
    "    #pass\n",
    "    file.write('test msg1')\n",
    "    file.seek(0)\n",
    "    file.write('test msg2')"
   ]
  },
  {
   "cell_type": "code",
   "execution_count": null,
   "id": "64e8fe2f-fa6d-4ede-ba8f-0ac655ccccc9",
   "metadata": {},
   "outputs": [],
   "source": [
    "#copy txt file\n",
    "with open('test_02.txt','r') as rfile:\n",
    "    with open('test_02_copy.txt','w') as wfile:\n",
    "        for line in rfile:\n",
    "            wfile.write(line)"
   ]
  },
  {
   "cell_type": "code",
   "execution_count": null,
   "id": "d9cacc07-525e-4d06-b266-bdb4889cdf17",
   "metadata": {},
   "outputs": [],
   "source": [
    "#copy img(bigger): open as binary code\n",
    "with open('cat2.png','rb') as rfile:\n",
    "    with open('cat2_copy.png','wb') as wfile:\n",
    "        for line in rfile:\n",
    "            wfile.write(line)"
   ]
  },
  {
   "cell_type": "code",
   "execution_count": null,
   "id": "6be88f70-e593-4b0d-b4f8-6cecff514266",
   "metadata": {},
   "outputs": [],
   "source": [
    "#partial copy img\n",
    "with open('cat2.png','rb') as rfile:\n",
    "    with open('cat2_copy.png','wb') as wfile:\n",
    "        chunk_size = 4096\n",
    "        rfile_chunk = rfile.read(chunk_size)\n",
    "\n",
    "        wfile.write(rfile_chunk)\n",
    "        wfile.write(rfile_chunk)\n",
    "        wfile.write(rfile_chunk)"
   ]
  },
  {
   "cell_type": "code",
   "execution_count": null,
   "id": "5b6339ec-3635-42dd-bb90-2b160162fd36",
   "metadata": {},
   "outputs": [],
   "source": [
    "with open('cat2.png','rb') as rfile:\n",
    "    with open('cat2_copy2.png','wb') as wfile:\n",
    "        chunk_size = 4096\n",
    "        rfile_chunk = rfile.read(chunk_size)\n",
    "\n",
    "        while len(rfile_chunk):\n",
    "            wfile.write(rfile_chunk)\n",
    "            rfile_chunk = rfile.read(chunk_size)"
   ]
  },
  {
   "cell_type": "markdown",
   "id": "7bafa0fa-2c33-40ec-871f-15ff035523a2",
   "metadata": {
    "jp-MarkdownHeadingCollapsed": true
   },
   "source": [
    "## 26. Parsing and Renaming multiple files"
   ]
  },
  {
   "cell_type": "code",
   "execution_count": null,
   "id": "9ce6f213-dbb2-4763-acc0-bb835c2ab618",
   "metadata": {},
   "outputs": [],
   "source": [
    "import os\n",
    "\n",
    "#1) change dir\n",
    "print(os.getcwd())\n",
    "path = r'D:\\202412_Dec\\01_Programming_Lev.0000\\corey_schafer\\python_tutorial\\sample_folder2'\n",
    "os.chdir(path) #change working dir\n",
    "print(os.getcwd())"
   ]
  },
  {
   "cell_type": "code",
   "execution_count": null,
   "id": "f9c8666e-fd25-4fb8-ba00-bc2f4c336f11",
   "metadata": {},
   "outputs": [],
   "source": [
    "#2) print file names\n",
    "for file in os.listdir():\n",
    "    print(file)"
   ]
  },
  {
   "cell_type": "code",
   "execution_count": null,
   "id": "c6d5eaef-8e66-4b22-b93b-f4e688624556",
   "metadata": {},
   "outputs": [],
   "source": [
    "#3) formatting file name\n",
    "for file in os.listdir():\n",
    "    #parse\n",
    "    f_name, f_ext = os.path.splitext(file)\n",
    "    f_title, f_num = f_name.split('_')\n",
    "    #strip\n",
    "    f_title = f_title.strip()\n",
    "    f_num = f_num.strip()[1:].zfill(3)\n",
    "    \n",
    "    new_name = f'{f_num}_{f_title}{f_ext}' #001_text.txt\n",
    "    os.rename(file, new_name)"
   ]
  },
  {
   "cell_type": "code",
   "execution_count": null,
   "id": "b36323d0-5359-435d-a133-66497ff8e41b",
   "metadata": {},
   "outputs": [],
   "source": [
    "#Ex) change file names\n",
    "new_names = ['test_01.txt','test_02.txt','test_03.txt','test_04.txt','test_05.txt']\n",
    "path = r'D:\\202412_Dec\\01_Programming_Lev.0000\\corey_schafer\\python_tutorial\\sample_folder2'\n",
    "\n",
    "old_names = os.listdir(path) #list of file names\n",
    "for old_name, new_name in zip(old_names, new_names):\n",
    "    old_path = os.path.join(path, old_name)\n",
    "    new_path = os.path.join(path, new_name)\n",
    "\n",
    "    os.rename(old_path, new_path)"
   ]
  },
  {
   "cell_type": "code",
   "execution_count": null,
   "id": "a00ee648-153d-401f-b3d5-61a75ad26682",
   "metadata": {},
   "outputs": [],
   "source": [
    "#Ex)define function\n",
    "def rename_files(directory, new_names):\n",
    "  \"\"\"\n",
    "  Renames files in a directory using a list of new names.\n",
    "\n",
    "  Args:\n",
    "    directory: The path to the directory containing the files.\n",
    "    new_names: A list of new names for the files. \n",
    "  \"\"\"\n",
    "  if len(os.listdir(directory)) != len(new_names):\n",
    "    raise ValueError(\"Number of files in the directory must match the number of new names.\")\n",
    "\n",
    "  files = os.listdir(directory)\n",
    "  for old_name, new_name in zip(files, new_names):\n",
    "    old_path = os.path.join(directory, old_name)\n",
    "    new_path = os.path.join(directory, new_name)\n",
    "    try:\n",
    "      os.rename(old_path, new_path)\n",
    "      print(f\"Renamed '{old_name}' to '{new_name}'\")\n",
    "    except OSError as e:\n",
    "      print(f\"Error renaming '{old_name}': {e}\")"
   ]
  },
  {
   "cell_type": "markdown",
   "id": "e8d6bd9e-9cee-4855-83a4-e211feb2dd7d",
   "metadata": {
    "jp-MarkdownHeadingCollapsed": true
   },
   "source": [
    "## 27. Generate Random Numbers and Data Using the random Module"
   ]
  },
  {
   "cell_type": "code",
   "execution_count": null,
   "id": "ef40bb99-1a20-4c81-95ff-e75ba4f0109e",
   "metadata": {},
   "outputs": [],
   "source": [
    "import random #Module/Library is a collection of classes in order to make ease of the application features.\n",
    "\n",
    "# 0 <= x < 1\n",
    "value = random.random()\n",
    "print(value)\n",
    "\n",
    "nums = [round(random.random(),4) for i in range(10)]\n",
    "print(nums)\n",
    "print(sorted(nums, reverse=True))"
   ]
  },
  {
   "cell_type": "code",
   "execution_count": null,
   "id": "b1dd179f-95c6-4997-9d85-ff877d866c99",
   "metadata": {},
   "outputs": [],
   "source": [
    "list_of_list = []\n",
    "for i in range(4):\n",
    "    nums = [round(random.random(),3) for i in range(10)]\n",
    "    list_of_list.append(nums)\n",
    "\n",
    "Get(list_of_list)\n",
    "\n",
    "#Get() return html table\n",
    "#print() return ascii tab-separated"
   ]
  },
  {
   "cell_type": "code",
   "execution_count": null,
   "id": "de8aec06-f542-476e-99f4-46acb7768ebb",
   "metadata": {},
   "outputs": [],
   "source": [
    "#float, both inclusive\n",
    "value = random.uniform(-1,1)\n",
    "print(value)\n",
    "\n",
    "#other distributions\n",
    "value2 = random.gauss(mu=0.0,sigma=1.0)\n",
    "print(value2)"
   ]
  },
  {
   "cell_type": "code",
   "execution_count": null,
   "id": "3e2dc40c-0f38-4233-9fd3-64d6de7f49f0",
   "metadata": {},
   "outputs": [],
   "source": [
    "#int, both inclusive\n",
    "value = random.randint(1,6)\n",
    "print(value)\n",
    "\n",
    "coin = random.randint(0,1)\n",
    "print(coin)"
   ]
  },
  {
   "cell_type": "code",
   "execution_count": null,
   "id": "3587dfa8-0b40-4972-a2db-ffaeb5eae982",
   "metadata": {},
   "outputs": [],
   "source": [
    "#choice\n",
    "greetings = ['Hello','Hi','Hey','Howdy','Hola']\n",
    "value = random.choice(greetings)\n",
    "print(value + ', Wan!')"
   ]
  },
  {
   "cell_type": "code",
   "execution_count": null,
   "id": "2128f027-da20-4b50-af23-8a2dc199a6e7",
   "metadata": {},
   "outputs": [],
   "source": [
    "#choices\n",
    "colors = ['r','g','b']\n",
    "results = random.choices(colors,k=10)\n",
    "print(results)"
   ]
  },
  {
   "cell_type": "code",
   "execution_count": null,
   "id": "3d64c351-8a5f-4477-a8b9-77c083580e0c",
   "metadata": {},
   "outputs": [],
   "source": [
    "#ex) color proportion\n",
    "colors = ['r','g','b']\n",
    "results = random.choices(colors,k=10) #equal weights\n",
    "Get(results)\n",
    "\n",
    "count_r = 0\n",
    "count_g = 0\n",
    "count_b = 0\n",
    "for color in results:\n",
    "    if color == 'r':\n",
    "        count_r += 1\n",
    "    elif color == 'g':\n",
    "        count_g += 1\n",
    "    else:\n",
    "        count_b += 1\n",
    "print(f'r = {count_r/10:.1%}')\n",
    "print(f'g = {count_g/10:.1%}')\n",
    "print(f'b = {count_b/10:.1%}')"
   ]
  },
  {
   "cell_type": "code",
   "execution_count": null,
   "id": "026c01cd-6608-4508-997e-7eb96c013aea",
   "metadata": {},
   "outputs": [],
   "source": [
    "#ex)unique by set()\n",
    "uniques = list(set(results))\n",
    "uniques = uniques[::-1]\n",
    "print(uniques)\n",
    "\n",
    "for i in uniques:\n",
    "    print(f'{i} = {results.count(i)}ea')"
   ]
  },
  {
   "cell_type": "code",
   "execution_count": null,
   "id": "d47e3243-e662-48bf-bdd6-49d505611829",
   "metadata": {},
   "outputs": [],
   "source": [
    "#set weights\n",
    "colors = ['r','g','b']\n",
    "results = random.choices(colors,weights=[0.5,0.3,0.2],k=10)\n",
    "print(results)\n",
    "\n",
    "for i in colors:\n",
    "    item_count = results.count(i)\n",
    "    print(f'{i} = {item_count/len(results):.1%}')"
   ]
  },
  {
   "cell_type": "code",
   "execution_count": null,
   "id": "533bbcf5-e88e-432b-9b13-ae6548d9e5ae",
   "metadata": {},
   "outputs": [],
   "source": [
    "#ex) set weights by random\n",
    "colors = ['r','g','b']\n",
    "\n",
    "weights = []\n",
    "for i in range(3):\n",
    "    weights.append(random.random())\n",
    "results = random.choices(colors,weights=weights,k=10)\n",
    "print(results)\n",
    "\n",
    "for i in colors:\n",
    "    item_count = results.count(i)\n",
    "    print(f'{i} = {item_count/len(results):.1%}')"
   ]
  },
  {
   "cell_type": "code",
   "execution_count": null,
   "id": "f91f56e2-8417-4067-ad2a-4dcfa24d1215",
   "metadata": {},
   "outputs": [],
   "source": [
    "#shuffling\n",
    "deck = list(range(1,53))\n",
    "random.shuffle(deck)\n",
    "print(deck)"
   ]
  },
  {
   "cell_type": "code",
   "execution_count": null,
   "id": "806be8cf-ba49-4492-a2b2-acc02d3b62d7",
   "metadata": {},
   "outputs": [],
   "source": [
    "#sampling\n",
    "deck = list(range(1,53))\n",
    "hand = random.sample(deck, k=7)\n",
    "print(hand)"
   ]
  },
  {
   "cell_type": "code",
   "execution_count": null,
   "id": "b39e5b22-1ab8-42e0-b8c7-f4ef129eb05f",
   "metadata": {
    "scrolled": true
   },
   "outputs": [],
   "source": [
    "#Ex) Create personal info\n",
    "import random\n",
    "\n",
    "first_names = ['John', 'Jane', 'Corey', 'Travis', 'Dave', 'Kurt', 'Neil', 'Sam', 'Steve', 'Tom', 'James', 'Robert', 'Michael', 'Charles', 'Joe', 'Mary', 'Maggie', 'Nicole', 'Patricia', 'Linda', 'Barbara', 'Elizabeth', 'Laura', 'Jennifer', 'Maria']\n",
    "last_names = ['Smith', 'Doe', 'Jenkins', 'Robinson', 'Davis', 'Stuart', 'Jefferson', 'Jacobs', 'Wright', 'Patterson', 'Wilks', 'Arnold', 'Johnson', 'Williams', 'Jones', 'Brown', 'Davis', 'Miller', 'Wilson', 'Moore', 'Taylor', 'Anderson', 'Thomas', 'Jackson', 'White', 'Harris', 'Martin']\n",
    "street_names = ['Main', 'High', 'Pearl', 'Maple', 'Park', 'Oak', 'Pine', 'Cedar', 'Elm', 'Washington', 'Lake', 'Hill']\n",
    "fake_cities = ['Metropolis', 'Eerie', \"King's Landing\", 'Sunnydale', 'Bedrock', 'South Park', 'Atlantis', 'Mordor', 'Olympus', 'Dawnstar', 'Balmora', 'Gotham', 'Springfield', 'Quahog', 'Smalltown', 'Epicburg', 'Pythonville', 'Faketown', 'Westworld', 'Thundera', 'Vice City', 'Blackwater', 'Oldtown', 'Valyria', 'Winterfell', 'Braavos‎', 'Lakeview']\n",
    "states = ['AL', 'AK', 'AZ', 'AR', 'CA', 'CO', 'CT', 'DC', 'DE', 'FL', 'GA', 'HI', 'ID', 'IL', 'IN', 'IA', 'KS', 'KY', 'LA', 'ME', 'MD', 'MA', 'MI', 'MN', 'MS', 'MO', 'MT', 'NE', 'NV', 'NH', 'NJ', 'NM', 'NY', 'NC', 'ND', 'OH', 'OK', 'OR', 'PA', 'RI', 'SC', 'SD', 'TN', 'TX', 'UT', 'VT', 'VA', 'WA', 'WV', 'WI', 'WY']\n",
    "\n",
    "for i in range(100):\n",
    "    f_name = random.choice(first_names)\n",
    "    l_name = random.choice(last_names)\n",
    "\n",
    "    phone = f'{random.randint(100,999)}-777-{random.randint(1000,9999)}'\n",
    "\n",
    "    street_num = random.randint(100,999)\n",
    "    street = random.choice(street_names)\n",
    "    state = random.choice(states)\n",
    "    city = random.choice(fake_cities)\n",
    "    zip_code = random.randint(10000,99999)\n",
    "    address = f'{street_num} {street} St., {city} {state} {zip_code}'\n",
    "\n",
    "    email = f_name.lower() + l_name.lower() + '@peudoemail.com'\n",
    "\n",
    "    print(f'{i}. {f_name} {l_name}\\n{phone}\\n{address}\\n{email}\\n')"
   ]
  },
  {
   "cell_type": "markdown",
   "id": "e60c39c4-eede-4152-8d92-f50aff47483f",
   "metadata": {
    "jp-MarkdownHeadingCollapsed": true
   },
   "source": [
    "## 28. CSV Module - How to Read, Parse, and Write CSV Files"
   ]
  },
  {
   "cell_type": "code",
   "execution_count": null,
   "id": "c42bb827-04cf-49ba-8cbb-8818e827db1c",
   "metadata": {
    "scrolled": true
   },
   "outputs": [],
   "source": [
    "import csv #Modules: more close to machine...[eg. from scratch > csv module > numpy, pandas]...more functions for human\n",
    "\n",
    "#read csv \n",
    "with open('names.csv','r') as csv_file:\n",
    "    csv_reader = csv.reader(csv_file) #csv.reader-obj\n",
    "\n",
    "    next(csv_file) #skip first row\n",
    "    for row in csv_reader:\n",
    "        print(row[2])"
   ]
  },
  {
   "cell_type": "code",
   "execution_count": null,
   "id": "06c726b0-ea7e-460d-971a-a212c8b52b6c",
   "metadata": {
    "scrolled": true
   },
   "outputs": [],
   "source": [
    "#write new csv file and set delimiter\n",
    "import csv\n",
    "\n",
    "with open('names.csv', 'r') as csv_file:\n",
    "    csv_reader = csv.reader(csv_file)\n",
    "    \n",
    "    with open('new_names.csv','w', newline='') as new_file:\n",
    "        csv_writer = csv.writer(new_file, delimiter='\\t') #'tab'\n",
    "\n",
    "        for row in csv_reader:\n",
    "            csv_writer.writerow(row)\n",
    "\n",
    "#read the csv file\n",
    "with open('new_names.csv','r') as csv_file:\n",
    "    csv_reader = csv.reader(csv_file, delimiter='\\t')\n",
    "\n",
    "    for row in csv_reader:\n",
    "        print(row)"
   ]
  },
  {
   "cell_type": "code",
   "execution_count": null,
   "id": "57964ee6-e8cd-457f-ad6d-3602bc89c8ec",
   "metadata": {
    "scrolled": true
   },
   "outputs": [],
   "source": [
    "#read csv as dict\n",
    "import csv\n",
    "\n",
    "with open('names.csv', 'r') as csv_file:\n",
    "    csv_reader = csv.DictReader(csv_file)\n",
    "\n",
    "    for row in csv_reader:\n",
    "        print(row)"
   ]
  },
  {
   "cell_type": "code",
   "execution_count": null,
   "id": "c23d158f-e6b0-4c11-b747-e9c5908e4db5",
   "metadata": {},
   "outputs": [],
   "source": [
    "#read and write new csv as dict\n",
    "import csv\n",
    "\n",
    "with open('names.csv', 'r') as csv_file:\n",
    "    csv_reader = csv.DictReader(csv_file)\n",
    "    \n",
    "    with open('new_names2.csv','w', newline='') as new_file:\n",
    "        \n",
    "        fieldnames = ['last_name','email'] \n",
    "        csv_writer = csv.DictWriter(new_file, fieldnames=fieldnames, delimiter='\\t')\n",
    "        csv_writer.writeheader() #set header\n",
    "\n",
    "        for row in csv_reader:\n",
    "            del row['first_name'] #skip item\n",
    "            csv_writer.writerow(row) "
   ]
  },
  {
   "cell_type": "markdown",
   "id": "a9b94dc6-8095-48d0-a96e-fd60f6ccfd13",
   "metadata": {
    "jp-MarkdownHeadingCollapsed": true
   },
   "source": [
    "## 29. Parsing Names From a CSV to an HTML List"
   ]
  },
  {
   "cell_type": "code",
   "execution_count": null,
   "id": "3aedd431-2d2d-4db9-9696-e0dc582c595c",
   "metadata": {
    "scrolled": true
   },
   "outputs": [],
   "source": [
    "import csv\n",
    "\n",
    "html_output = ''\n",
    "names = []\n",
    "\n",
    "#\"with\", context manager\n",
    "with open('patrons.csv','r') as data_file:\n",
    "    csv_data = csv.reader(data_file) # generator-obj\n",
    "\n",
    "    next(csv_data) # skip top two rows\n",
    "    next(csv_data)\n",
    "    for row in csv_data:\n",
    "        if row[0] == 'No Reward':\n",
    "            break\n",
    "        names.append(f'{row[0]} {row[1]}')\n",
    "#write html\n",
    "html_output += f'<p>There are currently {len(names)} public contributors. Thank you!</p>'\n",
    "\n",
    "html_output += '\\n<ul>' #unordered list\n",
    "for name in names:\n",
    "    html_output += f'\\n\\t<li>{name}</li>'\n",
    "html_output += '\\n</ul>'\n",
    "\n",
    "print(html_output)\n",
    "        "
   ]
  },
  {
   "cell_type": "code",
   "execution_count": null,
   "id": "ad247edd-a8f7-47df-bc41-27e467ebc148",
   "metadata": {
    "scrolled": true
   },
   "outputs": [],
   "source": [
    "import csv\n",
    "\n",
    "html_output = ''\n",
    "names = []\n",
    "\n",
    "#\"with\", context manager\n",
    "with open('patrons.csv','r') as data_file:\n",
    "    csv_data = csv.DictReader(data_file) # we can use the key\n",
    "    \n",
    "    next(csv_data) # skip top one rows\n",
    "    for row in csv_data:\n",
    "        if row['FirstName'] == 'No Reward':\n",
    "            break\n",
    "        names.append(f\"{row['FirstName']} {row['LastName']}\")\n",
    "\n",
    "# write html\n",
    "html_output += f'<p>There are currently {len(names)} public contributors. Thank you!</p>'\n",
    "\n",
    "html_output += '\\n<ul>' #unordered list\n",
    "for name in names:\n",
    "    html_output += f'\\n\\t<li>{name}</li>'\n",
    "html_output += '\\n</ul>' \n",
    "\n",
    "print(html_output)"
   ]
  },
  {
   "cell_type": "code",
   "execution_count": null,
   "id": "895801be-248f-4d4b-83d5-4b11000ec1a4",
   "metadata": {},
   "outputs": [],
   "source": []
  },
  {
   "cell_type": "code",
   "execution_count": null,
   "id": "2f172304-3a87-4eb8-b9fe-520798fbf1bf",
   "metadata": {},
   "outputs": [],
   "source": []
  },
  {
   "cell_type": "code",
   "execution_count": null,
   "id": "813fa2fb-f226-4ef7-8062-2dc73dc775a2",
   "metadata": {},
   "outputs": [],
   "source": []
  },
  {
   "cell_type": "code",
   "execution_count": null,
   "id": "9e09e003-3c83-483b-ace2-edc29336ffd9",
   "metadata": {},
   "outputs": [],
   "source": []
  },
  {
   "cell_type": "code",
   "execution_count": null,
   "id": "84be6322-1751-4ab4-933d-22f212f4b5b4",
   "metadata": {},
   "outputs": [],
   "source": []
  },
  {
   "cell_type": "code",
   "execution_count": null,
   "id": "c6f1e6f5-3842-43e4-af84-1a44e337ca7a",
   "metadata": {},
   "outputs": [],
   "source": []
  },
  {
   "cell_type": "code",
   "execution_count": null,
   "id": "5496d544-ad54-4ebe-89cb-a3dd45c93270",
   "metadata": {},
   "outputs": [],
   "source": []
  },
  {
   "cell_type": "markdown",
   "id": "1045b135-bb38-4172-aa3f-ce4b9201d44e",
   "metadata": {
    "jp-MarkdownHeadingCollapsed": true
   },
   "source": [
    "## 30. re Module - How to Write and Match Regular Expressions (Regex)"
   ]
  },
  {
   "cell_type": "code",
   "execution_count": null,
   "id": "14d156e8-6777-4fde-bf20-90574276e63d",
   "metadata": {},
   "outputs": [],
   "source": [
    "import re\n",
    "\n",
    "text_to_search = '''\n",
    "abcdefghijklmnopqurtuvwxyz\n",
    "ABCDEFGHIJKLMNOPQRSTUVWXYZ\n",
    "1234567890\n",
    "\n",
    "Ha HaHa\n",
    "\n",
    "MetaCharacters (Need to be escaped):\n",
    ". ^ $ * + ? { } [ ] \\ | ( )\n",
    "\n",
    "coreyms.com\n",
    "\n",
    "321-555-4321\n",
    "123.555.1234\n",
    "123*555*1234\n",
    "800-555-1234\n",
    "900-555-1234\n",
    "\n",
    "Mr. Schafer\n",
    "Mr Smith\n",
    "Ms Davis\n",
    "Mrs. Robinson\n",
    "Mr. T\n",
    "'''\n",
    "\n",
    "pattern = re.compile(r'\\.com') #raw string; re.compile obj\n",
    "matches = pattern.finditer(text_to_search)\n",
    "\n",
    "for match in matches:\n",
    "    print(match)"
   ]
  },
  {
   "cell_type": "code",
   "execution_count": null,
   "id": "a2654b52-1418-4f51-b476-eff74a96e4e0",
   "metadata": {},
   "outputs": [],
   "source": []
  },
  {
   "cell_type": "code",
   "execution_count": null,
   "id": "204725f9-26b8-40e6-aa4b-c6a0fb07e42c",
   "metadata": {},
   "outputs": [],
   "source": []
  },
  {
   "cell_type": "code",
   "execution_count": null,
   "id": "a1b12285-5dec-4591-8f97-47ed37413eed",
   "metadata": {},
   "outputs": [],
   "source": []
  },
  {
   "cell_type": "code",
   "execution_count": null,
   "id": "cb84ca4e-fde2-4a4c-afb6-d6c5cde44c3d",
   "metadata": {},
   "outputs": [],
   "source": []
  },
  {
   "cell_type": "code",
   "execution_count": null,
   "id": "ba60cf1a-651e-44d0-98a5-79d38b9aa2a0",
   "metadata": {},
   "outputs": [],
   "source": []
  },
  {
   "cell_type": "code",
   "execution_count": null,
   "id": "319d24d4-5004-4d4a-9d6b-aed0efab121f",
   "metadata": {},
   "outputs": [],
   "source": []
  },
  {
   "cell_type": "code",
   "execution_count": null,
   "id": "b79b3b42-69b7-4ede-b98f-09e77978dd3b",
   "metadata": {},
   "outputs": [],
   "source": []
  },
  {
   "cell_type": "code",
   "execution_count": null,
   "id": "4ae85a81-d4c0-4e6a-b7e4-eeb6e66fd6dc",
   "metadata": {},
   "outputs": [],
   "source": []
  },
  {
   "cell_type": "code",
   "execution_count": null,
   "id": "811f104d-6d45-459a-8048-432ab880b597",
   "metadata": {},
   "outputs": [],
   "source": []
  },
  {
   "cell_type": "markdown",
   "id": "5085f3da-3208-4596-8bc9-95fda8396641",
   "metadata": {},
   "source": [
    "## 31. Using Try/Except Blocks for Error Handling"
   ]
  },
  {
   "cell_type": "code",
   "execution_count": 2,
   "id": "6b4f9d8e-005e-46a5-b032-4733998b1cf9",
   "metadata": {},
   "outputs": [],
   "source": [
    "file = open('test.txt')\n",
    "\n",
    "try:\n",
    "    pass\n",
    "except Exception:\n",
    "    pass\n",
    "\n",
    "\n",
    "\n",
    "\n",
    "\n",
    "\n",
    "\n"
   ]
  },
  {
   "cell_type": "code",
   "execution_count": null,
   "id": "5405b26a-d6ad-437b-b2ea-da94785c077d",
   "metadata": {},
   "outputs": [],
   "source": []
  },
  {
   "cell_type": "code",
   "execution_count": null,
   "id": "20437902-d515-41e0-b350-a5569bbcc8aa",
   "metadata": {},
   "outputs": [],
   "source": []
  },
  {
   "cell_type": "code",
   "execution_count": null,
   "id": "755b32bc-5ceb-410a-a203-9a03414646a1",
   "metadata": {},
   "outputs": [],
   "source": []
  },
  {
   "cell_type": "code",
   "execution_count": null,
   "id": "eb83fefa-1fd1-4023-a2d9-20d3375fa696",
   "metadata": {},
   "outputs": [],
   "source": []
  },
  {
   "cell_type": "code",
   "execution_count": null,
   "id": "fbbdcf17-375c-4048-8f98-95915ce2edc6",
   "metadata": {},
   "outputs": [],
   "source": []
  },
  {
   "cell_type": "markdown",
   "id": "a1d23c85-26b9-4f8c-afdb-5e2ecd700185",
   "metadata": {
    "jp-MarkdownHeadingCollapsed": true
   },
   "source": [
    "## 32. Pythonic convention: Duck Typing and Asking Forgiveness, Not Permission (EAFP)"
   ]
  },
  {
   "cell_type": "markdown",
   "id": "cd1f44f1-30b2-47d1-b086-5b6a183e60a6",
   "metadata": {},
   "source": [
    "## 33. How to Set the Path and Switch Between Different Versions/Executables (Windows)"
   ]
  },
  {
   "cell_type": "markdown",
   "id": "e9872204-eb2a-4136-bd12-cf6087d13535",
   "metadata": {},
   "source": [
    "## 35. F-Strings - How to Use Them and Advanced String Formatting"
   ]
  },
  {
   "cell_type": "markdown",
   "id": "a5623e2e-f987-4bc5-9426-b3d8c1c24add",
   "metadata": {},
   "source": [
    "## 36. Generators - How to use them and the benefits\n",
    "* produce a sequence of values one at a time, memor efficient."
   ]
  },
  {
   "cell_type": "markdown",
   "id": "3e50c6ec-88a0-4774-82fe-e95765d478c9",
   "metadata": {},
   "source": [
    "## 37\tPython Tutorial  : De corators - Dynamically Alter The Functionality Of Your Functions"
   ]
  },
  {
   "cell_type": "markdown",
   "id": "553333d1-6512-4c7d-a70a-391c6e21edad",
   "metadata": {},
   "source": [
    "## 38\tPython Tutorial  : De corators With Arguments"
   ]
  },
  {
   "cell_type": "markdown",
   "id": "24a20866-b85b-40a5-9be9-c051a1d0e6e5",
   "metadata": {},
   "source": [
    "## 39\tPython Tutorial  : Na medtuple - When and why should you use namedtuples?"
   ]
  },
  {
   "cell_type": "markdown",
   "id": "1a593df2-9563-46dc-8d08-0718a6143c71",
   "metadata": {},
   "source": [
    "## 46\tPython Tutorial  : We b Scraping with BeautifulSoup and Requests"
   ]
  },
  {
   "cell_type": "markdown",
   "id": "0ac0eda3-282d-4c03-ae69-d03c0ffc448f",
   "metadata": {},
   "source": [
    "## 47\tPython Tutorial  : Wo rking with JSON Data using the json Module"
   ]
  },
  {
   "cell_type": "markdown",
   "id": "e6fd283f-3272-4039-b302-cad2d2a159ef",
   "metadata": {},
   "source": [
    "## 48\tPython Tutorial  : Ca lculate Number of Days, Weeks, or Months to Reach Specific Goals"
   ]
  },
  {
   "cell_type": "markdown",
   "id": "a12ebc6e-0c92-4067-b5e3-b4a8f18339f5",
   "metadata": {},
   "source": [
    "## 49\tPython Tutorial  : Co ntext Managers - Efficiently Managing Resources"
   ]
  },
  {
   "cell_type": "markdown",
   "id": "77045400-d8f9-48d8-9ba4-f9d71a1a5b6b",
   "metadata": {},
   "source": [
    "## 50\tPython Tutorial  : st r() vs repr()"
   ]
  },
  {
   "cell_type": "markdown",
   "id": "d7f7a204-34e6-48dc-8f44-440a660fc5bf",
   "metadata": {},
   "source": [
    "## 51\tPython SQLite T  utor ial: Complete Overview - Creating a Database, Table, and Running Queries"
   ]
  },
  {
   "cell_type": "markdown",
   "id": "337febf0-229c-43b7-9027-e13c50246b42",
   "metadata": {},
   "source": [
    "## 52\tPython Tutorial  : Lo gging Basics - Logging to Files, Setting Levels, and Formatting"
   ]
  },
  {
   "cell_type": "markdown",
   "id": "5e00479c-f4f9-4045-ab81-9f8feda2ba8d",
   "metadata": {},
   "source": [
    "## 53\tPython Tutorial  : Lo gging Advanced - Loggers, Handlers, and Formatters"
   ]
  },
  {
   "cell_type": "markdown",
   "id": "9b0e89e7-de06-44b3-a123-666b4f76965b",
   "metadata": {},
   "source": [
    "## 54\tPython Quick Ti  p: H iding Passwords and Secret Keys in Environment Variables (Mac & Linux)"
   ]
  },
  {
   "cell_type": "markdown",
   "id": "33c17e01-10c6-4796-a2f4-080c7b21be82",
   "metadata": {},
   "source": [
    "## 55\tPython Quick Ti  p: H iding Passwords and Secret Keys in Environment Variables (Windows)"
   ]
  },
  {
   "cell_type": "markdown",
   "id": "c8d5927e-6037-4183-ada3-58ff244c3078",
   "metadata": {},
   "source": [
    "## 56\tPython Tutorial  : if __name__ == '__main__'"
   ]
  },
  {
   "cell_type": "markdown",
   "id": "3c92472f-3ea9-41b2-a30e-5d61cd558249",
   "metadata": {},
   "source": [
    "## 57\tPython Tutorial  : Un it Testing Your Code with the unittest Module"
   ]
  },
  {
   "cell_type": "markdown",
   "id": "e980ab42-764b-4182-b474-d1ea035ee6c6",
   "metadata": {},
   "source": [
    "## 58\tPython Tutorial  : Pi penv - Easily Manage Packages and Virtual Environments"
   ]
  },
  {
   "cell_type": "markdown",
   "id": "a93be9df-417b-4ee9-8707-d5b8f8daf54c",
   "metadata": {},
   "source": [
    "## 59\tPreparing for a  Pyt hon Interview: 10 Things You Should Know"
   ]
  },
  {
   "cell_type": "markdown",
   "id": "6676646f-0f08-4b22-9401-fd4186d47c2a",
   "metadata": {},
   "source": [
    "## 60\tPython Tutorial  : El se Clauses on Loops"
   ]
  },
  {
   "cell_type": "markdown",
   "id": "597ddb9e-d002-4f39-85cc-c4302cb7e321",
   "metadata": {},
   "source": [
    "## 61\tPython Tutorial  : Im age Manipulation with Pillow"
   ]
  },
  {
   "cell_type": "markdown",
   "id": "b4276e85-7f7f-44eb-a5bf-f34f66442536",
   "metadata": {},
   "source": [
    "## 62\tPython Tutorial  : Cu stom Sublime Text Build Systems"
   ]
  },
  {
   "cell_type": "markdown",
   "id": "1dd918ed-609a-44c9-a940-ccde13e49c7e",
   "metadata": {},
   "source": [
    "## 63\tPython: Ex Mach  ina Easter Egg - Hidden Message within the Code"
   ]
  },
  {
   "cell_type": "markdown",
   "id": "b305f196-884a-44a1-a43e-d8239b15821d",
   "metadata": {},
   "source": [
    "## 76\tPython Tutorial  : Se ts - Set Methods and Operations to Solve Common Problems"
   ]
  },
  {
   "cell_type": "markdown",
   "id": "1b2d5b6f-bc9b-4a2f-a8fd-b5c798cdc825",
   "metadata": {},
   "source": [
    "## 90\tPython Tutorial  : It erators and Iterables - What Are They and How Do They Work?"
   ]
  },
  {
   "cell_type": "markdown",
   "id": "2e7b6dd6-f6ff-4f30-9c67-5da055c03cf9",
   "metadata": {},
   "source": [
    "## 92\tPython Tutorial  : It ertools Module - Iterator Functions for Efficient Looping"
   ]
  },
  {
   "cell_type": "markdown",
   "id": "01fe0252-e5b1-4d8d-90f2-79ff5cb44a03",
   "metadata": {},
   "source": [
    "## 101\tPython Tutorial  : Wr ite a Script to Monitor a Website, Send Alert Emails, and Reboot Servers"
   ]
  },
  {
   "cell_type": "markdown",
   "id": "0f1600de-01c5-42b9-8d4c-6f4582a49d14",
   "metadata": {},
   "source": [
    "## 102\tPython Tutorial  : We b Scraping with Requests-HTML"
   ]
  },
  {
   "cell_type": "markdown",
   "id": "adf2dd47-d393-4f72-b2d8-89aa59962210",
   "metadata": {},
   "source": [
    "## 105\tPython Tutorial  : VE NV (Mac & Linux) - How to Use Virtual Environments with the Built-In venv Module"
   ]
  },
  {
   "cell_type": "markdown",
   "id": "f8296b2e-198c-4478-b03c-0c388ce25ea5",
   "metadata": {},
   "source": [
    "## 106\tPython Tutorial  : VE NV (Windows) - How to Use Virtual Environments with the Built-In venv Module"
   ]
  },
  {
   "cell_type": "markdown",
   "id": "62933477-db9c-40a1-833f-e6201513d5fd",
   "metadata": {},
   "source": [
    "## 109\tPython Tutorial  : Cl arifying the Issues with Mutable Default Arguments"
   ]
  },
  {
   "cell_type": "markdown",
   "id": "d6cb25f5-bc85-450d-9fe9-b4259983171f",
   "metadata": {},
   "source": [
    "## 122\tPython Tutorial  : Ca lling External Commands Using the Subprocess Module"
   ]
  },
  {
   "cell_type": "markdown",
   "id": "74bce42a-3646-4b0e-9115-deef0814298b",
   "metadata": {},
   "source": [
    "## 123\tPython Quick Ti  p: T he Difference Between \"==\" and \"is\" (Equality vs Identity)"
   ]
  },
  {
   "cell_type": "markdown",
   "id": "f1ecd783-dfc4-4869-8375-3722649eb066",
   "metadata": {},
   "source": [
    "## 127\tPython Tutorial  : Zi p Files - Creating and Extracting Zip Archives"
   ]
  },
  {
   "cell_type": "markdown",
   "id": "796f60d9-6361-4e95-b24d-680349a7a952",
   "metadata": {},
   "source": [
    "## 139\tPython Tutorial  : Re al World Example - Using Patreon API and Pillow to Automate Image Creation"
   ]
  },
  {
   "cell_type": "markdown",
   "id": "9eb981a8-ae86-4a94-bfee-8105761ef910",
   "metadata": {},
   "source": [
    "## 144\tPython Tutorial  : Si mulate the Powerball Lottery Using Python"
   ]
  },
  {
   "cell_type": "markdown",
   "id": "bd876f18-47ae-4168-84d9-1fd427fcea06",
   "metadata": {},
   "source": [
    "## 146\tPython Tutorial  : Se curely Manage Passwords and API Keys with DotEnv"
   ]
  },
  {
   "cell_type": "markdown",
   "id": "b4c1ccd0-6286-4503-b710-043c513a8bdd",
   "metadata": {},
   "source": [
    "## 149\tPython Tutorial  : Pa thlib - The Modern Way to Handle File Paths"
   ]
  },
  {
   "attachments": {},
   "cell_type": "markdown",
   "id": "aec168b2-0c19-4629-bc15-eadca4506b00",
   "metadata": {},
   "source": [
    "# Python OOP Tutorial (v)\n",
    "* 40\tPython OOP Tutorial 1: Classes and Instances\n",
    "* 41\tPython OOP Tutorial 2: Class Variables\n",
    "* 42\tPython OOP Tutorial 3: classmethods and staticmethods\n",
    "* 43\tPython OOP Tutorial 4: Inheritance - Creating Subclasses\n",
    "* 44\tPython OOP Tutorial 5: Special (Magic/Dunder) Methods\n",
    "* 45\tPython OOP Tutorial 6: Property Decorators - Getters, Setters, and Deleters"
   ]
  },
  {
   "cell_type": "markdown",
   "id": "86e79779-2a61-471b-bbcd-7e337ac19d03",
   "metadata": {
    "jp-MarkdownHeadingCollapsed": true
   },
   "source": [
    "## 40 Python OOP Tutorial 1: Classes and Instances"
   ]
  },
  {
   "cell_type": "code",
   "execution_count": null,
   "id": "756a34d0-dff0-4a72-887e-bb268d868150",
   "metadata": {},
   "outputs": [],
   "source": [
    "#attributes and methods(variables and functions)\n",
    "class Employee:\n",
    "    pass\n",
    "\n",
    "#instances\n",
    "emp1 = Employee()\n",
    "emp2 = Employee()\n",
    "print(emp1)#obj locs\n",
    "print(emp2)\n",
    "\n",
    "#attributes\n",
    "emp1.first = 'Corey'\n",
    "emp1.last = 'Schafer'\n",
    "emp1.email = 'Corey.Schafer@company.com'\n",
    "emp2.first = 'Test'\n",
    "emp2.last = 'User'\n",
    "emp2.email = 'Test.User@company.com'\n",
    "print(\"\")\n",
    "print(emp1.__dict__)\n",
    "print(emp2.__dict__)"
   ]
  },
  {
   "cell_type": "code",
   "execution_count": null,
   "id": "953c2b1c",
   "metadata": {},
   "outputs": [],
   "source": [
    "#member variables\n",
    "class Employee:\n",
    "    #constructor, defining \"member-variables\"\n",
    "    def __init__(self, first, last, pay):\n",
    "        self.first = first\n",
    "        self.last = last\n",
    "        self.pay = pay\n",
    "        self.email = first + '.' + last + '@company.com'\n",
    "\n",
    "emp1 = Employee('Corey','Schafer',50000)\n",
    "emp2 = Employee('Test','User',60000)\n",
    "print(emp1.__dict__)\n",
    "print(emp2.__dict__)"
   ]
  },
  {
   "cell_type": "code",
   "execution_count": null,
   "id": "9aaa5c67",
   "metadata": {},
   "outputs": [],
   "source": [
    "#methods(functions)\n",
    "class Employee:\n",
    "\n",
    "    def __init__(self, first, last, pay):\n",
    "        self.first = first\n",
    "        self.last = last\n",
    "        self.pay = pay\n",
    "        self.email = first + '.' + last + '@company.com'\n",
    "    #public method\n",
    "    def GetFullName(self):\n",
    "        return f'{self.first} {self.last}'\n",
    "\n",
    "#Employee-type obj, make  instance\n",
    "emp1 = Employee('Corey','Schafer',50000)\n",
    "emp2 = Employee('Test','User',60000)\n",
    "\n",
    "#call the method\n",
    "print(emp1.GetFullName()) #1. call from intance by the \"self\"-argument\n",
    "print(Employee.GetFullName(emp1)) #2. call as class function"
   ]
  },
  {
   "cell_type": "code",
   "execution_count": null,
   "id": "b52bcbce-da6e-4b41-9f10-d4572d100de2",
   "metadata": {},
   "outputs": [],
   "source": [
    "#Ex)1. \"public\" access modifier in a class\n",
    "class Student:\n",
    "\n",
    "    # constructor\n",
    "    def __init__(self, name, age):\n",
    "        # public member-vars\n",
    "        self.name = name\n",
    "        self.age = age\n",
    "\n",
    "    # public method\n",
    "    def GetAge(self):\n",
    "        # accessing public member-vars\n",
    "        print(\"Age: \", self.age)\n",
    "\n",
    "# init obj\n",
    "obj = Student(\"Kim\", 20)\n",
    "\n",
    "# finding all data in the directory of the obj\n",
    "print(dir(obj))\n",
    "print(\"\")\n",
    "print(obj.__dict__)#member-vars\n",
    "\n",
    "# accessing public member-var\n",
    "print(\"\")\n",
    "print(f\"Name:{obj.name}\")\n",
    "# calling public method\n",
    "obj.GetAge()"
   ]
  },
  {
   "cell_type": "code",
   "execution_count": null,
   "id": "95cec39c-c7f7-4ecb-94a1-10c46d5cd53e",
   "metadata": {},
   "outputs": [],
   "source": [
    "#Ex)2. \"protected\" access modifier in a class; intended to be called in sub-class\n",
    "# super class\n",
    "class Student:\n",
    "    \n",
    "    # protected member-vars\n",
    "    _name = None\n",
    "    _roll = None\n",
    "    _branch = None\n",
    "\n",
    "    # constructor\n",
    "    def __init__(self, name, roll, branch):\n",
    "        self._name = name\n",
    "        self._roll = roll\n",
    "        self._branch = branch\n",
    "\n",
    "    # protected methods\n",
    "    def _GetRollAndBranch(self):\n",
    "        # accessing protected vars\n",
    "        print(\"Roll:\", self._roll)\n",
    "        print(\"Branch:\", self._branch)\n",
    "\n",
    "# sub class\n",
    "class Geek(Student):\n",
    "\n",
    "    # constructor\n",
    "    def __init__(self, name, roll, branch):\n",
    "        Student.__init__(self, name, roll, branch)\n",
    "\n",
    "    # public methods\n",
    "    def GetDetails(self):\n",
    "        # accessing protected vars of super class\n",
    "        print(\"Name:\", self._name)\n",
    "        # accessing protected methods of super class\n",
    "        self._GetRollAndBranch()\n",
    "\n",
    "# # Sup-class obj\n",
    "# sup1 = Student(\"Alpha\", 1234567, \"Computer Science\")\n",
    "# print(dir(sup1))\n",
    "# # protected vars and methods can be still accessed\n",
    "# print(sup1._name)\n",
    "# sup1._GetRollAndBranch()\n",
    "\n",
    "# # Throws error\n",
    "# print(stu1.name) #no attribute \n",
    "# stu1.GetRollAndBranch() \n",
    "\n",
    "# sub-class obj\n",
    "sub1 = Geek(\"R2J\", 1706256, \"Information Technology\")\n",
    "print(dir(sub1))\n",
    "# call sub-class method\n",
    "sub1.GetDetails()"
   ]
  },
  {
   "cell_type": "code",
   "execution_count": null,
   "id": "e7c7abff-f6cd-475e-94a8-91c7e3f02eb2",
   "metadata": {},
   "outputs": [],
   "source": [
    "#Ex)3. \"private\" access modifier in a class; double underscore; intended to be called within the class\n",
    "class Geek:\n",
    "\n",
    "    # private mvars\n",
    "    __name = None\n",
    "    __roll = None\n",
    "    __branch = None\n",
    "\n",
    "    # constructor\n",
    "    def __init__(self, name, roll, branch):\n",
    "        self.__name = name\n",
    "        self.__roll = roll\n",
    "        self.__branch = branch\n",
    "\n",
    "    # private method\n",
    "    def __getDetails(self):\n",
    "        # accessing private data members\n",
    "        print(\"Name:\", self.__name)\n",
    "        print(\"Roll:\", self.__roll)\n",
    "        print(\"Branch:\", self.__branch)\n",
    "\n",
    "    # public method\n",
    "    def GetPrivateFunction(self):\n",
    "        # accessing private member function\n",
    "        self.__getDetails()\n",
    "\n",
    "# creating object\n",
    "obj1 = Geek(\"R2J\", 1706256, \"Information Technology\")\n",
    "# print(dir(obj1)) #no privates\n",
    "\n",
    "# # Throws error\n",
    "# obj1.__name\n",
    "# obj1.__roll\n",
    "# obj1.__branch\n",
    "# obj1.__GetDetails()\n",
    "\n",
    "# # call class name first to access privates\n",
    "# print(obj1._Geek__name)\n",
    "# print(obj1._Geek__roll)\n",
    "# print(obj1._Geek__branch)\n",
    "# obj1._Geek__getDetails()\n",
    "\n",
    "# calling public method that chained to private method\n",
    "obj1.GetPrivateFunction()"
   ]
  },
  {
   "cell_type": "markdown",
   "id": "1833efc7-691c-4269-ac11-dd9e99822ef5",
   "metadata": {
    "jp-MarkdownHeadingCollapsed": true
   },
   "source": [
    "## 41 Python OOP Tutorial 2: Class Variables"
   ]
  },
  {
   "cell_type": "code",
   "execution_count": 1,
   "id": "d2199ccc-dee8-4c93-b6c5-b075276d4879",
   "metadata": {},
   "outputs": [
    {
     "name": "stdout",
     "output_type": "stream",
     "text": [
      "{'first': 'Corey', 'last': 'Schafer', 'pay': 50000, 'email': 'Corey.Schafer@company.com'}\n",
      "\n",
      "1.04\n",
      "1.1\n",
      "1.04\n",
      "{'first': 'Corey', 'last': 'Schafer', 'pay': 50000, 'email': 'Corey.Schafer@company.com', 'raiseRate': 1.1}\n",
      "{'first': 'Test', 'last': 'User', 'pay': 60000, 'email': 'Test.User@company.com'}\n"
     ]
    }
   ],
   "source": [
    "class Employee:\n",
    "\n",
    "    raiseRate = 1.04 #public var for the class' objs\n",
    "    \n",
    "    def __init__(self, first, last, pay):\n",
    "        self.first = first #public\n",
    "        self.last = last\n",
    "        self.pay = pay\n",
    "        self.email = first + '.' + last + '@company.com'\n",
    "    \n",
    "    def GetFullName(self):\n",
    "        return f'{self.first} {self.last}'\n",
    "\n",
    "    def SetRaise(self):\n",
    "        self.pay = int(self.pay * self.raiseRate)\n",
    "        \n",
    "emp1 = Employee('Corey','Schafer',50000)\n",
    "emp2 = Employee('Test','User',60000)\n",
    "\n",
    "print(emp1.__dict__)\n",
    "print(\"\")\n",
    "emp1.raiseRate = 1.10\n",
    "print(Employee.raiseRate) # class\n",
    "print(emp1.raiseRate) #obj; new mvar is added in constructor\n",
    "print(emp2.raiseRate) #obj; print out the var\n",
    "print(emp1.__dict__)\n",
    "print(emp2.__dict__)"
   ]
  },
  {
   "cell_type": "code",
   "execution_count": 2,
   "id": "5174bd09",
   "metadata": {},
   "outputs": [
    {
     "name": "stdout",
     "output_type": "stream",
     "text": [
      "50000\n",
      "62400\n"
     ]
    }
   ],
   "source": [
    "class Employee:\n",
    "\n",
    "    __raiseRate = 1.04 #private mvar\n",
    "    \n",
    "    def __init__(self, first, last, pay):\n",
    "        self.first = first\n",
    "        self.last = last\n",
    "        self.pay = pay\n",
    "        self.email = first + '.' + last + '@company.com'\n",
    "    \n",
    "    def GetFullName(self):\n",
    "        return f'{self.first} {self.last}'\n",
    "\n",
    "    def SetRaise(self):\n",
    "        self.pay = int(self.pay * self.__raiseRate) #mvar is accessible within the class\n",
    "\n",
    "    # creat get-method to access mvar\n",
    "    def GetRaiseRate(self):\n",
    "        return self.__raiseRate\n",
    "\n",
    "emp1 = Employee('Test','User',50000)\n",
    "emp2 = Employee('Saul','Goodman',60000)\n",
    "\n",
    "# print(emp1.__raiseRate) #attributeError: private var is not accessible\n",
    "\n",
    "#get/set to access privates\n",
    "emp1.GetRaiseRate()\n",
    "emp2.SetRaise()\n",
    "print(emp1.pay)\n",
    "print(emp2.pay)"
   ]
  },
  {
   "cell_type": "code",
   "execution_count": 3,
   "id": "1392ded3",
   "metadata": {},
   "outputs": [
    {
     "name": "stdout",
     "output_type": "stream",
     "text": [
      "0\n",
      "2\n"
     ]
    }
   ],
   "source": [
    "class Employee:\n",
    "\n",
    "    numOfemp = 0\n",
    "    raiseRate = 1.04  \n",
    "    \n",
    "    def __init__(self, first, last, pay):\n",
    "        self.first = first\n",
    "        self.last = last\n",
    "        self.pay = pay\n",
    "        self.email = first + '.' + last + '@company.com'\n",
    "\n",
    "        Employee.numOfemp += 1\n",
    "        \n",
    "    def GetFullName(self):\n",
    "        return f'{self.first} {self.last}'\n",
    "\n",
    "    def SetRaise(self):\n",
    "        self.pay = int(self.pay * self.raiseRate)\n",
    "\n",
    "before = Employee.numOfemp\n",
    "emp1 = Employee('Test','User',50000)\n",
    "emp2 = Employee('Saul','Goodman',60000)\n",
    "after = Employee.numOfemp\n",
    "print(before)\n",
    "print(after)"
   ]
  },
  {
   "cell_type": "markdown",
   "id": "e1d249e4-88c8-4bd5-89ec-ee14c03fcc45",
   "metadata": {
    "jp-MarkdownHeadingCollapsed": true
   },
   "source": [
    "## 42 Python OOP Tutorial 3: classmethods and staticmethods"
   ]
  },
  {
   "cell_type": "code",
   "execution_count": null,
   "id": "058e64c1-3c44-487d-a678-6c1a649ebbff",
   "metadata": {},
   "outputs": [],
   "source": [
    "#class methods VS. Instance methods; arg:cls vs arg:obj\n",
    "class Employee:\n",
    "\n",
    "    numOfemp = 0\n",
    "    raiseRate = 1.04  \n",
    "    \n",
    "    def __init__(self, first, last, pay):\n",
    "        self.first = first\n",
    "        self.last = last\n",
    "        self.pay = pay\n",
    "        self.email = first + '.' + last + '@company.com'\n",
    "\n",
    "        Employee.numOfemp += 1\n",
    "        \n",
    "    def GetFullName(self):\n",
    "        return f'{self.first} {self.last}'\n",
    "\n",
    "    def SetRaise(self): #obj-itself\n",
    "        self.pay = int(self.pay * self.raiseRate)\n",
    "\n",
    "    @classmethod\n",
    "    def SetRaiseRate(cls, amount): #class-itself\n",
    "        cls.raiseRate = amount\n",
    "\n",
    "emp1 = Employee('Test','User',50000)\n",
    "emp2 = Employee('Saul','Goodman',60000)\n",
    "\n",
    "# by class method\n",
    "Employee.SetRaiseRate(1.15)\n",
    "print(emp2.raiseRate)\n",
    "\n",
    "# by instance method\n",
    "emp2.SetRaise()\n",
    "print(emp2.pay)"
   ]
  },
  {
   "cell_type": "code",
   "execution_count": null,
   "id": "ad2b0ee9",
   "metadata": {},
   "outputs": [],
   "source": [
    "#ex) A class method handle str input\n",
    "class Employee:\n",
    "\n",
    "    numOfemp = 0\n",
    "    raiseRate = 1.04  \n",
    "    \n",
    "    def __init__(self, first, last, pay):\n",
    "        self.first = first\n",
    "        self.last = last\n",
    "        self.pay = pay\n",
    "        self.email = first + '.' + last + '@company.com'\n",
    "\n",
    "        Employee.numOfemp += 1\n",
    "        \n",
    "    def GetFullName(self):\n",
    "        return f'{self.first} {self.last}'\n",
    "\n",
    "    def SetRaise(self): #obj-itself\n",
    "        self.pay = int(self.pay * self.raiseRate)\n",
    "\n",
    "    @classmethod\n",
    "    def SetRaiseRate(cls, amount): #class-itself\n",
    "        cls.raiseRate = amount\n",
    "\n",
    "    @classmethod\n",
    "    def InitEmployeeStrInput(cls,emp_str):\n",
    "        first, last, pay = emp_str.split('-')\n",
    "        return cls(first, last, pay)\n",
    "        \n",
    "#str input\n",
    "emp_str1 = 'John-Doe-70000'\n",
    "emp_str2 = 'Steve-Smith-30000'\n",
    "emp_str3 = 'Jane-Doe-90000'\n",
    "\n",
    "#init obj\n",
    "new_emp1 = Employee.InitEmployeeStrInput(emp_str1)\n",
    "print(new_emp1.__dict__)"
   ]
  },
  {
   "cell_type": "code",
   "execution_count": null,
   "id": "e6aee57d-50fc-4e75-9ffc-173f38f6622f",
   "metadata": {},
   "outputs": [],
   "source": [
    "#static method vs class method; plain function vs arg:cls\n",
    "class Employee:\n",
    "\n",
    "    numOfemp = 0\n",
    "    raiseRate = 1.04  \n",
    "    \n",
    "    def __init__(self, first, last, pay):\n",
    "        self.first = first\n",
    "        self.last = last\n",
    "        self.pay = pay\n",
    "        self.email = first + '.' + last + '@company.com'\n",
    "\n",
    "        Employee.numOfemp += 1\n",
    "        \n",
    "    def GetFullName(self):\n",
    "        return f'{self.first} {self.last}'\n",
    "\n",
    "    def SetRaise(self): #obj-itself\n",
    "        self.pay = int(self.pay * self.raiseRate)\n",
    "\n",
    "    @classmethod\n",
    "    def SetRaiseRate(cls, amount): #class-itself\n",
    "        cls.raiseRate = amount\n",
    "\n",
    "    @classmethod\n",
    "    def InitEmployeeStrInput(cls,emp_str):\n",
    "        first, last, pay = emp_str.split('-')\n",
    "        return cls(first, last, pay)\n",
    "\n",
    "    @staticmethod\n",
    "    def IsWorkday(day): #arg: no instance or class\n",
    "        if day.weekday()==5 or day.weekday()==6:\n",
    "            return False\n",
    "        else:\n",
    "            return True\n",
    "\n",
    "emp1 = Employee('Test','User',50000)\n",
    "emp2 = Employee('Saul','Goodman',60000)     \n",
    "\n",
    "import datetime\n",
    "date1 = datetime.date(2025,7,13)\n",
    "bWorkDate = Employee.IsWorkday(date1)\n",
    "if bWorkDate:\n",
    "    print(\"valid update\")\n",
    "else:\n",
    "    print(\"Try to update on workday\")"
   ]
  },
  {
   "cell_type": "markdown",
   "id": "ccfd1ee6-1b3d-46cc-ae96-ed54ff752619",
   "metadata": {
    "jp-MarkdownHeadingCollapsed": true
   },
   "source": [
    "## 43 Python OOP Tutorial 4: Inheritance - Creating Subclasses"
   ]
  },
  {
   "cell_type": "code",
   "execution_count": null,
   "id": "3cd6666b-5290-41d3-bf8c-27879e86a9f8",
   "metadata": {},
   "outputs": [],
   "source": [
    "#sub-class\n",
    "class Employee:\n",
    "    \n",
    "    raiseRate = 1.04  \n",
    "    \n",
    "    def __init__(self, first, last, pay):\n",
    "        self.first = first\n",
    "        self.last = last\n",
    "        self.pay = pay\n",
    "        self.email = first + '.' + last + '@company.com'\n",
    "        \n",
    "    def GetFullName(self):\n",
    "        return f'{self.first} {self.last}'\n",
    "\n",
    "    def SetRaise(self): \n",
    "        self.pay = int(self.pay * self.raiseRate)\n",
    "\n",
    "#derived class\n",
    "class Developer(Employee):\n",
    "    pass\n",
    "\n",
    "dev1 = Developer('Test','User',50000)\n",
    "dev2 = Developer('Kim','wexler',60000)\n",
    "\n",
    "print(dev1.__dict__)\n",
    "print(dev2.__dict__)\n",
    "print(\"\")\n",
    "\n",
    "print(help(Developer)) #see the argument and the order"
   ]
  },
  {
   "cell_type": "code",
   "execution_count": null,
   "id": "d331b093-b43f-4865-926b-b8b676d90d8b",
   "metadata": {},
   "outputs": [],
   "source": [
    "#inii sub-class\n",
    "class Employee:\n",
    "    \n",
    "    raiseRate = 1.04  \n",
    "    \n",
    "    def __init__(self, first, last, pay):\n",
    "        self.first = first\n",
    "        self.last = last\n",
    "        self.pay = pay\n",
    "        self.email = first + '.' + last + '@company.com'\n",
    "        \n",
    "    def GetFullName(self):\n",
    "        return f'{self.first} {self.last}'\n",
    "\n",
    "    def SetRaise(self): \n",
    "        self.pay = int(self.pay * self.raiseRate)\n",
    "\n",
    "class Developer(Employee):\n",
    "    \n",
    "    raiseRate = 1.20\n",
    "\n",
    "    def __init__(self, first, last, pay, prog_lang): #new arg added\n",
    "        super().__init__(first, last, pay) #inherits from sup-class\n",
    "        # Employee.__init__(self, first, last, pay) #explicit class name for multiple inherited \n",
    "        self.prog_lang = prog_lang\n",
    "\n",
    "dev1 = Developer('Corey','Schafer',50000, 'Python')\n",
    "dev2 = Developer('Test','User',60000, 'Java')\n",
    "\n",
    "#inherited from sup-class\n",
    "print(dev1.pay)\n",
    "dev1.SetRaise()\n",
    "print(dev1.pay)\n",
    "print(dev1.__dict__)"
   ]
  },
  {
   "cell_type": "code",
   "execution_count": null,
   "id": "c954df3f",
   "metadata": {},
   "outputs": [],
   "source": [
    "#sub-class and bool funcs\n",
    "class Employee:\n",
    "    \n",
    "    raiseRate = 1.04  \n",
    "    \n",
    "    def __init__(self, first, last, pay):\n",
    "        self.first = first\n",
    "        self.last = last\n",
    "        self.pay = pay\n",
    "        self.email = first + '.' + last + '@company.com'\n",
    "        \n",
    "    def GetFullName(self):\n",
    "        return f'{self.first} {self.last}'\n",
    "\n",
    "    def SetRaise(self): \n",
    "        self.pay = int(self.pay * self.raiseRate)\n",
    "\n",
    "class Developer(Employee):\n",
    "    \n",
    "    raiseRate = 1.20\n",
    "\n",
    "    def __init__(self, first, last, pay, prog_lang):\n",
    "        Employee.__init__(self, first, last, pay)\n",
    "        self.prog_lang = prog_lang\n",
    "\n",
    "#define new sub-class\n",
    "class Manager(Employee):\n",
    "    \n",
    "    def __init__(self, first, last, pay, employees=None): #no iterable type for defaul argument\n",
    "        Employee.__init__(self, first, last, pay)\n",
    "\n",
    "        #list arg\n",
    "        if employees is None:\n",
    "            self.employee = []\n",
    "        else:\n",
    "            self.employees = employees\n",
    "\n",
    "    #instance methods\n",
    "    def AddEmp(self, emp):\n",
    "        if emp not in self.employees:\n",
    "            self.employees.append(emp)\n",
    "\n",
    "    def RemoveEmp(self, emp):\n",
    "        if emp in self.employees:\n",
    "            self.employees.remove(emp)\n",
    "\n",
    "    def PrintEmp(self):\n",
    "        for i, emp in enumerate(self.employees):\n",
    "            print(f'{i+1}. {emp.GetFullName()}')\n",
    "\n",
    "#init objs\n",
    "dev1 = Developer('Test','User',50000, 'Python')\n",
    "dev2 = Developer('Saul','Goodman',60000, 'Java')\n",
    "mgr1 = Manager('Kim', 'Wexler', 90000, [dev1])\n",
    "\n",
    "# #1. print manager and sub-employees\n",
    "# print(mgr1.GetFullName())\n",
    "# mgr1.AddEmp(dev2)\n",
    "# mgr1.PrintEmp()\n",
    "# print(mgr1.GetFullName())\n",
    "# mgr1.RemoveEmp(dev2)\n",
    "# mgr1.PrintEmp()\n",
    "\n",
    "# #2. two bool func\n",
    "# print(isinstance(mgr1, Manager))\n",
    "# print(issubclass(Manager, Developer))"
   ]
  },
  {
   "cell_type": "markdown",
   "id": "be8954d4-2340-4132-9d83-7513049a320c",
   "metadata": {
    "jp-MarkdownHeadingCollapsed": true
   },
   "source": [
    "## 44 Python OOP Tutorial 5: Special (Magic/Dunder) Methods"
   ]
  },
  {
   "cell_type": "code",
   "execution_count": null,
   "id": "76681b88-5e3c-4ee0-8ccf-f77149a4542f",
   "metadata": {},
   "outputs": [],
   "source": [
    "#python special methods; These methods allow us to emulate built-in types or implement operator overloading.\n",
    "class Employee:\n",
    "    \n",
    "    raiseRate = 1.04  \n",
    "    \n",
    "    def __init__(self, first, last, pay):\n",
    "        self.first = first\n",
    "        self.last = last\n",
    "        self.pay = pay\n",
    "        self.email = first + '.' + last + '@company.com'\n",
    "        \n",
    "    def GetFullName(self):\n",
    "        return f'{self.first} {self.last}'\n",
    "\n",
    "    def SetRaise(self): \n",
    "        self.pay = int(self.pay * self.raiseRate)\n",
    "\n",
    "    #dunder methods for Obj's information\n",
    "    #representation for other developers\n",
    "    def __repr__(self):\n",
    "        return f\"Employee('{self.first}', '{self.last}', '{self.pay}')\" #same format as the data saved in; representation in memory\n",
    "    #representation for end user; what str format for printing out the obj\n",
    "    def __str__(self):\n",
    "        return f\"{self.GetFullName()} - {self.email}\"\n",
    "\n",
    "emp1 = Employee('Corey', 'Schafer', 50000)\n",
    "emp2 = Employee('Test', 'User', 60000)\n",
    "\n",
    "# #1.\n",
    "# print(emp1)\n",
    "# #2. access the info with built-in class method\n",
    "# print(\"\")\n",
    "# print(repr(emp1))\n",
    "# print(str(emp1))\n",
    "# #3. access the info with instance\n",
    "# print(\"\")\n",
    "# print(emp1.__repr__())\n",
    "# print(emp1.__str__())\n",
    "\n",
    "#4.eventurally class/obj; such int, float are also class(class,type,obj), and python prebuilt methods in the class\n",
    "#https://docs.python.org/3/reference/datamodel.html; 3.3.8 Eumulating numeric types\n",
    "\n",
    "#int type\n",
    "#with usual operation\n",
    "print(1+2)\n",
    "#with class methods\n",
    "print(\"\")\n",
    "print(int.__add__(1,2))\n",
    "print(str.__add__('a','b'))\n",
    "\n",
    "#char/str type\n",
    "str1 = 'test'\n",
    "print(len(str1))\n",
    "print(str1.__len__())"
   ]
  },
  {
   "cell_type": "code",
   "execution_count": null,
   "id": "c655fb79-9b0d-4401-ae3d-271696981cc4",
   "metadata": {},
   "outputs": [],
   "source": [
    "#Ex) __add__() and __len__() methods in Employee class\n",
    "class Employee:\n",
    "    \n",
    "    raiseRate = 1.04  \n",
    "    \n",
    "    def __init__(self, first, last, pay):\n",
    "        self.first = first\n",
    "        self.last = last\n",
    "        self.pay = pay\n",
    "        self.email = first + '.' + last + '@company.com'\n",
    "        \n",
    "    def GetFullName(self):\n",
    "        return f'{self.first} {self.last}'\n",
    "\n",
    "    def SetRaise(self): \n",
    "        self.pay = int(self.pay * self.raiseRate)\n",
    "\n",
    "    def __repr__(self):\n",
    "        return f\"Employee('{self.first}', '{self.last}', '{self.pay}')\" \n",
    "\n",
    "    def __str__(self):\n",
    "        return f\"{self.GetFullName()} - {self.email}\"\n",
    "\n",
    "    #dunder methods for arithmatic: https://docs.python.org/3/reference/datamodel.html\n",
    "    #The specific operation can be define by class under same name, but it should make sense.\n",
    "    def __add__(self, other):\n",
    "        return self.pay + other.pay\n",
    "        \n",
    "    def __len__(self):\n",
    "        return len(self.GetFullName())\n",
    "\n",
    "emp1 = Employee('Corey', 'Schafer', 50000)\n",
    "emp2 = Employee('Test', 'User', 60000)\n",
    "\n",
    "# #dunder add method\n",
    "# print(emp1 + emp2)\n",
    "# print(emp1.__add__(emp2))\n",
    "# print(len(emp1))\n",
    "# print(emp2.__len__())\n",
    "# print(len(emp1) + len(emp2))"
   ]
  },
  {
   "cell_type": "code",
   "execution_count": null,
   "id": "06b91952-308e-4839-a3c2-ab2bd00896fe",
   "metadata": {},
   "outputs": [],
   "source": [
    "#Ex) datetime module src code: https://github.com/python/cpython/blob/main/Lib/_pydatetime.py\n",
    "# review the doc for understanding python src codes, and especailly dunder methods!\n",
    "# eg. search \"__add__\", \"class date\""
   ]
  },
  {
   "cell_type": "markdown",
   "id": "b7468eea-1e63-4b43-bfb2-cbf5bae1cb8b",
   "metadata": {
    "jp-MarkdownHeadingCollapsed": true
   },
   "source": [
    "## 45 Python OOP Tutorial 6: Property Decorators <- Getter, Setter, and Deleter Functions"
   ]
  },
  {
   "cell_type": "code",
   "execution_count": null,
   "id": "34277192-6754-4c4e-99d1-e8b583e8e4ec",
   "metadata": {},
   "outputs": [],
   "source": [
    "#getter/setter/deleter functions modifies the mvars; 결국 OOP 프로그래밍은 변수와 그 상태, 그것을 가능케하는 함수(변수를 트랜스폼 해서 어떤 상태로 만들건데?)\n",
    "#properties: internally func, but it is called like variable\n",
    "\n",
    "#instance method\n",
    "class Employee:\n",
    "    \n",
    "    def __init__(self, first, last):\n",
    "        self.first = first\n",
    "        self.last = last\n",
    "        self.email = first + '.' + last + '@company.com'\n",
    "    \n",
    "    def GetFullName(self): \n",
    "        return f'{self.first} {self.last}'\n",
    "\n",
    "emp1 = Employee('Corey', 'Schafer')\n",
    "\n",
    "#The mvar is not linked, new codes need for updating related vars\n",
    "emp1.first = 'Lane'\n",
    "emp1.last = 'Kim'\n",
    "print(emp1.GetFullName())\n",
    "print(emp1.email)"
   ]
  },
  {
   "cell_type": "code",
   "execution_count": null,
   "id": "49f69c4b-ad32-4524-bdcf-6ff7c48272d0",
   "metadata": {},
   "outputs": [],
   "source": [
    "#property=변수x함수: 새로운 개념의 등장 (in OOP) 그러나 변수/함수에서 크게 다르지않음; 변수를 함수화해서 저장하놓고 콜하겠다\n",
    "\n",
    "#getter -> property decorator\n",
    "class Employee:\n",
    "    \n",
    "    def __init__(self, first, last): #limited input args\n",
    "        self.first = first\n",
    "        self.last = last\n",
    "\n",
    "    #define properties: func(instantaneous) that return output derived from the mvars(static)\n",
    "    @property\n",
    "    def email(self): \n",
    "        return f'{self.first}.{self.last}@companyA.com'\n",
    "    @property\n",
    "    def fullname(self): \n",
    "        return f'{self.first} {self.last}'\n",
    "\n",
    "#init obj\n",
    "emp1 = Employee('Corey', 'Schafer')\n",
    "\n",
    "#update mvar\n",
    "emp1.first = 'Lane'\n",
    "emp1.last = 'Kim'\n",
    "\n",
    "#call property, not update var\n",
    "print(emp1.fullname)\n",
    "print(emp1.email) \n",
    "\n",
    "print(emp1.__dict__)"
   ]
  },
  {
   "cell_type": "code",
   "execution_count": null,
   "id": "bbbe91c9-5827-453c-9f60-ef53740f0615",
   "metadata": {},
   "outputs": [],
   "source": [
    "#function overload; transform(get/set/del) member-vars\n",
    "class Employee:\n",
    "    \n",
    "    def __init__(self, first, last):\n",
    "        self.first = first\n",
    "        self.last = last\n",
    "\n",
    "    @property \n",
    "    def email(self): \n",
    "        return f'{self.first}.{self.last}@companyA.com'\n",
    "    @property\n",
    "    def fullname(self): \n",
    "        return f'{self.first} {self.last}'\n",
    "    \n",
    "    #setter property\n",
    "    #function overload; same name, new arg\n",
    "    @fullname.setter\n",
    "    def fullname(self, name): \n",
    "        first, last = name.split(' ')\n",
    "        self.first = first\n",
    "        self.last = last\n",
    "\n",
    "    #deleter decorator: call by \"del\"\n",
    "    @fullname.deleter\n",
    "    def fullname(self):\n",
    "        print(\"Name deleted\")\n",
    "        self.first = None\n",
    "        self.last = None\n",
    "\n",
    "#init class\n",
    "emp1 = Employee('John', 'Smith')\n",
    "\n",
    "#update mvars\n",
    "emp1.fullname = 'Lane Kim'\n",
    "print(emp1.first)\n",
    "print(emp1.email)\n",
    "print(emp1.fullname)\n",
    "\n",
    "#del mvars\n",
    "del emp1.fullname\n",
    "print(\"\")\n",
    "print(emp1.first)\n",
    "print(emp1.email)\n",
    "print(emp1.fullname)"
   ]
  },
  {
   "attachments": {},
   "cell_type": "markdown",
   "id": "b741b95c-87ff-47fb-9dab-577c719204d9",
   "metadata": {
    "jp-MarkdownHeadingCollapsed": true
   },
   "source": [
    "# Python Flask Tutorial\n",
    "* 64\tPython Flask Tutori al: Full-Featured Web App Part 1 - Getting Started\n",
    "* 65\tPython Flask Tutori al: Full-Featured Web App Part 2 - Templates\n",
    "* 66\tPython Flask Tutori al: Full-Featured Web App Part 3 - Forms and User Input\n",
    "* 67\tPython Flask Tutori al: Full-Featured Web App Part 4 - Database with Flask-SQLAlchemy\n",
    "* 68\tPython Flask Tutori al: Full-Featured Web App Part 5 - Package Structure\n",
    "* 69\tPython Flask Tutori al: Full-Featured Web App Part 6 - User Authentication\n",
    "* 70\tPython Flask Tutori al: Full-Featured Web App Part 7 - User Account and Profile Picture\n",
    "* 71\tPython Flask Tutori al: Full-Featured Web App Part 8 - Create, Update, and Delete Posts\n",
    "* 72\tPython Flask Tutori al: Full-Featured Web App Part 9 - Pagination\n",
    "* 73\tPython Flask Tutori al: Full-Featured Web App Part 10 - Email and Password Reset\n",
    "* 74\tPython Flask Tutori al: Full-Featured Web App Part 11 - Blueprints and Configuration\n",
    "* 75\tPython Flask Tutori al: Full-Featured Web App Part 12 - Custom Error Pages\n",
    "* 93\tPython Flask Tutori al: Deploying Your Application (Option #1) - Deploy to a Linux Server\n",
    "* 94\tPython Flask Tutori al: How to Use a Custom Domain Name for Our Application\n",
    "* 96\tPython Flask Tutori al: How to enable HTTPS with a free SSL/TLS Certificate using Let's Encrypt"
   ]
  },
  {
   "cell_type": "markdown",
   "id": "d0ddb3a9-6f92-4046-9a8c-1d7313fb9fd5",
   "metadata": {},
   "source": [
    "## 64\tPython Flask Tu  tori al: Full-Featured Web App Part 1 - Getting Started"
   ]
  },
  {
   "cell_type": "markdown",
   "id": "a99ee74f-8be2-420f-af70-fcf012579b7a",
   "metadata": {},
   "source": [
    "## 65\tPython Flask Tu  tori al: Full-Featured Web App Part 2 - Templates"
   ]
  },
  {
   "cell_type": "markdown",
   "id": "f296e3a1-1f23-4dd1-ae72-fa05fc9af5f7",
   "metadata": {},
   "source": [
    "## 66\tPython Flask Tu  tori al: Full-Featured Web App Part 3 - Forms and User Input"
   ]
  },
  {
   "cell_type": "markdown",
   "id": "568fad18-b676-4631-a931-3da241da8a3f",
   "metadata": {},
   "source": [
    "## 67\tPython Flask Tu  tori al: Full-Featured Web App Part 4 - Database with Flask-SQLAlchemy"
   ]
  },
  {
   "cell_type": "markdown",
   "id": "c2a77806-27af-4b85-9fe9-e8745c42de25",
   "metadata": {},
   "source": [
    "## 68\tPython Flask Tu  tori al: Full-Featured Web App Part 5 - Package Structure"
   ]
  },
  {
   "cell_type": "markdown",
   "id": "4aafac66-8608-44f5-8285-bd7ba32fd5b8",
   "metadata": {},
   "source": [
    "## 69\tPython Flask Tu  tori al: Full-Featured Web App Part 6 - User Authentication"
   ]
  },
  {
   "cell_type": "markdown",
   "id": "098700c6-656d-42be-8a79-ea2f6acc1ee4",
   "metadata": {},
   "source": [
    "## 70\tPython Flask Tu  tori al: Full-Featured Web App Part 7 - User Account and Profile Picture"
   ]
  },
  {
   "cell_type": "markdown",
   "id": "e3623206-2d59-41cc-84c0-b86c3bf1e2f1",
   "metadata": {},
   "source": [
    "## 71\tPython Flask Tu  tori al: Full-Featured Web App Part 8 - Create, Update, and Delete Posts"
   ]
  },
  {
   "cell_type": "markdown",
   "id": "475c152b-97b6-4102-a862-d56ed8efa6e0",
   "metadata": {},
   "source": [
    "## 72\tPython Flask Tu  tori al: Full-Featured Web App Part 9 - Pagination"
   ]
  },
  {
   "cell_type": "markdown",
   "id": "ae1a3169-5e26-4630-ade5-3c00ffbb0f5f",
   "metadata": {},
   "source": [
    "## 73\tPython Flask Tu  tori al: Full-Featured Web App Part 10 - Email and Password Reset"
   ]
  },
  {
   "cell_type": "markdown",
   "id": "6e75e58e-ce0f-492f-8068-13a53838a07f",
   "metadata": {},
   "source": [
    "## 74\tPython Flask Tu  tori al: Full-Featured Web App Part 11 - Blueprints and Configuration"
   ]
  },
  {
   "cell_type": "markdown",
   "id": "24af3e1b-349a-4e9c-90b2-817b31388f49",
   "metadata": {},
   "source": [
    "## 75\tPython Flask Tu  tori al: Full-Featured Web App Part 12 - Custom Error Pages"
   ]
  },
  {
   "cell_type": "markdown",
   "id": "fcf1bbc5-7372-4996-925d-685546dc35fc",
   "metadata": {},
   "source": [
    "## 93\tPython Flask Tu  tori al: Deploying Your Application (Option #1) - Deploy to a Linux Server"
   ]
  },
  {
   "cell_type": "markdown",
   "id": "482f3dcf-f51c-4d6f-aab2-252bf35f6d6c",
   "metadata": {},
   "source": [
    "## 94\tPython Flask Tu  tori al: How to Use a Custom Domain Name for Our Application"
   ]
  },
  {
   "cell_type": "markdown",
   "id": "22bef8ee-1d91-43ef-969f-b18d1a1e3460",
   "metadata": {},
   "source": [
    "## 96\tPython Flask Tu  tori al: How to enable HTTPS with a free SSL/TLS Certificate using Let's Encrypt"
   ]
  },
  {
   "attachments": {},
   "cell_type": "markdown",
   "id": "605bd5d0-ef1d-4e66-96a2-252be11053a8",
   "metadata": {
    "jp-MarkdownHeadingCollapsed": true
   },
   "source": [
    "# Python Django Tutorial\n",
    "* 77. Python Django Tutorial: Full-Featured Web App Part 1 - Getting Started\n",
    "* 78. Python Django Tutorial: Full-Featured Web App Part 2 - Applications and Routes\n",
    "* 79. Python Django Tutorial: Full-Featured Web App Part 3 - Templates\n",
    "* 80. Python Django Tutorial: Full-Featured Web App Part 4 - Admin Page\n",
    "* 81. Python Django Tutorial: Full-Featured Web App Part 5 - Database and Migrations\n",
    "* 82. Python Django Tutorial: Full-Featured Web App Part 6 - User Registration\n",
    "* 83. Python Django Tutorial: Full-Featured Web App Part 7 - Login and Logout System\n",
    "* 84. Python Django Tutorial: Full-Featured Web App Part 8 - User Profile and Picture\n",
    "* 85. Python Django Tutorial: Full-Featured Web App Part 9 - Update User Profile\n",
    "* 86. Python Django Tutorial: Full-Featured Web App Part 10 - Create, Update, and Delete Posts\n",
    "* 87. Python Django Tutorial: Full-Featured Web App Part 11 - Pagination\n",
    "* 88. Python Django Tutorial: Full-Featured Web App Part 12 - Email and Password Reset\n",
    "* 89. Python Django Tutorial: Deploying Your Application (Option #1) - Deploy to a Linux Server\n",
    "* 95. Python Django Tutorial: How to Use a Custom Domain Name for Our Application\n",
    "* 97. Python Django Tutorial: How to enable HTTPS with a free SSL/TLS Certificate using Let's Encrypt\n",
    "* 98. Python Django Tutorial: Full-Featured Web App Part 13 - Using AWS S3 for File Uploads\n",
    "* 99. Python Django Tutorial: Deploying Your Application (Option #2) - Deploy using Heroku\n"
   ]
  },
  {
   "cell_type": "markdown",
   "id": "4d9dd6ce-73e5-4d80-a947-8fa7fff4a2dc",
   "metadata": {},
   "source": [
    "## 77. Python Django T  utor ial: Full-Featured Web App Part 1 - Getting Started"
   ]
  },
  {
   "cell_type": "markdown",
   "id": "44bff7bc-5238-4146-b702-2ba2d51be5e8",
   "metadata": {},
   "source": [
    "## 78. Python Django T  utor ial: Full-Featured Web App Part 2 - Applications and Routes"
   ]
  },
  {
   "cell_type": "markdown",
   "id": "ce8a0673-13d1-45ad-a550-8c9204c28186",
   "metadata": {},
   "source": [
    "## 79. Python Django T  utor ial: Full-Featured Web App Part 3 - Templates"
   ]
  },
  {
   "cell_type": "markdown",
   "id": "98b1b5f8-89c3-44bd-bc66-1bf7d4971c02",
   "metadata": {},
   "source": [
    "## 80. Python Django T  utor ial: Full-Featured Web App Part 4 - Admin Page"
   ]
  },
  {
   "cell_type": "markdown",
   "id": "4640fac3-f937-4e4d-b7a6-97dae6b66956",
   "metadata": {},
   "source": [
    "## 81. Python Django T  utor ial: Full-Featured Web App Part 5 - Database and Migrations"
   ]
  },
  {
   "cell_type": "markdown",
   "id": "c98c8276-9031-4c92-8c53-8094fc2737e6",
   "metadata": {},
   "source": [
    "## 82. Python Django T  utor ial: Full-Featured Web App Part 6 - User Registration"
   ]
  },
  {
   "cell_type": "markdown",
   "id": "25473ea2-ffa4-4af8-8c3b-eb793d914f3f",
   "metadata": {},
   "source": [
    "## 83. Python Django T  utor ial: Full-Featured Web App Part 7 - Login and Logout System"
   ]
  },
  {
   "cell_type": "markdown",
   "id": "ba615667-6878-470d-9468-8cc4d08d034f",
   "metadata": {},
   "source": [
    "## 84. Python Django T  utor ial: Full-Featured Web App Part 8 - User Profile and Picture"
   ]
  },
  {
   "cell_type": "markdown",
   "id": "0b29e82e-3e21-422a-ab18-5ded737a66dd",
   "metadata": {},
   "source": [
    "## 85. Python Django T  utor ial: Full-Featured Web App Part 9 - Update User Profile"
   ]
  },
  {
   "cell_type": "markdown",
   "id": "8061a191-fbe7-4f84-a7a3-afca6f85784e",
   "metadata": {},
   "source": [
    "## 86. Python Django T  utor ial: Full-Featured Web App Part 10 - Create, Update, and Delete Posts"
   ]
  },
  {
   "cell_type": "markdown",
   "id": "8af33944-7d8a-4a6e-b4dc-1b4a1a410a6a",
   "metadata": {},
   "source": [
    "## 87. Python Django T  utor ial: Full-Featured Web App Part 11 - Pagination"
   ]
  },
  {
   "cell_type": "markdown",
   "id": "389eea83-85f7-442d-8ccd-375a714644c4",
   "metadata": {},
   "source": [
    "## 88. Python Django T  utor ial: Full-Featured Web App Part 12 - Email and Password Reset"
   ]
  },
  {
   "cell_type": "markdown",
   "id": "7d7693c4-9ac2-4236-a9ad-6f877807bb67",
   "metadata": {},
   "source": [
    "## 89. Python Django T  utor ial: Deploying Your Application (Option #1) - Deploy to a Linux Server"
   ]
  },
  {
   "cell_type": "markdown",
   "id": "0c9eb2f1-c0c7-4c94-a2c8-8b64f26df5c1",
   "metadata": {},
   "source": [
    "## 95. Python Django T  utor ial: How to Use a Custom Domain Name for Our Application"
   ]
  },
  {
   "cell_type": "markdown",
   "id": "9ded816b-cdd0-4111-b07f-686d48b655a3",
   "metadata": {},
   "source": [
    "## 97. Python Django T  utor ial: How to enable HTTPS with a free SSL/TLS Certificate using Let's Encrypt"
   ]
  },
  {
   "cell_type": "markdown",
   "id": "70bb7601-cb5b-4c40-8313-10f5a50f5f32",
   "metadata": {},
   "source": [
    "## 98. Python Django T  utor ial: Full-Featured Web App Part 13 - Using AWS S3 for File Uploads"
   ]
  },
  {
   "cell_type": "markdown",
   "id": "65fa7b43-e864-43e9-9be8-6b04f46e5b98",
   "metadata": {},
   "source": [
    "## 99. Python Django T  utor ial: Deploying Your Application (Option #2) - Deploy using Heroku"
   ]
  },
  {
   "cell_type": "code",
   "execution_count": null,
   "id": "3dd562c9-6624-4443-b38f-06e7eaf9a3f1",
   "metadata": {},
   "outputs": [],
   "source": []
  },
  {
   "attachments": {},
   "cell_type": "markdown",
   "id": "ce41fc97-5451-4a3c-ad9b-7e98afdf8531",
   "metadata": {},
   "source": [
    "# Tips and Tricks\n",
    "* 91. Python Coding Problem: Creating Your Own Iterators\n",
    "* 100. Python Requests  Tutorial: Request Web Pages, Download Images, POST Data, Read JSON, and More\n",
    "* 103. How to Send Emails Using Python - Plain Text, Adding Attachments, HTML Emails, and More\n",
    "* 104. 10 Python Tips and Tricks For Writing Better Code\n",
    "* 107. How to Write Python Scripts to Analyze JSON APIs and Sort Results\n",
    "* 108. 5 Common Python  Mistakes and How to Fix Them\n",
    "* 110. Visual Studio Code (Mac) - Setting up a Python Development Environment and Complete Overview\n",
    "* 111. Visual Studio Code (Windows) - Setting up a Python Development Environment and Complete Overview\n",
    "* 124. Python Threading Tutorial: Run Code Concurrently Using the Threading Module\n",
    "* 125. Python Multiprocessing Tutorial: Run Code in Parallel Using the Multiprocessing Module\n",
    "* 126. Python Data Science Tutorial: Analyzing the 2019 Stack Overflow Developer Survey\n",
    "* 145. How to Use Chat GPT as a Powerful Tool for Programming\n",
    "* 147. Automating My Bill Payments with Python and Selenium\n",
    "* 148. Python Tkinter Tutorial (Part 1): Getting Started, Elements, Layouts, and Events"
   ]
  },
  {
   "cell_type": "markdown",
   "id": "88fcc9b3-8ed4-431d-b90b-354753a8419d",
   "metadata": {},
   "source": [
    "## 91. Python Coding P  robl em: Creating Your Own Iterators"
   ]
  },
  {
   "cell_type": "markdown",
   "id": "c9b182de-57c9-4a71-9c20-7c1a15283d2f",
   "metadata": {},
   "source": [
    "## 100. Python Requests  Tut orial: Request Web Pages, Download Images, POST Data, Read JSON, and More"
   ]
  },
  {
   "cell_type": "markdown",
   "id": "98c37cea-c3d0-4995-bdfe-0c56b6b770e6",
   "metadata": {},
   "source": [
    "## 103. How to Send Ema  ils Using Python - Plain Text, Adding Attachments, HTML Emails, and More"
   ]
  },
  {
   "cell_type": "markdown",
   "id": "79bb30eb-b210-40f3-b93b-83c8c7dd1650",
   "metadata": {},
   "source": [
    "## 104. 10 Python Tips  and Tricks For Writing Better Code"
   ]
  },
  {
   "cell_type": "code",
   "execution_count": null,
   "id": "81296b4b-e048-41da-81e0-415b9e7aefaf",
   "metadata": {},
   "outputs": [],
   "source": [
    "#1. Ternary Conditionals for simple conditionals\n",
    "condition = True\n",
    "\n",
    "# if condition:\n",
    "#     x = 1 \n",
    "# else:\n",
    "#     x = 0\n",
    "\n",
    "x=1 if condition else 0\n",
    "print(x)"
   ]
  },
  {
   "cell_type": "code",
   "execution_count": null,
   "id": "ec928a97-443a-4e4f-aa72-72e75a55e35f",
   "metadata": {},
   "outputs": [],
   "source": [
    "#2. Large number seperator: digit place\n",
    "num1 = 10_000_000_000\n",
    "num2 = 100_000_000\n",
    "total = num1 + num2\n",
    "\n",
    "print(f'{total:,}') #str format for output"
   ]
  },
  {
   "cell_type": "code",
   "execution_count": null,
   "id": "4fd11847-0fe7-4563-880f-03116b7fc95c",
   "metadata": {},
   "outputs": [],
   "source": [
    "#3. Contents managera: \"with\"\n",
    "\n",
    "#eg. open and close file\n",
    "\n",
    "# file = open('test.txt','r')\n",
    "# file_contents = file.read()\n",
    "# file.close()\n",
    "\n",
    "with open('test.txt','r') as f:\n",
    "    file_contents = f.read()\n",
    "    \n",
    "words = file_contents.split(',')\n",
    "word_count = len(words)\n",
    "print(f'The length of the file is {word_count}.')"
   ]
  },
  {
   "cell_type": "code",
   "execution_count": null,
   "id": "a9141708-f059-48c1-9cb9-b426c0ef8971",
   "metadata": {},
   "outputs": [],
   "source": [
    "#4. enumerate(): pairing index and the item\n",
    "names = ['Corey', 'Chris', 'Dave', 'Travis']\n",
    "\n",
    "# index = 0\n",
    "# for name in names:\n",
    "#     print(index, name)\n",
    "#     index += 1\n",
    "\n",
    "for index, name in enumerate(names):\n",
    "    print(index+1, name)\n"
   ]
  },
  {
   "cell_type": "code",
   "execution_count": null,
   "id": "610550e9-fc4e-4ce4-bc74-10066bfe76b2",
   "metadata": {},
   "outputs": [],
   "source": [
    "#5. zip(), pairing items\n",
    "names = ['Peter', 'Clark', 'Wade', 'Bruce']\n",
    "heroes = ['Spiderman', 'Sperman', 'Deadpool', 'Bateman']\n",
    "universes = ['Marvel', 'DC', 'Marvel', 'DC']\n",
    "\n",
    "# for index, name in enumerate(names):\n",
    "#     hero = heroes[index]\n",
    "#     print(f'{name} is {hero}.')\n",
    "\n",
    "for name, hero, univ in zip(names, heroes, universes):\n",
    "    print(f'- {name} is {hero} from {univ}')\n",
    "print('')\n",
    "\n",
    "for value in zip(names, heroes, universes): #tutple of three\n",
    "    print(value)    "
   ]
  },
  {
   "cell_type": "code",
   "execution_count": null,
   "id": "adbf4698-cd60-42e5-a4e0-d415fbbc9b43",
   "metadata": {},
   "outputs": [],
   "source": [
    "#6. Selective Unpacking\n",
    "\n",
    "# a, _ = (1,2) #use only a\n",
    "# print(a)\n",
    "\n",
    "# a, b, *_ = (1,2,3,4)\n",
    "# print(a)\n",
    "\n",
    "a, b, *_, d = (1,2,3,4,5)\n",
    "print(a)\n",
    "print(b)\n",
    "# print(c)\n",
    "print(d)"
   ]
  },
  {
   "cell_type": "code",
   "execution_count": null,
   "id": "809f3093-6064-41c5-9bb0-38cf52e8bc1e",
   "metadata": {},
   "outputs": [],
   "source": [
    "#7. getter/setter\n",
    "\n",
    "#exampel class: get/set from out of the class is possible\n",
    "class Person():\n",
    "    pass\n",
    "#instance of the class\n",
    "person = Person() \n",
    "\n",
    "# #assign diretly\n",
    "# person.first = \"Corey\"\n",
    "# person.last = \"schafer\"\n",
    "# print(person.first)\n",
    "# print(person.last)\n",
    "\n",
    "#assign values from other variables\n",
    "first_key = 'first'\n",
    "first_val = 'Corey'\n",
    "\n",
    "setattr(person, first_key, first_val) #(instance, key(variable name), value)\n",
    "first = getattr(person, first_key)\n",
    "print(first)"
   ]
  },
  {
   "cell_type": "code",
   "execution_count": null,
   "id": "ba65bd52-2323-4dcf-8a04-1fdff9a3099a",
   "metadata": {},
   "outputs": [],
   "source": [
    "#Ex)\n",
    "class Person():\n",
    "    pass\n",
    "\n",
    "person = Person() \n",
    "\n",
    "person_info = {'first':'Corey', 'last':'Schafer'}\n",
    "\n",
    "#items\n",
    "for key, value in person_info.items():\n",
    "    setattr(person, key, value)\n",
    "    \n",
    "print(person.first)\n",
    "print(person.last)\n",
    "\n",
    "#keys\n",
    "for key in person_info.keys():\n",
    "    print(getattr(person, key))"
   ]
  },
  {
   "cell_type": "code",
   "execution_count": null,
   "id": "700d28cb-1e85-4bd1-99c0-1b1c3bf236d7",
   "metadata": {},
   "outputs": [],
   "source": [
    "#8. getpass - module\n",
    "from getpass import getpass\n",
    "\n",
    "username = input('Username: ')\n",
    "password = getpass('Password: ') #print in ...\n",
    "\n",
    "print('Logging In...')"
   ]
  },
  {
   "cell_type": "code",
   "execution_count": null,
   "id": "5dae5656-b438-4d6d-8ba4-0ab97cd7262b",
   "metadata": {
    "scrolled": true
   },
   "outputs": [],
   "source": [
    "#9. Modules' and Methods' attributes \n",
    "\n",
    "# #python -m [module]\n",
    "# import smtpd\n",
    "# help(smtpd)\n",
    "\n",
    "# methods\n",
    "from datetime import datetime\n",
    "dir(datetime)\n",
    "print(datetime.today) #built in method\n",
    "print(datetime.today()) #check the value"
   ]
  },
  {
   "cell_type": "markdown",
   "id": "9effe028-9480-429f-8771-ddfd6ec9f4b1",
   "metadata": {},
   "source": [
    "## 107. How to Write Py  thon Scripts to Analyze JSON APIs and Sort Results"
   ]
  },
  {
   "cell_type": "markdown",
   "id": "cd04b700-4469-4eaa-adaf-c58ffeb44299",
   "metadata": {},
   "source": [
    "## 108. 5 Common Python  Mis takes and How to Fix Them"
   ]
  },
  {
   "cell_type": "markdown",
   "id": "5b417eed-9702-4c61-a762-e914030ef258",
   "metadata": {},
   "source": [
    "## 110. Visual Studio C  ode (Mac) - Setting up a Python Development Environment and Complete Overview"
   ]
  },
  {
   "cell_type": "markdown",
   "id": "da9d4cdd-ee85-4fe9-8a1d-c88c01001ebc",
   "metadata": {},
   "source": [
    "## 111. Visual Studio C  ode (Windows) - Setting up a Python Development Environment and Complete Overview"
   ]
  },
  {
   "cell_type": "markdown",
   "id": "8cb0ee5e-d8cd-47da-b588-8e8eda4df29b",
   "metadata": {},
   "source": [
    "## 124. Python Threadin  g Tu torial: Run Code Concurrently Using the Threading Module"
   ]
  },
  {
   "cell_type": "markdown",
   "id": "da40bca6-2739-4199-b1de-7c1caf18b7b8",
   "metadata": {},
   "source": [
    "## 125. Python Multipro  cess ing Tutorial: Run Code in Parallel Using the Multiprocessing Module"
   ]
  },
  {
   "cell_type": "markdown",
   "id": "67801727-cae2-4777-9a9b-936149ab6ca5",
   "metadata": {},
   "source": [
    "## 126. Python Data Sci  ence Tutorial: Analyzing the 2019 Stack Overflow Developer Survey"
   ]
  },
  {
   "cell_type": "markdown",
   "id": "39fa3fd8-0914-48c7-854a-f70157b12498",
   "metadata": {},
   "source": [
    "## 145. How to Use Chat  GPT as a Powerful Tool for Programming"
   ]
  },
  {
   "cell_type": "markdown",
   "id": "f4d9290c-1ea8-400c-96d1-5486e53b60c1",
   "metadata": {},
   "source": [
    "## 147. Automating My B  ill Payments with Python and Selenium"
   ]
  },
  {
   "cell_type": "markdown",
   "id": "3b2b4056-6d55-4297-977e-f74b1b8d7bb0",
   "metadata": {},
   "source": [
    "## 148. Python Tkinter  Tuto rial (Part 1): Getting Started, Elements, Layouts, and Events"
   ]
  },
  {
   "attachments": {},
   "cell_type": "markdown",
   "id": "b8201679-0f92-4b73-9f0c-2cfa9adfb3e3",
   "metadata": {},
   "source": [
    "# Matplotlip Tutorial\n",
    "* 112. Matplotlib Tutorial (Part 1): Creating and Customizing Our First Plots\n",
    "* 113. Matplotlib Tutorial (Part 2): Bar Charts and Analyzing Data from CSVs\n",
    "* 114. Matplotlib Tutorial (Part 3): Pie Charts\n",
    "* 115. Matplotlib Tutorial (Part 4): Stack Plots\n",
    "* 116. Matplotlib Tutorial (Part 5): Filling Area on Line Plots\n",
    "* 117. Matplotlib Tutorial (Part 6): Histograms\n",
    "* 118. Matplotlib Tutorial (Part 7): Scatter Plots\n",
    "* 119. Matplotlib Tutorial (Part 8): Plotting Time Series Data\n",
    "* 120. Matplotlib Tutorial (Part 9): Plotting Live Data in Real-Time\n",
    "* 121. Matplotlib Tutorial (Part 10): Subplots"
   ]
  },
  {
   "cell_type": "code",
   "execution_count": null,
   "id": "f67cb0a0-049d-435e-8f52-b176c70aa1d7",
   "metadata": {},
   "outputs": [],
   "source": [
    "# data snippet\n",
    "# Median Developer Salaries by Age categories\n",
    "total_age_xs = [25, 26, 27, 28, 29, 30, 31, 32, 33, 34, 35]\n",
    "total_dev_ys = [38496, 42000, 46752, 49320, 53200, 56000, 62316, 64928, 67317, 68748, 73752]\n",
    "\n",
    "py_dev_xs = [25, 26, 27, 28, 29, 30, 31, 32, 33, 34, 35]\n",
    "py_dev_ys = [45372, 48876, 53850, 57287, 63016, 65998, 70003, 70000, 71496, 75370, 83640]\n",
    "js_dev_ys = [37810, 43515, 46823, 49293, 53437, 56373, 62375, 66674, 68745, 68746, 74583]\n",
    "\n",
    "# Ages 18 to 55\n",
    "total_ages2_xs = [18, 19, 20, 21, 22, 23, 24, 25, 26, 27,28, 29, 30, 31, 32, 33, 34, 35, 36, 37, 38, 39, 40, 41, 42, 43, 44, 45, 46, 47, 48, 49, 50, 51, 52, 53, 54, 55]\n",
    "total_dev2_ys = [17784, 16500, 18012, 20628, 25206, 30252, 34368, 38496, 42000, 46752, 49320, 53200, 56000, 62316, 64928, 67317, 68748, 73752, 77232, 78000, 78508, 79536, 82488, 88935, 90000, 90056, 95000, 90000, 91633, 91660, 98150, 98964, 100000, 98988, 100000, 108923, 105000, 103117]\n",
    "\n",
    "py_dev2_ys = [20046, 17100, 20000, 24744, 30500, 37732, 41247, 45372, 48876, 53850, 57287, 63016, 65998, 70003, 70000, 71496, 75370, 83640, 84666, 84392, 78254, 85000, 87038, 91991, 100000, 94796, 97962, 93302, 99240, 102736, 112285, 100771, 104708, 108423, 101407, 112542, 122870, 120000]\n",
    "js_dev2_ys = [16446, 16791, 18942, 21780, 25704, 29000, 34372, 37810, 43515, 46823, 49293, 53437, 56373, 62375, 66674, 68745, 68746, 74583, 79000, 78508, 79996, 80403, 83820, 88833, 91660, 87892, 96243, 90000, 99313, 91660, 102264, 100000, 100000, 91660, 99240, 108000, 105000, 104000]"
   ]
  },
  {
   "cell_type": "markdown",
   "id": "61c09512-d7d2-49c3-bf89-a60c8cac050b",
   "metadata": {
    "jp-MarkdownHeadingCollapsed": true
   },
   "source": [
    "## 112. Matplotlib Tutorial (Part 1): Creating and Customizing Our First Plots"
   ]
  },
  {
   "cell_type": "code",
   "execution_count": null,
   "id": "da619d28-93bb-42ec-95f7-0e5b90dc5816",
   "metadata": {},
   "outputs": [],
   "source": [
    "import matplotlib.pyplot as plt\n",
    "\n",
    "#plt.plot(): line chart\n",
    "#edit plot's properties: # https://matplotlib.org/stable/api/_as_gen/matplotlib.pyplot.plot.html\n",
    "\n",
    "plt.plot(total_age_xs, total_dev_ys,\n",
    "         color='#808080',\n",
    "         linestyle='--',\n",
    "         marker='.',\n",
    "         label='Developers')\n",
    "plt.plot(total_age_xs, py_dev_ys,\n",
    "         color='#0437F2',\n",
    "         marker='o',\n",
    "         linewidth=2,\n",
    "         label='Python Dev.') \n",
    "plt.plot(total_age_xs, js_dev_ys,\n",
    "         color='#adad3b',\n",
    "         label='JavaScript Dev.')\n",
    "\n",
    "plt.xlabel('Ages')\n",
    "plt.ylabel('Salary')\n",
    "plt.title('Median Salary($) by Age')\n",
    "\n",
    "plt.legend()\n",
    "plt.grid(True)\n",
    "plt.tight_layout()\n",
    "\n",
    "plt.show()"
   ]
  },
  {
   "cell_type": "code",
   "execution_count": null,
   "id": "7ad59674-3485-484b-aacb-2a46814937c5",
   "metadata": {},
   "outputs": [],
   "source": [
    "Get(plt.style.available)"
   ]
  },
  {
   "cell_type": "code",
   "execution_count": null,
   "id": "7de16533",
   "metadata": {},
   "outputs": [],
   "source": [
    "#set style\n",
    "import matplotlib.pyplot as plt\n",
    "plt.style.use('seaborn-v0_8-notebook') #permanent until resetting\n",
    "\n",
    "plt.plot(total_age_xs, total_dev_ys, linestyle='--', label='Developers')\n",
    "plt.plot(total_age_xs, py_dev_ys, label='Python Dev.')\n",
    "plt.plot(total_age_xs, js_dev_ys, label='JavaScript Dev.')\n",
    "\n",
    "plt.xlabel('Ages')\n",
    "plt.ylabel('Salary')\n",
    "plt.title('Median Salary($) by Age')\n",
    "\n",
    "plt.legend()\n",
    "plt.tight_layout()\n",
    "plt.show()\n",
    "\n",
    "plt.style.use('default')#return to default"
   ]
  },
  {
   "cell_type": "code",
   "execution_count": null,
   "id": "a53d2dd1",
   "metadata": {
    "scrolled": true
   },
   "outputs": [],
   "source": [
    "# style ref: https://xkcd.com/\n",
    "import matplotlib.pyplot as plt\n",
    "\n",
    "with plt.xkcd():\n",
    "    plt.plot(total_age_xs, total_dev_ys, color='#444444', linestyle='--', label='All Developers')\n",
    "    plt.plot(total_age_xs, py_dev_ys, label='Python Dev.')\n",
    "    plt.plot(total_age_xs, js_dev_ys, label='JavaScript Dev.')\n",
    "    \n",
    "    plt.xlabel('Ages')\n",
    "    plt.ylabel('Salary')\n",
    "    plt.title('Median Salary($) by Age')\n",
    "    \n",
    "    plt.legend()\n",
    "    plt.tight_layout()\n",
    "    \n",
    "    plt.savefig('test_plot.png')\n",
    "    \n",
    "    plt.show()"
   ]
  },
  {
   "cell_type": "code",
   "execution_count": null,
   "id": "e0465d7e-24ac-48b4-96eb-7f435fbb7387",
   "metadata": {},
   "outputs": [],
   "source": [
    "# Ages 18 to 55\n",
    "plt.style.use('seaborn-v0_8-notebook')\n",
    "\n",
    "plt.plot(total_ages2_xs, total_dev2_ys, color='#444444', label='All Developers')\n",
    "plt.plot(total_ages2_xs, py_dev2_ys, label='Python Dev.') # https://matplotlib.org/stable/api/_as_gen/matplotlib.pyplot.plot.html\n",
    "plt.plot(total_ages2_xs, js_dev2_ys, label='JavaScript Dev.')\n",
    "\n",
    "plt.xlabel('age')\n",
    "plt.ylabel('salary')\n",
    "plt.title('Median Salary(USD) by Age')\n",
    "\n",
    "plt.legend()\n",
    "plt.grid(False)\n",
    "plt.tight_layout()\n",
    "\n",
    "plt.show()\n",
    "plt.style.use('default')"
   ]
  },
  {
   "cell_type": "markdown",
   "id": "bf16b851-8e03-4d37-a381-c7e8902593cd",
   "metadata": {
    "jp-MarkdownHeadingCollapsed": true
   },
   "source": [
    "## 113. Matplotlib Tutorial (Part 2): Bar Charts and Analyzing Data from CSVs"
   ]
  },
  {
   "cell_type": "code",
   "execution_count": null,
   "id": "47744ec9-2d3d-4c04-b081-a5f5c22713f9",
   "metadata": {},
   "outputs": [],
   "source": [
    "#plt.bar() and 'width'\n",
    "import numpy as np\n",
    "import matplotlib.pyplot as plt\n",
    "\n",
    "x_indexes = np.arange(len(total_age_xs))\n",
    "width = 0.25\n",
    "\n",
    "plt.style.use('seaborn-v0_8-notebook')\n",
    "plt.bar(x_indexes-width, total_dev_ys, width=width, color='#444444', label='All Developers')\n",
    "plt.bar(x_indexes, py_dev_ys, width=width, label='Python Dev.')\n",
    "plt.bar(x_indexes+width, js_dev_ys, width=width, label='JavaScript Dev.')\n",
    "\n",
    "plt.title('Median Salary(USD) by Age')\n",
    "plt.xlabel('age')\n",
    "plt.ylabel('salary')\n",
    "plt.xticks(ticks=x_indexes, labels=total_age_xs) #tick positions and tick labels\n",
    "\n",
    "plt.legend()\n",
    "plt.grid(False)\n",
    "plt.tight_layout()\n",
    "\n",
    "plt.show()\n",
    "plt.style.use('default')"
   ]
  },
  {
   "cell_type": "code",
   "execution_count": null,
   "id": "8e5aee7f-ca04-4b3a-8dac-e506f9007f49",
   "metadata": {},
   "outputs": [],
   "source": [
    "#Read csv data and plt.barh()\n",
    "import csv\n",
    "import numpy as np\n",
    "import matplotlib.pyplot as plt\n",
    "from collections import Counter\n",
    "\n",
    "#read by \"csv\" module\n",
    "with open('language_survey.csv') as csv_file:\n",
    "    csv_reader = csv.DictReader(csv_file)\n",
    "\n",
    "    language_counter = Counter() #Counter module\n",
    "    \n",
    "    #print 1st row\n",
    "    row = next(csv_reader)\n",
    "    print(row['LanguagesWorkedWith'].split(';'))"
   ]
  },
  {
   "cell_type": "code",
   "execution_count": null,
   "id": "6e1150fe-a2fd-461a-9675-710df16fce02",
   "metadata": {},
   "outputs": [],
   "source": [
    "#ex) Counter module: counting hashable objects; https://docs.python.org/3/library/collections.html\n",
    "from collections import Counter\n",
    "\n",
    "c = Counter(['Python', 'JavaScript']) #Counter obj\n",
    "c.update(['C++','Python'])\n",
    "c.update(['C++','Python'])\n",
    "\n",
    "print(c)"
   ]
  },
  {
   "cell_type": "code",
   "execution_count": null,
   "id": "22a5d398-6b8e-4081-8c54-769b92106e62",
   "metadata": {},
   "outputs": [],
   "source": [
    "#Read csv data and plt.barh()\n",
    "import csv\n",
    "import numpy as np\n",
    "import matplotlib.pyplot as plt\n",
    "from collections import Counter\n",
    "\n",
    "#read by \"csv\" module\n",
    "with open('language_survey.csv') as csv_file:\n",
    "    csv_reader = csv.DictReader(csv_file)\n",
    "    language_counter = Counter() #Counter module\n",
    "    for row in csv_reader:\n",
    "        language_counter.update(row['LanguagesWorkedWith'].split(';'))\n",
    "\n",
    "# Get(language_counter.most_common(15)) #top15\n",
    "\n",
    "#a) unzip using for loop\n",
    "# languages = []\n",
    "# popularities = []\n",
    "# for i in language_counter.most_common(15):\n",
    "#     languages.append(i[0])\n",
    "#     popularities.append(i[1])\n",
    "\n",
    "#b) unzip using zip(*list)\n",
    "#y,x data\n",
    "languages, popularities = list(zip(*language_counter.most_common(15)))\n",
    "languages, popularities = list(languages), list(popularities)\n",
    "languages.reverse() #inplace\n",
    "popularities.reverse()\n",
    "\n",
    "#plot\n",
    "plt.barh(languages, popularities) #horizontal barchart for multi-categories\n",
    "\n",
    "plt.title(\"Popular Languages\")\n",
    "plt.xlabel(\"#usage\")\n",
    "\n",
    "plt.tight_layout()\n",
    "plt.show()"
   ]
  },
  {
   "cell_type": "code",
   "execution_count": null,
   "id": "4bd6ffe3-4c54-4d47-8bf7-42c91ec4b120",
   "metadata": {},
   "outputs": [],
   "source": [
    "#Read data with pandas.read_csv()\n",
    "import numpy as np\n",
    "import pandas as pd\n",
    "import matplotlib.pyplot as plt\n",
    "from collections import Counter\n",
    "\n",
    "#read data\n",
    "data = pd.read_csv('language_survey.csv')\n",
    "lang_responses = data[\"LanguagesWorkedWith\"].copy()\n",
    "\n",
    "#process x,y\n",
    "language_counter = Counter()\n",
    "for response in lang_responses:\n",
    "    language_counter.update(response.split(';'))\n",
    "languages, popularities = list(zip(*language_counter.most_common(15)))\n",
    "languages, popularities = list(languages), list(popularities)\n",
    "languages.reverse() #inplace\n",
    "popularities.reverse()\n",
    "\n",
    "#plot\n",
    "plt.barh(languages, popularities) #horizontal barchart\n",
    "\n",
    "plt.title(\"Popular Languages\")\n",
    "plt.xlabel(\"#usages\")\n",
    "\n",
    "plt.tight_layout()\n",
    "plt.show()"
   ]
  },
  {
   "cell_type": "markdown",
   "id": "83463e39-0a66-4c7d-9e92-64bc7ce4c5ae",
   "metadata": {
    "jp-MarkdownHeadingCollapsed": true
   },
   "source": [
    "## 114. Matplotlib Tutorial (Part 3): Pie Charts"
   ]
  },
  {
   "cell_type": "code",
   "execution_count": null,
   "id": "e292786f-1c6c-4b29-b059-e00c7e6bd3f5",
   "metadata": {},
   "outputs": [],
   "source": [
    "import matplotlib.pyplot as plt\n",
    "\n",
    "ys = [60,30,10]\n",
    "labels = ['Sixty', 'Thirty','Ten']\n",
    "colors = ['#0437F2','#FFA500','#228B22']\n",
    "\n",
    "plt.pie(ys, labels=labels, colors=colors, wedgeprops={'edgecolor':'k'})\n",
    "\n",
    "plt.title(\"sample title\")\n",
    "plt.tight_layout()\n",
    "plt.show()\n"
   ]
  },
  {
   "cell_type": "code",
   "execution_count": null,
   "id": "9637a538-5aa8-4210-9733-08c0d503f954",
   "metadata": {},
   "outputs": [],
   "source": [
    "# Language Popularity\n",
    "slices = [59219, 55466, 47544]\n",
    "labels = ['JavaScript', 'HTML/CSS', 'SQL']\n",
    "explode = [0.1,0,0]\n",
    "\n",
    "plt.pie(slices, labels=labels, explode=explode, shadow=True, startangle=0, autopct='%1.2f%%', wedgeprops={'edgecolor':'k'})\n",
    "\n",
    "plt.title(\"Language Popularity\")\n",
    "plt.tight_layout()\n",
    "plt.show()"
   ]
  },
  {
   "cell_type": "markdown",
   "id": "7ef29878-5aaf-407e-8338-deda5d755d87",
   "metadata": {
    "jp-MarkdownHeadingCollapsed": true
   },
   "source": [
    "## 115. Matplotlib Tutorial (Part 4): Stack Plots"
   ]
  },
  {
   "cell_type": "code",
   "execution_count": null,
   "id": "f6577a70-dc48-44ac-97cf-4497beb914ef",
   "metadata": {},
   "outputs": [],
   "source": [
    "import matplotlib.pyplot as plt\n",
    "\n",
    "minutes = [1, 2, 3, 4, 5, 6, 7, 8, 9]\n",
    "player1 = [1, 2, 3, 3, 4, 4, 4, 4, 5] #accumulated scores by the minute\n",
    "player2 = [1, 1, 1, 1, 2, 2, 2, 3, 4]\n",
    "player3 = [1, 1, 1, 2, 2, 2, 3, 3, 3]\n",
    "\n",
    "labels = ['P1', 'P2', 'P3']\n",
    "colors = ['#0437F2','#FFA500','#228B22']\n",
    "\n",
    "plt.stackplot(minutes, player1, player2, player3, colors=colors,labels=labels)\n",
    "\n",
    "plt.legend(loc='upper left')\n",
    "\n",
    "plt.title(\"Sample: Stack Plot\")\n",
    "plt.tight_layout()\n",
    "plt.show()\n",
    "\n",
    "# Colors:'#0437F2','#FFA500','#228B22'"
   ]
  },
  {
   "cell_type": "code",
   "execution_count": null,
   "id": "5c18ce4c-789a-4b2e-93ec-14e3c8dccd0a",
   "metadata": {},
   "outputs": [],
   "source": [
    "phase = [1, 2, 3, 4, 5, 6, 7, 8, 9]\n",
    "member1 = [8, 6, 5, 5, 4, 2, 1, 1, 0]\n",
    "member2 = [0, 1, 2, 2, 2, 4, 4, 4, 4]\n",
    "member3 = [0, 1, 1, 1, 2, 2, 3, 3, 4]\n",
    "\n",
    "labels = ['M1', 'M2', 'M3']\n",
    "colors = ['#0437F2','#FFA500','#228B22']\n",
    "\n",
    "plt.stackplot(phase, member1, member2, member3, colors=colors, labels=labels)\n",
    "\n",
    "plt.title(\"Contribution to project by phase\")\n",
    "plt.xlabel('phase')\n",
    "plt.ylabel('contribution')\n",
    "\n",
    "plt.legend(loc=(0.07,0.05))\n",
    "\n",
    "plt.tight_layout()\n",
    "plt.show()"
   ]
  },
  {
   "cell_type": "markdown",
   "id": "cb3c3866-f7a0-4f98-a955-5d4b7a0a8061",
   "metadata": {
    "jp-MarkdownHeadingCollapsed": true
   },
   "source": [
    "## 116. Matplotlib Tutorial (Part 5): Filling Area on Line Plots"
   ]
  },
  {
   "cell_type": "code",
   "execution_count": null,
   "id": "96447d9e-d916-4952-8656-f8884ed49531",
   "metadata": {},
   "outputs": [],
   "source": [
    "#filling area: distinguish split spaces over criteria\n",
    "import pandas as pd\n",
    "from matplotlib import pyplot as plt\n",
    "#read data\n",
    "data = pd.read_csv('dataset/language_survey2.csv')\n",
    "ages = data['Age']\n",
    "dev_salaries = data['All_Devs']\n",
    "py_salaries = data['Python']\n",
    "js_salaries = data['JavaScript']\n",
    "#plot\n",
    "plt.plot(ages, dev_salaries, color='#444444', linestyle='--', label='All Devs')\n",
    "plt.plot(ages, py_salaries, label='Python')\n",
    "#fill area\n",
    "overall_median = 57287\n",
    "plt.fill_between(ages, py_salaries, y2=overall_median,\n",
    "                 where=(py_salaries > overall_median), interpolate=True, alpha=0.25)\n",
    "plt.fill_between(ages, py_salaries, y2=overall_median,\n",
    "                 where=(py_salaries <= overall_median), color='red', interpolate=True, alpha=0.25)\n",
    "\n",
    "plt.legend()\n",
    "\n",
    "plt.title('median Salary (USD) by Age')\n",
    "plt.xlabel('age')\n",
    "plt.ylabel('Median Salary (USD)')\n",
    "\n",
    "plt.tight_layout()\n",
    "plt.show()"
   ]
  },
  {
   "cell_type": "code",
   "execution_count": null,
   "id": "1b767bf8-601f-4dd3-a623-5a33902e4b76",
   "metadata": {},
   "outputs": [],
   "source": [
    "#fill between lines\n",
    "import pandas as pd\n",
    "from matplotlib import pyplot as plt\n",
    "\n",
    "data = pd.read_csv('dataset/language_survey2.csv')\n",
    "ages = data['Age']\n",
    "dev_salaries = data['All_Devs']\n",
    "py_salaries = data['Python']\n",
    "js_salaries = data['JavaScript']\n",
    "\n",
    "plt.plot(ages, dev_salaries, color='#444444', linestyle='--', label='All Devs')\n",
    "plt.plot(ages, py_salaries, label='Python')\n",
    "\n",
    "plt.fill_between(ages, py_salaries, y2=dev_salaries,\n",
    "                 where=(py_salaries > dev_salaries), interpolate=True, alpha=0.25, label='above benchmark')\n",
    "plt.fill_between(ages, py_salaries, y2=dev_salaries,\n",
    "                 where=(py_salaries <= dev_salaries), color='red', interpolate=True, alpha=0.25, label='below benchmark')\n",
    "\n",
    "plt.legend()\n",
    "\n",
    "plt.title('median Salary (USD) by Age')\n",
    "plt.xlabel('age')\n",
    "plt.ylabel('Median Salary (USD)')\n",
    "\n",
    "plt.tight_layout()\n",
    "plt.show()"
   ]
  },
  {
   "cell_type": "markdown",
   "id": "ba83bf91-21a7-4d54-b9c6-23b45aa969f4",
   "metadata": {
    "jp-MarkdownHeadingCollapsed": true
   },
   "source": [
    "## 117. Matplotlib Tutorial (Part 6): Histograms"
   ]
  },
  {
   "cell_type": "code",
   "execution_count": null,
   "id": "dcd82a9b-cfab-4e53-9903-800ecd8768ba",
   "metadata": {},
   "outputs": [],
   "source": [
    "#Histogram: bins\n",
    "import pandas as pd\n",
    "from matplotlib import pyplot as plt\n",
    "\n",
    "ages = [18, 19, 21, 25, 26, 26, 30, 32, 38, 45, 55]\n",
    "bins = [10,20,30,40,50,60]\n",
    "\n",
    "plt.hist(ages, bins=bins, edgecolor='k')\n",
    "\n",
    "plt.title('Ages of Respondents')\n",
    "plt.xlabel('age')\n",
    "plt.ylabel('HC')\n",
    "\n",
    "plt.tight_layout()\n",
    "plt.show()"
   ]
  },
  {
   "cell_type": "code",
   "execution_count": null,
   "id": "87786c6c-ec70-420e-a272-e50aabcef9c8",
   "metadata": {},
   "outputs": [],
   "source": [
    "#plot historam with a vertical ref line\n",
    "import numpy as np\n",
    "\n",
    "data = pd.read_csv('dataset/language_survey3.csv')\n",
    "ids = data['Responder_id']\n",
    "ages = data['Age']\n",
    "\n",
    "median_age = np.median(ages)\n",
    "color = '#fc4f30'\n",
    "bins = range(10,110,10)\n",
    "\n",
    "plt.hist(ages, bins=bins, edgecolor='k',log=True)\n",
    "\n",
    "plt.title('Ages of Respondents')\n",
    "plt.xlabel('age')\n",
    "plt.ylabel('HC')\n",
    "plt.axvline(median_age, color=color, label='median age', linewidth=2)\n",
    "plt.legend()\n",
    "\n",
    "plt.tight_layout()\n",
    "plt.show()"
   ]
  },
  {
   "cell_type": "markdown",
   "id": "83d7135f-0c0c-4ea9-9a08-905727034688",
   "metadata": {
    "jp-MarkdownHeadingCollapsed": true
   },
   "source": [
    "## 118. Matplotlib Tutorial (Part 7): Scatter Plots"
   ]
  },
  {
   "cell_type": "code",
   "execution_count": null,
   "id": "a7cf5605-c7b2-4b7a-8c0c-f3f7177309f8",
   "metadata": {},
   "outputs": [],
   "source": [
    "#scatter plot: any trend/pattern?\n",
    "import pandas as pd\n",
    "import matplotlib.pyplot as plt\n",
    "\n",
    "x = [5, 7, 8, 5, 6, 7, 9, 2, 3, 4, 4, 4, 2, 6, 3, 6, 8, 6, 4, 1]\n",
    "y = [7, 4, 3, 9, 1, 3, 2, 5, 2, 4, 8, 7, 1, 6, 4, 9, 7, 7, 5, 1]\n",
    "\n",
    "means = []\n",
    "for a,b in list(zip(xs,ys)):\n",
    "    mean = (a+b)/2\n",
    "    means.append(mean)\n",
    "\n",
    "#plt.scatter(): point x styles; visualization efficacy!: color, size, shape,...\n",
    "#continuous cmap\n",
    "plt.scatter(x,y, s=128, c=means, cmap='Greys', marker='o', edgecolor='k', linewidth=1, alpha=0.75)\n",
    "\n",
    "cbar = plt.colorbar()\n",
    "cbar.set_label('means')\n",
    "\n",
    "plt.title('sample_title')\n",
    "plt.xlabel('x')\n",
    "plt.ylabel('y')\n",
    "\n",
    "plt.tight_layout()\n",
    "plt.show()"
   ]
  },
  {
   "cell_type": "code",
   "execution_count": null,
   "id": "6aef69e4",
   "metadata": {},
   "outputs": [],
   "source": [
    "#binary cmap\n",
    "import pandas as pd\n",
    "import matplotlib.pyplot as plt\n",
    "from matplotlib.colors import ListedColormap\n",
    "x = [5, 7, 8, 5, 6, 7, 9, 2, 3, 4, 4, 4, 2, 6, 3, 6, 8, 6, 4, 1]\n",
    "y = [7, 4, 3, 9, 1, 3, 2, 5, 2, 4, 8, 7, 1, 6, 4, 9, 7, 7, 5, 1]\n",
    "\n",
    "means = []\n",
    "for a,b in list(zip(xs,ys)):\n",
    "    mean = (a+b)/2\n",
    "    means.append(mean)\n",
    "\n",
    "bMeans = []\n",
    "for mean in means:\n",
    "    if mean > 7:\n",
    "        bMeans.append(1)\n",
    "    else:\n",
    "        bMeans.append(0)\n",
    "\n",
    "#plt.scatter(): point x styles; visualization efficacy!\n",
    "cmap=ListedColormap(['white','black'])\n",
    "\n",
    "plt.scatter(x,y, s=128, c=bMeans, cmap=cmap, marker='o', edgecolor='k', linewidth=1, alpha=0.75)\n",
    "\n",
    "cbar = plt.colorbar(ticks=[0.25,0.75])\n",
    "cbar.set_ticklabels([0,1])\n",
    "cbar.set_label('means > 7')\n",
    "\n",
    "plt.tight_layout()\n",
    "plt.show()"
   ]
  },
  {
   "cell_type": "code",
   "execution_count": null,
   "id": "99d7e568",
   "metadata": {},
   "outputs": [],
   "source": [
    "#size\n",
    "import pandas as pd\n",
    "import matplotlib.pyplot as plt\n",
    "\n",
    "xs = [5, 7, 8, 5, 6, 7, 9, 2, 3, 4, 4, 4, 2, 6, 3, 6, 8, 6, 4, 1]\n",
    "ys = [7, 4, 3, 9, 1, 3, 2, 5, 2, 4, 8, 7, 1, 6, 4, 9, 7, 7, 5, 1]\n",
    "\n",
    "#the 3rd variable\n",
    "z_sizes = [209, 486, 381, 255, 191, 315, 185, 228, 174, 538, 239, 394, 399, 153, 273, 293, 436, 501, 397, 539]\n",
    "\n",
    "plt.scatter(xs,ys, color='grey', s=z_sizes, marker='o', edgecolor='k', linewidth=1, alpha=0.75)\n",
    "\n",
    "plt.title(\"x, y, and z in size\")\n",
    "plt.xlabel('x')\n",
    "plt.ylabel('y')\n",
    "\n",
    "plt.tight_layout()\n",
    "plt.show()"
   ]
  },
  {
   "cell_type": "code",
   "execution_count": null,
   "id": "cfed1068-16c7-430b-9a48-7a4922cd2a7e",
   "metadata": {},
   "outputs": [],
   "source": [
    "#log base 10 scales, 3 metrics in a plot\n",
    "import pandas as pd\n",
    "import matplotlib.pyplot as plt\n",
    "\n",
    "plt.style.use('seaborn-v0_8')\n",
    "\n",
    "data = pd.read_csv('dataset/2019-05-31-data.csv')\n",
    "view_count = data['view_count']\n",
    "likes = data['likes']\n",
    "ratio = data['ratio']\n",
    "\n",
    "plt.scatter(view_count, likes, c=ratio, cmap='summer', edgecolor='k', linewidth=1, alpha=0.75)\n",
    "\n",
    "cbar = plt.colorbar()\n",
    "cbar.set_label('Like/Dislike Ratio')\n",
    "plt.xscale('log')\n",
    "plt.yscale('log')\n",
    "\n",
    "plt.title(\"Trending YouTube videos views and likes\")\n",
    "plt.xlabel('views')\n",
    "plt.ylabel('likes')\n",
    "\n",
    "plt.tight_layout()\n",
    "plt.show()\n",
    "\n",
    "plt.style.use('default')"
   ]
  },
  {
   "cell_type": "markdown",
   "id": "4654ba42-a0a9-43d0-aba5-7a4bc294deaf",
   "metadata": {
    "jp-MarkdownHeadingCollapsed": true
   },
   "source": [
    "## 119. Matplotlib Tutorial (Part 8): Plotting Time Series Data"
   ]
  },
  {
   "cell_type": "code",
   "execution_count": null,
   "id": "d9d6b885-23c0-48b9-b913-4e3324113877",
   "metadata": {},
   "outputs": [],
   "source": [
    "\n",
    "import pandas as pd\n",
    "from datetime import datetime, timedelta\n",
    "import matplotlib.pyplot as plt\n",
    "from matplotlib import dates as mpl_dates\n",
    "\n",
    "plt.style.use('seaborn-v0_8')\n",
    "\n",
    "dates = [\n",
    "    datetime(2019, 5, 24),\n",
    "    datetime(2019, 5, 25),\n",
    "    datetime(2019, 5, 26),\n",
    "    datetime(2019, 5, 27),\n",
    "    datetime(2019, 5, 28),\n",
    "    datetime(2019, 5, 29),\n",
    "    datetime(2019, 5, 30)\n",
    "]\n",
    "\n",
    "y = [0, 1, 3, 4, 6, 5, 7]\n",
    "\n",
    "plt.plot(dates, y, marker='o')\n",
    "\n",
    "plt.gcf().autofmt_xdate()\n",
    "\n",
    "#formatting date on xaxis\n",
    "date_format = mpl_dates.DateFormatter('%b, %d %Y')\n",
    "plt.gca().xaxis.set_major_formatter(date_format)\n",
    "\n",
    "plt.tight_layout()\n",
    "plt.show()\n",
    "\n",
    "plt.style.use('default')"
   ]
  },
  {
   "cell_type": "code",
   "execution_count": null,
   "id": "8ec6cc23",
   "metadata": {},
   "outputs": [],
   "source": [
    "#\"str\" to \"datetime\"-obj\n",
    "import pandas as pd\n",
    "from datetime import datetime, timedelta\n",
    "import matplotlib.pyplot as plt\n",
    "from matplotlib import dates as mpl_dates\n",
    "\n",
    "plt.style.use('seaborn-v0_8')\n",
    "\n",
    "data = pd.read_csv('dataset/ts_data.csv')\n",
    "#convert str to datetime(timestamp obj)\n",
    "data['Date'] = pd.to_datetime(data['Date'])\n",
    "data.sort_values('Date', inplace=True)\n",
    "\n",
    "price_date = data['Date']\n",
    "price_close = data['Close']\n",
    "\n",
    "plt.plot(price_date, price_close, marker='o')\n",
    "\n",
    "plt.gcf().autofmt_xdate()\n",
    "\n",
    "plt.title('Bitcoin Prices')\n",
    "plt.xlabel('Date')\n",
    "plt.ylabel('Closing Price')\n",
    "\n",
    "plt.tight_layout()\n",
    "plt.show()\n",
    "\n",
    "plt.style.use('default')"
   ]
  },
  {
   "cell_type": "code",
   "execution_count": null,
   "id": "544a1a5b-3bfe-4a5c-bd4e-c59d52e486a8",
   "metadata": {},
   "outputs": [],
   "source": []
  },
  {
   "cell_type": "code",
   "execution_count": null,
   "id": "094c3120-599e-4ed8-81c1-6e7a79c6a020",
   "metadata": {},
   "outputs": [],
   "source": []
  },
  {
   "cell_type": "code",
   "execution_count": null,
   "id": "ed7896f5-2ec7-409f-9dc0-01325826dde9",
   "metadata": {},
   "outputs": [],
   "source": []
  },
  {
   "cell_type": "code",
   "execution_count": null,
   "id": "d9b2098b-170d-4ad2-b462-27927ddf4cb9",
   "metadata": {},
   "outputs": [],
   "source": []
  },
  {
   "cell_type": "code",
   "execution_count": null,
   "id": "0e22980c-f2ff-4195-9da5-3b7729d35420",
   "metadata": {},
   "outputs": [],
   "source": []
  },
  {
   "cell_type": "code",
   "execution_count": null,
   "id": "8b26c033-f515-4909-8ff7-2be75d21a984",
   "metadata": {},
   "outputs": [],
   "source": []
  },
  {
   "cell_type": "code",
   "execution_count": null,
   "id": "f3cdb0c9-b1ff-4587-9dd7-f700c56e5809",
   "metadata": {},
   "outputs": [],
   "source": []
  },
  {
   "cell_type": "code",
   "execution_count": null,
   "id": "60ff4b1e-add0-43e2-bd83-7e69fae6d2f0",
   "metadata": {},
   "outputs": [],
   "source": []
  },
  {
   "cell_type": "markdown",
   "id": "45c48694-6142-4abc-987b-9f3184d9d145",
   "metadata": {},
   "source": [
    "## 120. Matplotlib Tutorial (Part 9): Plotting Live Data in Real-Time"
   ]
  },
  {
   "cell_type": "code",
   "execution_count": null,
   "id": "84ac57cb-3201-43c7-a6e9-7230bfd981bb",
   "metadata": {},
   "outputs": [],
   "source": [
    "#plot static data\n",
    "import matplotlib.pyplot as plt\n",
    "\n",
    "x_vals = [0, 1, 2, 3, 4, 5]\n",
    "y_vals = [0, 1, 3, 2, 3, 5]\n",
    "\n",
    "plt.style.use('seaborn-v0_8')\n",
    "\n",
    "plt.plot(x_vals, y_vals, marker='o')\n",
    "plt.tight_layout()\n",
    "plt.show()\n",
    "\n",
    "plt.style.use('default')"
   ]
  },
  {
   "cell_type": "code",
   "execution_count": null,
   "id": "0464b8bb-70d3-4f90-a8cb-eea9022a320f",
   "metadata": {},
   "outputs": [],
   "source": [
    "#ex) count()\n",
    "from itertools import count\n",
    "\n",
    "iterator = count(0,2)\n",
    "[next(iterator) for i in range(10)]"
   ]
  },
  {
   "cell_type": "raw",
   "id": "e37237bf-8943-41b2-a363-484285fad408",
   "metadata": {},
   "source": [
    "#run this code on VS to see plots\n",
    "# plot live random data\n",
    "\n",
    "import random\n",
    "from itertools import count\n",
    "import pandas as pd\n",
    "import matplotlib.pyplot as plt\n",
    "from matplotlib.animation import FuncAnimation\n",
    "\n",
    "plt.style.use('seaborn-v0_8')\n",
    "\n",
    "x_vals = []\n",
    "y_vals = []\n",
    "\n",
    "index = count()\n",
    "\n",
    "def animate(i):\n",
    "    x_vals.append(next(index))\n",
    "    y_vals.append(random.randint(0, 5))\n",
    "    \n",
    "    plt.cla()\n",
    "    plt.plot(x_vals, y_vals)\n",
    "\n",
    "ani = FuncAnimation(plt.gcf(), animate, interval=1000,save_count=5)\n",
    "\n",
    "plt.tight_layout()\n",
    "plt.show()\n",
    "\n",
    "plt.style.use('default')\n",
    "\n",
    "\n",
    "# data = pd.read_csv('data.csv')\n",
    "# x = data['x_value']\n",
    "# y1 = data['total_1']\n",
    "# y2 = data['total_2']"
   ]
  },
  {
   "cell_type": "raw",
   "id": "a296ee8a-342c-40f3-a456-506ea1bfe3e1",
   "metadata": {},
   "source": [
    "#run this code on VS to see plots\n",
    "# plot live csv data\n",
    "# live simulation\n",
    "\n",
    "import random\n",
    "from itertools import count\n",
    "import pandas as pd\n",
    "import matplotlib.pyplot as plt\n",
    "from matplotlib.animation import FuncAnimation\n",
    "\n",
    "plt.style.use('seaborn-v0_8')\n",
    "\n",
    "x_vals = []\n",
    "y_vals = []\n",
    "\n",
    "index = count()\n",
    "\n",
    "def animate(i):\n",
    "    \n",
    "    data = pd.read_csv('data.csv') #data_gen.py\n",
    "    x = data['x_value']\n",
    "    y1 = data['total_1']\n",
    "    y2 = data['total_2']\n",
    "    \n",
    "    \n",
    "    plt.cla()\n",
    "    plt.plot(x, y1, label='Channel 1')\n",
    "    plt.plot(x, y2, lable='Channel 2')\n",
    "\n",
    "    plt.legend(loc='upper left')\n",
    "    plt.tight_layout()\n",
    "\n",
    "ani = FuncAnimation(plt.gcf(), animate, interval=1000,save_count=5)\n",
    "\n",
    "plt.tight_layout()\n",
    "plt.show()\n",
    "\n",
    "plt.style.use('default')"
   ]
  },
  {
   "cell_type": "markdown",
   "id": "af493779-3bce-4593-b2cd-eebde368816e",
   "metadata": {},
   "source": [
    "## 121. Matplotlib Tutorial (Part 10): Subplots"
   ]
  },
  {
   "cell_type": "code",
   "execution_count": null,
   "id": "b195dfb5-c1c2-4b8b-91bd-b45431e9452d",
   "metadata": {},
   "outputs": [],
   "source": [
    "#pyplot obj vs subplot\n",
    "import pandas as pd\n",
    "from matplotlib import pyplot as plt\n",
    "\n",
    "data = pd.read_csv('dataset/salary.csv')\n",
    "ages = data['Age']\n",
    "dev_salaries = data['All_Devs']\n",
    "py_salaries = data['Python']\n",
    "js_salaries = data['JavaScript']\n",
    "\n",
    "#pyplot obj\n",
    "plt.plot(ages, py_salaries, label='Python')\n",
    "plt.plot(ages, js_salaries, label='JavaScript')\n",
    "plt.plot(ages, dev_salaries, color='#444444', linestyle='--', label='All Devs')\n",
    "\n",
    "plt.legend()\n",
    "\n",
    "plt.title('pyplot-obj')\n",
    "plt.xlabel('Ages')\n",
    "plt.ylabel('Median Salary (USD)')\n",
    "\n",
    "plt.tight_layout()\n",
    "plt.show()\n",
    "plt.close()"
   ]
  },
  {
   "cell_type": "code",
   "execution_count": null,
   "id": "e3f2067e-d623-40e7-9c63-ed716a2764e5",
   "metadata": {},
   "outputs": [],
   "source": [
    "#subplot, Object Oriented Interface: figure(a window) and axes(acual plots)\n",
    "import pandas as pd\n",
    "from matplotlib import pyplot as plt\n",
    "\n",
    "data = pd.read_csv('dataset/salary.csv')\n",
    "ages = data['Age']\n",
    "dev_salaries = data['All_Devs']\n",
    "py_salaries = data['Python']\n",
    "js_salaries = data['JavaScript']\n",
    "\n",
    "#subplot objs\n",
    "fig, ax = plt.subplots(nrows=2, ncols=1, sharex=True)\n",
    "\n",
    "ax[0].plot(ages, py_salaries, label='Python')\n",
    "ax[0].plot(ages, js_salaries, label='JavaScript')\n",
    "ax[1].plot(ages, dev_salaries, color='#444444', linestyle='--', label='All Devs')\n",
    "\n",
    "ax[0].legend()\n",
    "ax[1].legend()\n",
    "\n",
    "ax[0].set_title('Median Salary (USD) by Age')\n",
    "ax[0].set_ylabel('Median Salary (USD)')\n",
    "ax[1].set_xlabel('Ages')\n",
    "ax[1].set_ylabel('Median Salary (USD)')\n",
    "\n",
    "plt.tight_layout()\n",
    "plt.show()\n",
    "plt.close()"
   ]
  },
  {
   "cell_type": "code",
   "execution_count": null,
   "id": "eb8fa321",
   "metadata": {},
   "outputs": [],
   "source": [
    "#subplot, two figures; plt > fig > ax\n",
    "\n",
    "#pyplot obj\n",
    "import pandas as pd\n",
    "from matplotlib import pyplot as plt\n",
    "\n",
    "data = pd.read_csv('dataset/salary.csv')\n",
    "ages = data['Age']\n",
    "dev_salaries = data['All_Devs']\n",
    "py_salaries = data['Python']\n",
    "js_salaries = data['JavaScript']\n",
    "\n",
    "#mutiple figures\n",
    "fig1, ax1 = plt.subplots()\n",
    "fig2, ax2 = plt.subplots()\n",
    "\n",
    "ax1.plot(ages, py_salaries, label='Python')\n",
    "ax1.plot(ages, js_salaries, label='JavaScript')\n",
    "ax1.legend()\n",
    "ax1.set_title('figure1')\n",
    "ax1.set_ylabel('Median Salary (USD)')\n",
    "ax1.set_xlabel('Ages')\n",
    "ax1.set_ylabel('Median Salary (USD)')\n",
    "\n",
    "ax2.plot(ages, dev_salaries, color='#444444', linestyle='--', label='All Devs')\n",
    "ax2.set_title('figure2')\n",
    "ax2.legend()\n",
    "\n",
    "plt.tight_layout()\n",
    "plt.show()\n",
    "plt.close()\n",
    "\n",
    "#save the figs\n",
    "fig1.savefig('fig1.png', bbox_inches = \"tight\")\n",
    "fig2.savefig('fig2.png', bbox_inches = \"tight\")"
   ]
  },
  {
   "attachments": {},
   "cell_type": "markdown",
   "id": "b3ba65c7-c3b4-447b-ae7f-dc49d39a7d03",
   "metadata": {
    "jp-MarkdownHeadingCollapsed": true
   },
   "source": [
    "# Pandas Tutorial\n",
    "* 128. Python Pandas Tutor ial (Part 1): Getting Started with Data Analysis - Installation and Loading Data\n",
    "* 129. Python Pandas Tutor ial (Part 2): DataFrame and Series Basics - Selecting Rows and Columns\n",
    "* 130. Python Pandas Tutor ial (Part 3): Indexes - How to Set, Reset, and Use Indexes\n",
    "* 131. Python Pandas Tutor ial (Part 4): Filtering - Using Conditionals to Filter Rows and Columns\n",
    "* 132. Python Pandas Tutor ial (Part 5): Updating Rows and Columns - Modifying Data Within DataFrames\n",
    "* 133. Python Pandas Tutor ial (Part 6): Add/Remove Rows and Columns From DataFrames\n",
    "* 134. Python Pandas Tutor ial (Part 7): Sorting Data\n",
    "* 135. Python Pandas Tutor ial (Part 8): Grouping and Aggregating - Analyzing and Exploring Your Data\n",
    "* 136. Python Pandas Tutor ial (Part 9): Cleaning Data - Casting Datatypes and Handling Missing Values\n",
    "* 137. Python Pandas Tutor ial (Part 10): Working with Dates and Time Series Data\n",
    "* 138. Python Pandas Tutor ial (Part 11): Reading/Writing Data to Different Sources - Excel, JSON, SQL, Etc"
   ]
  },
  {
   "cell_type": "markdown",
   "id": "8b26926c-b76f-4472-9477-43410bb3d347",
   "metadata": {},
   "source": [
    "## 128. Python Pandas T  utor ial (Part 1): Getting Started with Data Analysis - Installation and Loading Data"
   ]
  },
  {
   "cell_type": "markdown",
   "id": "5538c15a-7629-4c09-b382-94c33ad9fc2c",
   "metadata": {},
   "source": [
    "## 129. Python Pandas T  utor ial (Part 2): DataFrame and Series Basics - Selecting Rows and Columns"
   ]
  },
  {
   "cell_type": "markdown",
   "id": "0a0a79e8-6965-494e-93ea-da2c8399720c",
   "metadata": {},
   "source": [
    "## 130. Python Pandas T  utor ial (Part 3): Indexes - How to Set, Reset, and Use Indexes"
   ]
  },
  {
   "cell_type": "markdown",
   "id": "05bf984c-d5ea-41cb-a181-115328f1ba3c",
   "metadata": {},
   "source": [
    "## 131. Python Pandas T  utor ial (Part 4): Filtering - Using Conditionals to Filter Rows and Columns"
   ]
  },
  {
   "cell_type": "markdown",
   "id": "61722bba-993d-47fc-bdbb-f88306cbbf66",
   "metadata": {},
   "source": [
    "## 132. Python Pandas T  utor ial (Part 5): Updating Rows and Columns - Modifying Data Within DataFrames"
   ]
  },
  {
   "cell_type": "markdown",
   "id": "5ab1bf73-f23f-4e8a-b5ff-f71a31095472",
   "metadata": {},
   "source": [
    "## 133. Python Pandas T  utor ial (Part 6): Add/Remove Rows and Columns From DataFrames"
   ]
  },
  {
   "cell_type": "markdown",
   "id": "f8d15d55-a789-47b8-af15-b1dfbfee0e24",
   "metadata": {},
   "source": [
    "## 134. Python Pandas T  utor ial (Part 7): Sorting Data"
   ]
  },
  {
   "cell_type": "markdown",
   "id": "6ad24f2f-d5c9-400e-9d35-3e81cf676153",
   "metadata": {},
   "source": [
    "## 135. Python Pandas T  utor ial (Part 8): Grouping and Aggregating - Analyzing and Exploring Your Data"
   ]
  },
  {
   "cell_type": "markdown",
   "id": "5ba56452-859f-427b-adee-b80047b3b987",
   "metadata": {},
   "source": [
    "## 136. Python Pandas T  utor ial (Part 9): Cleaning Data - Casting Datatypes and Handling Missing Values"
   ]
  },
  {
   "cell_type": "markdown",
   "id": "a9e10a22-2ff3-4c2e-991b-594ba7da8a5c",
   "metadata": {},
   "source": [
    "## 137. Python Pandas T  utor ial (Part 10): Working with Dates and Time Series Data"
   ]
  },
  {
   "cell_type": "markdown",
   "id": "a3cddd36-dc07-45e6-86c6-fce107ee2551",
   "metadata": {},
   "source": [
    "## 138. Python Pandas T  utor ial (Part 11): Reading/Writing Data to Different Sources - Excel, JSON, SQL, Etc"
   ]
  },
  {
   "attachments": {},
   "cell_type": "markdown",
   "id": "974398d1-35de-485f-9d2d-d0ff8b0b71c1",
   "metadata": {},
   "source": [
    "# Python YouTube API Tutorial\n",
    "* 140\tPython YouTube API Tutorial: Getting Started - Creating an API Key and Querying the API\n",
    "* 141\tPython YouTube API Tutorial: Calculating the Duration of a Playlist\n",
    "* 142\tPython YouTube API Tutorial: Sort a Playlist by Most Popular Videos\n",
    "* 143\tPython YouTube API Tutorial: Using OAuth to Access User Accounts"
   ]
  },
  {
   "attachments": {},
   "cell_type": "markdown",
   "id": "db99a75d-5fa2-43a9-b6c5-2e66df373bab",
   "metadata": {},
   "source": [
    "## 140\tPython YouTube  API Tutorial: Getting Started - Creating an API Key and Querying the API\n",
    "## 141\tPython YouTube  API Tutorial: Calculating the Duration of a Playlist\n",
    "## 142\tPython YouTube  API Tutorial: Sort a Playlist by Most Popular Videos\n",
    "## 143\tPython YouTube  API Tutorial: Using OAuth to Access User Accounts\n"
   ]
  },
  {
   "cell_type": "code",
   "execution_count": null,
   "id": "ad2c1854-c860-497e-ad46-b197c31aeed8",
   "metadata": {},
   "outputs": [],
   "source": []
  },
  {
   "cell_type": "code",
   "execution_count": null,
   "id": "119c6444-5fcd-4c73-b32e-66eab24efd92",
   "metadata": {},
   "outputs": [],
   "source": []
  },
  {
   "cell_type": "code",
   "execution_count": null,
   "id": "ffbd9361-7630-4467-9e6a-8f2c24fdb66e",
   "metadata": {},
   "outputs": [],
   "source": []
  }
 ],
 "metadata": {
  "kernelspec": {
   "display_name": "Python 3 (ipykernel)",
   "language": "python",
   "name": "python3"
  },
  "language_info": {
   "codemirror_mode": {
    "name": "ipython",
    "version": 3
   },
   "file_extension": ".py",
   "mimetype": "text/x-python",
   "name": "python",
   "nbconvert_exporter": "python",
   "pygments_lexer": "ipython3",
   "version": "3.10.10"
  }
 },
 "nbformat": 4,
 "nbformat_minor": 5
}
